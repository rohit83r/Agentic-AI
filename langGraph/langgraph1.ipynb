{
 "cells": [
  {
   "cell_type": "code",
   "execution_count": 1,
   "id": "0b45dff4",
   "metadata": {},
   "outputs": [],
   "source": [
    "def function1(input1):\n",
    "    return input1+ \" from first function\""
   ]
  },
  {
   "cell_type": "code",
   "execution_count": 2,
   "id": "98c8aeaf",
   "metadata": {},
   "outputs": [],
   "source": [
    "def function2(input2):\n",
    "    return input2+ \" from second function\""
   ]
  },
  {
   "cell_type": "code",
   "execution_count": 3,
   "id": "d7b42519",
   "metadata": {},
   "outputs": [],
   "source": [
    "def function3(input3):\n",
    "    pass"
   ]
  },
  {
   "cell_type": "code",
   "execution_count": 4,
   "id": "ce9f1614",
   "metadata": {},
   "outputs": [
    {
     "data": {
      "text/plain": [
       "'rohit from first function'"
      ]
     },
     "execution_count": 4,
     "metadata": {},
     "output_type": "execute_result"
    }
   ],
   "source": [
    "function1(\"rohit\")"
   ]
  },
  {
   "cell_type": "code",
   "execution_count": 5,
   "id": "88aaa686",
   "metadata": {},
   "outputs": [
    {
     "data": {
      "text/plain": [
       "'srivas from second function'"
      ]
     },
     "execution_count": 5,
     "metadata": {},
     "output_type": "execute_result"
    }
   ],
   "source": [
    "function2(\"srivas\")"
   ]
  },
  {
   "cell_type": "code",
   "execution_count": 14,
   "id": "6ea33281",
   "metadata": {},
   "outputs": [],
   "source": [
    "from langgraph.graph import StateGraph"
   ]
  },
  {
   "cell_type": "code",
   "execution_count": 16,
   "id": "89a3c323",
   "metadata": {},
   "outputs": [],
   "source": [
    "workflow1=StateGraph(dict)"
   ]
  },
  {
   "cell_type": "code",
   "execution_count": 18,
   "id": "97b5e079",
   "metadata": {},
   "outputs": [
    {
     "data": {
      "text/plain": [
       "<langgraph.graph.state.StateGraph at 0x26b0ab5ead0>"
      ]
     },
     "execution_count": 18,
     "metadata": {},
     "output_type": "execute_result"
    }
   ],
   "source": [
    "workflow1.add_node(\"fun1\",function1)"
   ]
  },
  {
   "cell_type": "code",
   "execution_count": 19,
   "id": "508e02d2",
   "metadata": {},
   "outputs": [
    {
     "data": {
      "text/plain": [
       "<langgraph.graph.state.StateGraph at 0x26b0ab5ead0>"
      ]
     },
     "execution_count": 19,
     "metadata": {},
     "output_type": "execute_result"
    }
   ],
   "source": [
    "workflow1.add_node(\"fun2\",function2)"
   ]
  },
  {
   "cell_type": "code",
   "execution_count": 20,
   "id": "b320e690",
   "metadata": {},
   "outputs": [
    {
     "data": {
      "text/plain": [
       "<langgraph.graph.state.StateGraph at 0x26b0ab5ead0>"
      ]
     },
     "execution_count": 20,
     "metadata": {},
     "output_type": "execute_result"
    }
   ],
   "source": [
    "workflow1.add_edge(\"fun1\",\"fun2\")"
   ]
  },
  {
   "cell_type": "code",
   "execution_count": 21,
   "id": "279ff7a3",
   "metadata": {},
   "outputs": [
    {
     "data": {
      "text/plain": [
       "<langgraph.graph.state.StateGraph at 0x26b0ab5ead0>"
      ]
     },
     "execution_count": 21,
     "metadata": {},
     "output_type": "execute_result"
    }
   ],
   "source": [
    "workflow1.set_entry_point(\"fun1\")"
   ]
  },
  {
   "cell_type": "code",
   "execution_count": 22,
   "id": "92a28382",
   "metadata": {},
   "outputs": [
    {
     "data": {
      "text/plain": [
       "<langgraph.graph.state.StateGraph at 0x26b0ab5ead0>"
      ]
     },
     "execution_count": 22,
     "metadata": {},
     "output_type": "execute_result"
    }
   ],
   "source": [
    "workflow1.set_finish_point(\"fun2\")"
   ]
  },
  {
   "cell_type": "code",
   "execution_count": 23,
   "id": "cba558f4",
   "metadata": {},
   "outputs": [],
   "source": [
    "app=workflow1.compile()"
   ]
  },
  {
   "cell_type": "code",
   "execution_count": 24,
   "id": "15cdf302",
   "metadata": {},
   "outputs": [
    {
     "data": {
      "text/plain": [
       "Graph(nodes={'__start__': Node(id='__start__', name='__start__', data=RunnableCallable(tags=None, recurse=True, explode_args=False, func_accepts_config=False, func_accepts={}), metadata=None), 'fun1': Node(id='fun1', name='fun1', data=fun1(tags=None, recurse=True, explode_args=False, func_accepts_config=False, func_accepts={}), metadata=None), 'fun2': Node(id='fun2', name='fun2', data=fun2(tags=None, recurse=True, explode_args=False, func_accepts_config=False, func_accepts={}), metadata=None), '__end__': Node(id='__end__', name='__end__', data=None, metadata=None)}, edges=[Edge(source='__start__', target='fun1', data=None, conditional=False), Edge(source='fun1', target='fun2', data=None, conditional=False), Edge(source='fun2', target='__end__', data=None, conditional=False)])"
      ]
     },
     "execution_count": 24,
     "metadata": {},
     "output_type": "execute_result"
    }
   ],
   "source": [
    "app.get_graph()"
   ]
  },
  {
   "cell_type": "code",
   "execution_count": 25,
   "id": "106810d7",
   "metadata": {},
   "outputs": [],
   "source": [
    "from IPython.display import display,Image"
   ]
  },
  {
   "cell_type": "code",
   "execution_count": 27,
   "id": "55e7ccd0",
   "metadata": {},
   "outputs": [
    {
     "data": {
      "image/png": "[encoded data removed]",
      "text/plain": [
       "<IPython.core.display.Image object>"
      ]
     },
     "metadata": {},
     "output_type": "display_data"
    }
   ],
   "source": [
    "display(Image(app.get_graph().draw_mermaid_png()))"
   ]
  },
  {
   "cell_type": "code",
   "execution_count": 29,
   "id": "5d6634e5",
   "metadata": {},
   "outputs": [
    {
     "data": {
      "text/plain": [
       "'Hi myself rohit from first function from second function'"
      ]
     },
     "execution_count": 29,
     "metadata": {},
     "output_type": "execute_result"
    }
   ],
   "source": [
    "app.invoke(\"Hi myself rohit\")"
   ]
  },
  {
   "cell_type": "code",
   "execution_count": 31,
   "id": "641a550c",
   "metadata": {},
   "outputs": [
    {
     "name": "stdout",
     "output_type": "stream",
     "text": [
      "here is output from fun1\n",
      "_______\n",
      "Hi myself rohit from first function\n",
      "\n",
      "\n",
      "here is output from fun2\n",
      "_______\n",
      "Hi myself rohit from first function from second function\n",
      "\n",
      "\n"
     ]
    }
   ],
   "source": [
    "for output in app.stream(\"Hi myself rohit\"):\n",
    "    for key,value in output.items():\n",
    "        print(f\"here is output from {key}\")\n",
    "        print(\"_______\")\n",
    "        print(value)\n",
    "        print(\"\\n\")"
   ]
  },
  {
   "cell_type": "code",
   "execution_count": 33,
   "id": "3c8a0e4d",
   "metadata": {},
   "outputs": [],
   "source": [
    "from langchain_google_genai import ChatGoogleGenerativeAI\n",
    "model=ChatGoogleGenerativeAI(model='gemini-1.5-flash')"
   ]
  },
  {
   "cell_type": "code",
   "execution_count": 34,
   "id": "7480083f",
   "metadata": {},
   "outputs": [
    {
     "data": {
      "text/plain": [
       "AIMessage(content='Hello Rohit!  How can I help you today?', additional_kwargs={}, response_metadata={'prompt_feedback': {'block_reason': 0, 'safety_ratings': []}, 'finish_reason': 'STOP', 'model_name': 'gemini-1.5-flash', 'safety_ratings': []}, id='run--f9831aba-8a11-47f0-965f-6f231c953f16-0', usage_metadata={'input_tokens': 4, 'output_tokens': 12, 'total_tokens': 16, 'input_token_details': {'cache_read': 0}})"
      ]
     },
     "execution_count": 34,
     "metadata": {},
     "output_type": "execute_result"
    }
   ],
   "source": [
    "model.invoke(\"Hi myself rohit\")"
   ]
  },
  {
   "cell_type": "code",
   "execution_count": 37,
   "id": "8a7abcf5",
   "metadata": {},
   "outputs": [],
   "source": [
    "def llm(input): \n",
    "    from langchain_google_genai import ChatGoogleGenerativeAI\n",
    "    model=ChatGoogleGenerativeAI(model='gemini-1.5-flash')\n",
    "    output=model.invoke(input)\n",
    "    return output.content"
   ]
  },
  {
   "cell_type": "code",
   "execution_count": 40,
   "id": "480104c6",
   "metadata": {},
   "outputs": [],
   "source": [
    "def token_counter(input):\n",
    "    token=input.split()\n",
    "    token_number=len(token)\n",
    "    return f\"total token number in the generated text is {token_number}\""
   ]
  },
  {
   "cell_type": "code",
   "execution_count": 42,
   "id": "1eed579c",
   "metadata": {},
   "outputs": [
    {
     "data": {
      "text/plain": [
       "<langgraph.graph.state.StateGraph at 0x26b0d20d310>"
      ]
     },
     "execution_count": 42,
     "metadata": {},
     "output_type": "execute_result"
    }
   ],
   "source": [
    "workflow2=StateGraph(dict)\n",
    "workflow2.add_node(\"llm\",llm)\n",
    "workflow2.add_node(\"token_counter\",token_counter)"
   ]
  },
  {
   "cell_type": "code",
   "execution_count": 43,
   "id": "f153a72d",
   "metadata": {},
   "outputs": [
    {
     "data": {
      "text/plain": [
       "<langgraph.graph.state.StateGraph at 0x26b0d20d310>"
      ]
     },
     "execution_count": 43,
     "metadata": {},
     "output_type": "execute_result"
    }
   ],
   "source": [
    "workflow2.add_edge(\"llm\",\"token_counter\")\n",
    "workflow2.set_entry_point(\"llm\")\n",
    "workflow2.set_finish_point(\"token_counter\")"
   ]
  },
  {
   "cell_type": "code",
   "execution_count": 44,
   "id": "1963c0ce",
   "metadata": {},
   "outputs": [
    {
     "data": {
      "text/plain": [
       "'total token number in the generated text is 8'"
      ]
     },
     "execution_count": 44,
     "metadata": {},
     "output_type": "execute_result"
    }
   ],
   "source": [
    "app2=workflow2.compile()\n",
    "app2.invoke(\"Hi myself rohit\")"
   ]
  },
  {
   "cell_type": "code",
   "execution_count": 45,
   "id": "e9ef1283",
   "metadata": {},
   "outputs": [
    {
     "data": {
      "image/png": "[encoded data removed]",
      "text/plain": [
       "<IPython.core.display.Image object>"
      ]
     },
     "metadata": {},
     "output_type": "display_data"
    }
   ],
   "source": [
    "display(Image(app2.get_graph().draw_mermaid_png()))"
   ]
  },
  {
   "cell_type": "code",
   "execution_count": 47,
   "id": "71f4a0b7",
   "metadata": {},
   "outputs": [
    {
     "data": {
      "text/plain": [
       "'total token number in the generated text is 600'"
      ]
     },
     "execution_count": 47,
     "metadata": {},
     "output_type": "execute_result"
    }
   ],
   "source": [
    "app2.invoke(\"explain transformers in nlp\")"
   ]
  },
  {
   "cell_type": "code",
   "execution_count": 50,
   "id": "c47cb47f",
   "metadata": {},
   "outputs": [
    {
     "name": "stdout",
     "output_type": "stream",
     "text": [
      "here is output from llm\n",
      "_______\n",
      "Transformers are a type of neural network architecture that have revolutionized Natural Language Processing (NLP).  Unlike previous recurrent neural networks (RNNs) like LSTMs and GRUs, transformers don't process sequences sequentially, allowing for much greater parallelization and efficiency, especially on long sequences.  Their core innovation lies in the **self-attention mechanism**.\n",
      "\n",
      "Here's a breakdown:\n",
      "\n",
      "**1. The Self-Attention Mechanism:**\n",
      "\n",
      "This is the heart of the transformer.  Instead of processing words one by one, self-attention allows the model to consider the relationship between *all* words in a sentence simultaneously.  For each word, it calculates a \"weighted sum\" of all other words in the sentence, where the weights represent the importance of each word in relation to the current word.\n",
      "\n",
      "This is done through three learned matrices:\n",
      "\n",
      "* **Query (Q):** Represents the current word's \"query\" – what information it's looking for.\n",
      "* **Key (K):** Represents each word's \"key\" – the information it offers.\n",
      "* **Value (V):** Represents each word's \"value\" – the actual information to be used in the weighted sum.\n",
      "\n",
      "The attention weights are calculated using the dot product of the query and keys, followed by a softmax function to normalize the weights into a probability distribution.  This weighted sum of values then represents the context-aware representation of the current word.\n",
      "\n",
      "**2. Multi-Head Attention:**\n",
      "\n",
      "Instead of using a single self-attention mechanism, transformers typically employ *multi-head attention*. This means they use multiple sets of (Q, K, V) matrices, allowing the model to capture different aspects of the relationships between words.  The outputs of the multiple attention heads are then concatenated and linearly transformed.\n",
      "\n",
      "**3. Encoder-Decoder Structure (often, but not always):**\n",
      "\n",
      "Many transformer models, like the original Transformer and those used for machine translation, follow an encoder-decoder structure:\n",
      "\n",
      "* **Encoder:** Processes the input sequence (e.g., a sentence in English) and creates a contextualized representation of it.  It typically consists of multiple layers of self-attention and feed-forward neural networks.\n",
      "* **Decoder:** Processes the encoder's output and generates the output sequence (e.g., a sentence in French).  It uses both self-attention (to attend to previously generated words) and *encoder-decoder attention* (to attend to the encoder's output).\n",
      "\n",
      "**4. Positional Encoding:**\n",
      "\n",
      "Since transformers process words in parallel, they inherently lack information about the order of words.  Positional encoding is added to the input embeddings to provide information about the position of each word in the sequence.\n",
      "\n",
      "**5. Feed-Forward Networks:**\n",
      "\n",
      "Between the self-attention layers, transformers use fully connected feed-forward networks to further process the information.\n",
      "\n",
      "**Why Transformers are Successful:**\n",
      "\n",
      "* **Parallelization:**  The self-attention mechanism allows for parallel processing, making training much faster than RNNs.\n",
      "* **Long-Range Dependencies:**  Self-attention can effectively capture relationships between words far apart in a sentence, which is a challenge for RNNs.\n",
      "* **Scalability:**  Transformers can be scaled to handle very large datasets and long sequences.\n",
      "\n",
      "\n",
      "**Examples of Transformer Models in NLP:**\n",
      "\n",
      "* **BERT (Bidirectional Encoder Representations from Transformers):**  A powerful encoder-only model used for various NLP tasks like question answering and text classification.\n",
      "* **GPT (Generative Pre-trained Transformer):**  A decoder-only model used primarily for text generation tasks.\n",
      "* **T5 (Text-to-Text Transfer Transformer):**  Frames all NLP tasks as text-to-text problems, using a unified encoder-decoder architecture.\n",
      "\n",
      "\n",
      "In short, transformers are a powerful and versatile architecture that has significantly advanced the state-of-the-art in many NLP tasks due to their ability to efficiently process sequences and capture long-range dependencies through the self-attention mechanism.\n",
      "\n",
      "\n",
      "here is output from token_counter\n",
      "_______\n",
      "total token number in the generated text is 551\n",
      "\n",
      "\n"
     ]
    }
   ],
   "source": [
    "for output in app2.stream(\"explain transformers in nlp\"):\n",
    "    for key,value in output.items():\n",
    "        print(f\"here is output from {key}\")\n",
    "        print(\"_______\")\n",
    "        print(value)\n",
    "        print(\"\\n\")"
   ]
  }
 ],
 "metadata": {
  "kernelspec": {
   "display_name": "Python 3",
   "language": "python",
   "name": "python3"
  },
  "language_info": {
   "codemirror_mode": {
    "name": "ipython",
    "version": 3
   },
   "file_extension": ".py",
   "mimetype": "text/x-python",
   "name": "python",
   "nbconvert_exporter": "python",
   "pygments_lexer": "ipython3",
   "version": "3.13.5"
  }
 },
 "nbformat": 4,
 "nbformat_minor": 5
}
