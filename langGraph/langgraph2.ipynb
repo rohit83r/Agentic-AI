{
 "cells": [
  {
   "cell_type": "code",
   "execution_count": 11,
   "id": "9c9da6a3",
   "metadata": {},
   "outputs": [
    {
     "data": {
      "text/plain": [
       "True"
      ]
     },
     "execution_count": 11,
     "metadata": {},
     "output_type": "execute_result"
    }
   ],
   "source": [
    "import os\n",
    "from dotenv import load_dotenv\n",
    "load_dotenv()"
   ]
  },
  {
   "cell_type": "code",
   "execution_count": 12,
   "id": "84c5df25",
   "metadata": {},
   "outputs": [],
   "source": [
    "os.environ['GOOGLE_API_KEY']=os.getenv(\"GOOGLE_API_KEY\")"
   ]
  },
  {
   "cell_type": "code",
   "execution_count": 14,
   "id": "03e4ced3",
   "metadata": {},
   "outputs": [
    {
     "name": "stdout",
     "output_type": "stream",
     "text": [
      "Natural Language Processing (NLP) is a branch of artificial intelligence (AI) that focuses on enabling computers to understand, interpret, and generate human language.  In simpler terms, it's about teaching computers to \"read\" and \"write\" in a way that's meaningful and useful.\n",
      "\n",
      "Here's a breakdown of key aspects:\n",
      "\n",
      "**What NLP does:**\n",
      "\n",
      "* **Understanding Language:** This involves tasks like:\n",
      "    * **Tokenization:** Breaking down text into individual words or units (tokens).\n",
      "    * **Part-of-Speech (POS) Tagging:** Identifying the grammatical role of each word (noun, verb, adjective, etc.).\n",
      "    * **Named Entity Recognition (NER):** Identifying and classifying named entities like people, organizations, locations, etc.\n",
      "    * **Sentiment Analysis:** Determining the emotional tone of a text (positive, negative, neutral).\n",
      "    * **Word Sense Disambiguation:** Determining the correct meaning of a word based on its context.\n",
      "    * **Parsing:** Analyzing the grammatical structure of a sentence.\n",
      "\n",
      "* **Generating Language:** This involves tasks like:\n",
      "    * **Machine Translation:** Translating text from one language to another.\n",
      "    * **Text Summarization:** Generating concise summaries of longer texts.\n",
      "    * **Question Answering:** Answering questions posed in natural language.\n",
      "    * **Dialogue Systems (Chatbots):** Building systems that can engage in conversations with humans.\n",
      "    * **Text Generation:** Creating new text, like poems, code, or articles.\n",
      "\n",
      "**How NLP works:**\n",
      "\n",
      "NLP relies heavily on various techniques, including:\n",
      "\n",
      "* **Rule-based systems:**  These systems use predefined grammatical rules and dictionaries to process language.  They are simpler but less flexible and struggle with ambiguity.\n",
      "* **Statistical methods:** These methods use statistical models trained on large datasets of text and speech to predict language patterns.  They are more adaptable and can handle ambiguity better.\n",
      "* **Machine learning (ML) and deep learning (DL):** These powerful techniques allow computers to learn complex patterns from data without explicit programming.  Deep learning, especially with neural networks like Recurrent Neural Networks (RNNs) and Transformers, has revolutionized NLP, leading to significant improvements in accuracy and performance.\n",
      "\n",
      "**Examples of NLP applications:**\n",
      "\n",
      "NLP powers many applications we use daily, including:\n",
      "\n",
      "* **Search engines:** Understanding search queries and returning relevant results.\n",
      "* **Chatbots:** Providing automated customer service and support.\n",
      "* **Virtual assistants:** Answering questions, setting reminders, and performing tasks based on voice commands.\n",
      "* **Machine translation:** Translating text and speech between different languages.\n",
      "* **Spam filters:** Identifying and filtering unwanted emails.\n",
      "* **Social media monitoring:** Analyzing social media posts to understand public opinion.\n",
      "* **Medical diagnosis support:** Assisting doctors in diagnosing illnesses based on patient records.\n",
      "\n",
      "\n",
      "**Challenges in NLP:**\n",
      "\n",
      "Despite significant advancements, NLP still faces challenges such as:\n",
      "\n",
      "* **Ambiguity:**  Human language is inherently ambiguous, with words and sentences having multiple possible meanings.\n",
      "* **Contextual understanding:**  Understanding the meaning of words and sentences requires considering the context in which they are used.\n",
      "* **Sarcasm and irony:**  Detecting sarcasm and irony remains a significant challenge for NLP systems.\n",
      "* **Data sparsity:**  Some languages have limited available data for training NLP models.\n",
      "\n",
      "\n",
      "In summary, NLP is a rapidly evolving field with a wide range of applications. As the technology continues to advance, we can expect even more sophisticated and impactful applications in the future.\n"
     ]
    }
   ],
   "source": [
    "# config the  model\n",
    "from langchain_google_genai import ChatGoogleGenerativeAI\n",
    "model=ChatGoogleGenerativeAI(model='gemini-1.5-flash')\n",
    "output=model.invoke(\"explain nlp\")\n",
    "print(output.content)"
   ]
  },
  {
   "cell_type": "markdown",
   "id": "04d3cb29",
   "metadata": {},
   "source": [
    "Config the embeddings model"
   ]
  },
  {
   "cell_type": "code",
   "execution_count": 16,
   "id": "531f5fc0",
   "metadata": {},
   "outputs": [
    {
     "data": {
      "text/plain": [
       "384"
      ]
     },
     "execution_count": 16,
     "metadata": {},
     "output_type": "execute_result"
    }
   ],
   "source": [
    "from langchain_huggingface import HuggingFaceEmbeddings\n",
    "embeddings=HuggingFaceEmbeddings(model_name=\"sentence-transformers/all-MiniLM-L6-v2\")\n",
    "len(embeddings.embed_query(\"Today is a good day\"))"
   ]
  },
  {
   "cell_type": "markdown",
   "id": "4d8cb142",
   "metadata": {},
   "source": [
    "Lets take a data set, embedd it and store in the db"
   ]
  },
  {
   "cell_type": "code",
   "execution_count": 17,
   "id": "5c64c8d0",
   "metadata": {},
   "outputs": [],
   "source": [
    "from langchain_community.document_loaders import TextLoader, DirectoryLoader\n",
    "from langchain_community.vectorstores import Chroma\n",
    "from langchain.text_splitter import RecursiveCharacterTextSplitter"
   ]
  },
  {
   "cell_type": "code",
   "execution_count": 19,
   "id": "8e24a81f",
   "metadata": {},
   "outputs": [
    {
     "data": {
      "text/plain": [
       "\"🇺🇸 Overview of the U.S. Economy\\nThe United States of America possesses the largest economy in the world in terms of nominal GDP, making it the most powerful economic force globally. It operates under a capitalist mixed economy, where the private sector dominates, but the government plays a significant regulatory and fiscal role. With a population of over 335 million people and a high level of technological advancement, the U.S. economy thrives on a foundation of consumer spending, innovation, global trade, and financial services. It has a highly diversified structure with strong sectors in technology, healthcare, finance, real estate, defense, and agriculture.\\n\\nU.S. GDP – Size, Composition, and Global Share\\nAs of 2024, the United States’ nominal GDP is estimated to be around $28 trillion USD, accounting for approximately 25% of the global economy. It ranks #1 in the world by nominal GDP, far ahead of China (which ranks 2nd). The U.S. GDP per capita is also among the highest, hovering around $83,000, which indicates a high standard of living and productivity. In terms of Purchasing Power Parity (PPP), the U.S. ranks second, but nominal GDP is considered more reflective of actual economic size and financial influence.\\n\\nThe GDP is predominantly driven by the services sector, which contributes more than 77% to the total GDP. This includes industries such as finance, insurance, real estate, healthcare, education, and information technology. The industrial sector (manufacturing, construction, mining) makes up around 19%, while agriculture, although technologically advanced and export-oriented, contributes only about 1%. Despite its small share in GDP, U.S. agriculture is globally significant in terms of productivity and exports.\\n\\nGDP Growth Trends and Dynamics\\nHistorically, the U.S. economy has enjoyed consistent long-term growth, averaging around 2-3% annually. Post-pandemic, the economy bounced back strongly, but 2022 and 2023 saw rising inflation due to supply chain issues and stimulus-driven demand. In 2024, the U.S. GDP grew at a modest pace of around 2.1%, as the Federal Reserve’s interest rate hikes aimed at controlling inflation also moderated economic expansion. Consumer spending, which makes up nearly 70% of GDP, remains a dominant force in economic stability.\\n\\nThe U.S. maintains its GDP growth through strong innovation, entrepreneurship, and investment in R&D. With companies like Apple, Google, Amazon, Microsoft, and Tesla leading global markets, the U.S. consistently produces high value across sectors, especially in technology and advanced services. Additionally, the economy benefits from intellectual property exports, financial services, and higher education, all of which contribute significantly to GDP through both domestic and international markets.\\n\\nRole in the Global Economy\\nThe U.S. Dollar (USD) is the global reserve currency, held by over 60% of the world’s central bank reserves. This gives the U.S. an enormous advantage in global trade and borrowing. The U.S. is a key member of international institutions like the World Bank, IMF, G7, G20, and WTO, and plays a central role in setting global economic policy.\\n\\nAs a global innovation hub, the U.S. attracts billions in foreign investment and hosts many of the world's largest and most valuable companies. Its exports include high-tech machinery, aircraft, pharmaceuticals, semiconductors, and financial services, while its imports cover consumer goods, electronics, automobiles, and industrial materials. The trade deficit remains large (around $900 billion in 2024), primarily because the U.S. consumes more than it exports, but its ability to finance this through capital inflows and reserve currency status sustains balance.\\n\\nKey Economic Strengths\\nThe core strength of the U.S. economy lies in its flexible labor market, deep capital markets, technological superiority, and legal system that encourages innovation and property rights. It has a large, highly educated workforce, a diverse immigration pipeline, and access to vast natural resources including oil, gas, coal, and farmland. The presence of top-tier universities and research institutions fuels the knowledge economy, with billions spent annually on R&D—over $700 billion USD, more than any other country.\\n\\nThe U.S. leads in many critical sectors, including software, biotechnology, aerospace, defense, financial services, and media. Its startup ecosystem, especially in Silicon Valley, produces unicorns and tech giants at a scale unmatched globally. Its financial markets—particularly Wall Street—are the most liquid and globally integrated in the world.\\n\\nChallenges and Structural Issues\\nDespite its strength, the U.S. economy faces several serious long-term issues. The national debt has surpassed $34 trillion USD, raising concerns about fiscal sustainability, especially as interest payments alone are growing rapidly. The income and wealth inequality gap has widened, with a small percentage of Americans owning a disproportionate share of wealth. Access to affordable healthcare, housing shortages, and a declining labor force participation in some sectors are additional structural issues.\\n\\nAnother growing concern is political polarization, which often stalls crucial economic reforms and budget agreements, as seen in recurrent debt ceiling crises. The U.S. also faces challenges from global competition, especially from China in areas like AI, semiconductors, and green technology. Moreover, climate change, cybersecurity threats, and geopolitical risks (like Ukraine and Taiwan conflicts) add layers of vulnerability to economic planning.\\n\\nFuture Outlook (2025–2030)\\nLooking forward, the U.S. economy is expected to grow at a moderate pace, powered by innovation in AI, green energy, robotics, biotech, and quantum computing. The Biden administration’s Inflation Reduction Act and CHIPS Act are pumping massive investments into semiconductors, clean energy, and infrastructure. There is a strong push for reshoring of manufacturing, especially in critical sectors like chips, pharmaceuticals, and batteries.\\n\\nHowever, economic leadership will depend on managing the national debt, reforming entitlement programs, upgrading infrastructure, and ensuring the next generation is equipped with digital-age skills. If the U.S. can handle these challenges, it is well-positioned to remain a global economic powerhouse through 2030 and beyond.\\n\\nFinal Summary\\nThe U.S. economy remains the engine of global growth, backed by unmatched innovation, financial dominance, and a strong institutional framework. Its $28 trillion GDP and influence over global finance, trade, and technology make it the centerpiece of the modern economic system. Yet, rising debt, inequality, political gridlock, and competition from emerging powers demand careful policy navigation. If successfully addressed, the U.S. will continue to dominate the global economy well into the future.\""
      ]
     },
     "execution_count": 19,
     "metadata": {},
     "output_type": "execute_result"
    }
   ],
   "source": [
    "loader=DirectoryLoader(\"../data\",glob=\"*.txt\",loader_cls=TextLoader)\n",
    "docs=loader.load()\n",
    "docs[0].page_content"
   ]
  },
  {
   "cell_type": "code",
   "execution_count": 20,
   "id": "81d9d039",
   "metadata": {},
   "outputs": [
    {
     "data": {
      "text/plain": [
       "[Document(metadata={'source': '..\\\\data\\\\usa.txt'}, page_content='🇺🇸 Overview of the U.S. Economy'),\n",
       " Document(metadata={'source': '..\\\\data\\\\usa.txt'}, page_content='The United States of America possesses the largest economy in the world in terms of nominal GDP, making it the most powerful economic force globally. It operates under a capitalist mixed economy, where the private sector dominates, but the government plays a significant regulatory and fiscal role. With a population of over 335 million people and a high level of technological advancement, the U.S. economy thrives on a foundation of consumer spending, innovation, global trade, and financial'),\n",
       " Document(metadata={'source': '..\\\\data\\\\usa.txt'}, page_content='and financial services. It has a highly diversified structure with strong sectors in technology, healthcare, finance, real estate, defense, and agriculture.'),\n",
       " Document(metadata={'source': '..\\\\data\\\\usa.txt'}, page_content='U.S. GDP – Size, Composition, and Global Share'),\n",
       " Document(metadata={'source': '..\\\\data\\\\usa.txt'}, page_content='As of 2024, the United States’ nominal GDP is estimated to be around $28 trillion USD, accounting for approximately 25% of the global economy. It ranks #1 in the world by nominal GDP, far ahead of China (which ranks 2nd). The U.S. GDP per capita is also among the highest, hovering around $83,000, which indicates a high standard of living and productivity. In terms of Purchasing Power Parity (PPP), the U.S. ranks second, but nominal GDP is considered more reflective of actual economic size and'),\n",
       " Document(metadata={'source': '..\\\\data\\\\usa.txt'}, page_content='economic size and financial influence.'),\n",
       " Document(metadata={'source': '..\\\\data\\\\usa.txt'}, page_content='The GDP is predominantly driven by the services sector, which contributes more than 77% to the total GDP. This includes industries such as finance, insurance, real estate, healthcare, education, and information technology. The industrial sector (manufacturing, construction, mining) makes up around 19%, while agriculture, although technologically advanced and export-oriented, contributes only about 1%. Despite its small share in GDP, U.S. agriculture is globally significant in terms of'),\n",
       " Document(metadata={'source': '..\\\\data\\\\usa.txt'}, page_content='in terms of productivity and exports.'),\n",
       " Document(metadata={'source': '..\\\\data\\\\usa.txt'}, page_content='GDP Growth Trends and Dynamics'),\n",
       " Document(metadata={'source': '..\\\\data\\\\usa.txt'}, page_content='Historically, the U.S. economy has enjoyed consistent long-term growth, averaging around 2-3% annually. Post-pandemic, the economy bounced back strongly, but 2022 and 2023 saw rising inflation due to supply chain issues and stimulus-driven demand. In 2024, the U.S. GDP grew at a modest pace of around 2.1%, as the Federal Reserve’s interest rate hikes aimed at controlling inflation also moderated economic expansion. Consumer spending, which makes up nearly 70% of GDP, remains a dominant force in'),\n",
       " Document(metadata={'source': '..\\\\data\\\\usa.txt'}, page_content='a dominant force in economic stability.'),\n",
       " Document(metadata={'source': '..\\\\data\\\\usa.txt'}, page_content='The U.S. maintains its GDP growth through strong innovation, entrepreneurship, and investment in R&D. With companies like Apple, Google, Amazon, Microsoft, and Tesla leading global markets, the U.S. consistently produces high value across sectors, especially in technology and advanced services. Additionally, the economy benefits from intellectual property exports, financial services, and higher education, all of which contribute significantly to GDP through both domestic and international'),\n",
       " Document(metadata={'source': '..\\\\data\\\\usa.txt'}, page_content='and international markets.'),\n",
       " Document(metadata={'source': '..\\\\data\\\\usa.txt'}, page_content='Role in the Global Economy\\nThe U.S. Dollar (USD) is the global reserve currency, held by over 60% of the world’s central bank reserves. This gives the U.S. an enormous advantage in global trade and borrowing. The U.S. is a key member of international institutions like the World Bank, IMF, G7, G20, and WTO, and plays a central role in setting global economic policy.'),\n",
       " Document(metadata={'source': '..\\\\data\\\\usa.txt'}, page_content=\"As a global innovation hub, the U.S. attracts billions in foreign investment and hosts many of the world's largest and most valuable companies. Its exports include high-tech machinery, aircraft, pharmaceuticals, semiconductors, and financial services, while its imports cover consumer goods, electronics, automobiles, and industrial materials. The trade deficit remains large (around $900 billion in 2024), primarily because the U.S. consumes more than it exports, but its ability to finance this\"),\n",
       " Document(metadata={'source': '..\\\\data\\\\usa.txt'}, page_content='to finance this through capital inflows and reserve currency status sustains balance.'),\n",
       " Document(metadata={'source': '..\\\\data\\\\usa.txt'}, page_content='Key Economic Strengths'),\n",
       " Document(metadata={'source': '..\\\\data\\\\usa.txt'}, page_content='The core strength of the U.S. economy lies in its flexible labor market, deep capital markets, technological superiority, and legal system that encourages innovation and property rights. It has a large, highly educated workforce, a diverse immigration pipeline, and access to vast natural resources including oil, gas, coal, and farmland. The presence of top-tier universities and research institutions fuels the knowledge economy, with billions spent annually on R&D—over $700 billion USD, more'),\n",
       " Document(metadata={'source': '..\\\\data\\\\usa.txt'}, page_content='billion USD, more than any other country.'),\n",
       " Document(metadata={'source': '..\\\\data\\\\usa.txt'}, page_content='The U.S. leads in many critical sectors, including software, biotechnology, aerospace, defense, financial services, and media. Its startup ecosystem, especially in Silicon Valley, produces unicorns and tech giants at a scale unmatched globally. Its financial markets—particularly Wall Street—are the most liquid and globally integrated in the world.'),\n",
       " Document(metadata={'source': '..\\\\data\\\\usa.txt'}, page_content='Challenges and Structural Issues'),\n",
       " Document(metadata={'source': '..\\\\data\\\\usa.txt'}, page_content='Despite its strength, the U.S. economy faces several serious long-term issues. The national debt has surpassed $34 trillion USD, raising concerns about fiscal sustainability, especially as interest payments alone are growing rapidly. The income and wealth inequality gap has widened, with a small percentage of Americans owning a disproportionate share of wealth. Access to affordable healthcare, housing shortages, and a declining labor force participation in some sectors are additional structural'),\n",
       " Document(metadata={'source': '..\\\\data\\\\usa.txt'}, page_content='structural issues.'),\n",
       " Document(metadata={'source': '..\\\\data\\\\usa.txt'}, page_content='Another growing concern is political polarization, which often stalls crucial economic reforms and budget agreements, as seen in recurrent debt ceiling crises. The U.S. also faces challenges from global competition, especially from China in areas like AI, semiconductors, and green technology. Moreover, climate change, cybersecurity threats, and geopolitical risks (like Ukraine and Taiwan conflicts) add layers of vulnerability to economic planning.'),\n",
       " Document(metadata={'source': '..\\\\data\\\\usa.txt'}, page_content='Future Outlook (2025–2030)\\nLooking forward, the U.S. economy is expected to grow at a moderate pace, powered by innovation in AI, green energy, robotics, biotech, and quantum computing. The Biden administration’s Inflation Reduction Act and CHIPS Act are pumping massive investments into semiconductors, clean energy, and infrastructure. There is a strong push for reshoring of manufacturing, especially in critical sectors like chips, pharmaceuticals, and batteries.'),\n",
       " Document(metadata={'source': '..\\\\data\\\\usa.txt'}, page_content='However, economic leadership will depend on managing the national debt, reforming entitlement programs, upgrading infrastructure, and ensuring the next generation is equipped with digital-age skills. If the U.S. can handle these challenges, it is well-positioned to remain a global economic powerhouse through 2030 and beyond.'),\n",
       " Document(metadata={'source': '..\\\\data\\\\usa.txt'}, page_content='Final Summary'),\n",
       " Document(metadata={'source': '..\\\\data\\\\usa.txt'}, page_content='The U.S. economy remains the engine of global growth, backed by unmatched innovation, financial dominance, and a strong institutional framework. Its $28 trillion GDP and influence over global finance, trade, and technology make it the centerpiece of the modern economic system. Yet, rising debt, inequality, political gridlock, and competition from emerging powers demand careful policy navigation. If successfully addressed, the U.S. will continue to dominate the global economy well into the'),\n",
       " Document(metadata={'source': '..\\\\data\\\\usa.txt'}, page_content='well into the future.')]"
      ]
     },
     "execution_count": 20,
     "metadata": {},
     "output_type": "execute_result"
    }
   ],
   "source": [
    "text_splitter=RecursiveCharacterTextSplitter(chunk_size=500,chunk_overlap=20)\n",
    "new_docs=text_splitter.split_documents(docs)\n",
    "new_docs"
   ]
  },
  {
   "cell_type": "code",
   "execution_count": 21,
   "id": "3fc70891",
   "metadata": {},
   "outputs": [
    {
     "data": {
      "text/plain": [
       "['🇺🇸 Overview of the U.S. Economy',\n",
       " 'The United States of America possesses the largest economy in the world in terms of nominal GDP, making it the most powerful economic force globally. It operates under a capitalist mixed economy, where the private sector dominates, but the government plays a significant regulatory and fiscal role. With a population of over 335 million people and a high level of technological advancement, the U.S. economy thrives on a foundation of consumer spending, innovation, global trade, and financial',\n",
       " 'and financial services. It has a highly diversified structure with strong sectors in technology, healthcare, finance, real estate, defense, and agriculture.',\n",
       " 'U.S. GDP – Size, Composition, and Global Share',\n",
       " 'As of 2024, the United States’ nominal GDP is estimated to be around $28 trillion USD, accounting for approximately 25% of the global economy. It ranks #1 in the world by nominal GDP, far ahead of China (which ranks 2nd). The U.S. GDP per capita is also among the highest, hovering around $83,000, which indicates a high standard of living and productivity. In terms of Purchasing Power Parity (PPP), the U.S. ranks second, but nominal GDP is considered more reflective of actual economic size and',\n",
       " 'economic size and financial influence.',\n",
       " 'The GDP is predominantly driven by the services sector, which contributes more than 77% to the total GDP. This includes industries such as finance, insurance, real estate, healthcare, education, and information technology. The industrial sector (manufacturing, construction, mining) makes up around 19%, while agriculture, although technologically advanced and export-oriented, contributes only about 1%. Despite its small share in GDP, U.S. agriculture is globally significant in terms of',\n",
       " 'in terms of productivity and exports.',\n",
       " 'GDP Growth Trends and Dynamics',\n",
       " 'Historically, the U.S. economy has enjoyed consistent long-term growth, averaging around 2-3% annually. Post-pandemic, the economy bounced back strongly, but 2022 and 2023 saw rising inflation due to supply chain issues and stimulus-driven demand. In 2024, the U.S. GDP grew at a modest pace of around 2.1%, as the Federal Reserve’s interest rate hikes aimed at controlling inflation also moderated economic expansion. Consumer spending, which makes up nearly 70% of GDP, remains a dominant force in',\n",
       " 'a dominant force in economic stability.',\n",
       " 'The U.S. maintains its GDP growth through strong innovation, entrepreneurship, and investment in R&D. With companies like Apple, Google, Amazon, Microsoft, and Tesla leading global markets, the U.S. consistently produces high value across sectors, especially in technology and advanced services. Additionally, the economy benefits from intellectual property exports, financial services, and higher education, all of which contribute significantly to GDP through both domestic and international',\n",
       " 'and international markets.',\n",
       " 'Role in the Global Economy\\nThe U.S. Dollar (USD) is the global reserve currency, held by over 60% of the world’s central bank reserves. This gives the U.S. an enormous advantage in global trade and borrowing. The U.S. is a key member of international institutions like the World Bank, IMF, G7, G20, and WTO, and plays a central role in setting global economic policy.',\n",
       " \"As a global innovation hub, the U.S. attracts billions in foreign investment and hosts many of the world's largest and most valuable companies. Its exports include high-tech machinery, aircraft, pharmaceuticals, semiconductors, and financial services, while its imports cover consumer goods, electronics, automobiles, and industrial materials. The trade deficit remains large (around $900 billion in 2024), primarily because the U.S. consumes more than it exports, but its ability to finance this\",\n",
       " 'to finance this through capital inflows and reserve currency status sustains balance.',\n",
       " 'Key Economic Strengths',\n",
       " 'The core strength of the U.S. economy lies in its flexible labor market, deep capital markets, technological superiority, and legal system that encourages innovation and property rights. It has a large, highly educated workforce, a diverse immigration pipeline, and access to vast natural resources including oil, gas, coal, and farmland. The presence of top-tier universities and research institutions fuels the knowledge economy, with billions spent annually on R&D—over $700 billion USD, more',\n",
       " 'billion USD, more than any other country.',\n",
       " 'The U.S. leads in many critical sectors, including software, biotechnology, aerospace, defense, financial services, and media. Its startup ecosystem, especially in Silicon Valley, produces unicorns and tech giants at a scale unmatched globally. Its financial markets—particularly Wall Street—are the most liquid and globally integrated in the world.',\n",
       " 'Challenges and Structural Issues',\n",
       " 'Despite its strength, the U.S. economy faces several serious long-term issues. The national debt has surpassed $34 trillion USD, raising concerns about fiscal sustainability, especially as interest payments alone are growing rapidly. The income and wealth inequality gap has widened, with a small percentage of Americans owning a disproportionate share of wealth. Access to affordable healthcare, housing shortages, and a declining labor force participation in some sectors are additional structural',\n",
       " 'structural issues.',\n",
       " 'Another growing concern is political polarization, which often stalls crucial economic reforms and budget agreements, as seen in recurrent debt ceiling crises. The U.S. also faces challenges from global competition, especially from China in areas like AI, semiconductors, and green technology. Moreover, climate change, cybersecurity threats, and geopolitical risks (like Ukraine and Taiwan conflicts) add layers of vulnerability to economic planning.',\n",
       " 'Future Outlook (2025–2030)\\nLooking forward, the U.S. economy is expected to grow at a moderate pace, powered by innovation in AI, green energy, robotics, biotech, and quantum computing. The Biden administration’s Inflation Reduction Act and CHIPS Act are pumping massive investments into semiconductors, clean energy, and infrastructure. There is a strong push for reshoring of manufacturing, especially in critical sectors like chips, pharmaceuticals, and batteries.',\n",
       " 'However, economic leadership will depend on managing the national debt, reforming entitlement programs, upgrading infrastructure, and ensuring the next generation is equipped with digital-age skills. If the U.S. can handle these challenges, it is well-positioned to remain a global economic powerhouse through 2030 and beyond.',\n",
       " 'Final Summary',\n",
       " 'The U.S. economy remains the engine of global growth, backed by unmatched innovation, financial dominance, and a strong institutional framework. Its $28 trillion GDP and influence over global finance, trade, and technology make it the centerpiece of the modern economic system. Yet, rising debt, inequality, political gridlock, and competition from emerging powers demand careful policy navigation. If successfully addressed, the U.S. will continue to dominate the global economy well into the',\n",
       " 'well into the future.']"
      ]
     },
     "execution_count": 21,
     "metadata": {},
     "output_type": "execute_result"
    }
   ],
   "source": [
    "doc_string = [doc.page_content for doc in new_docs]\n",
    "doc_string"
   ]
  },
  {
   "cell_type": "code",
   "execution_count": 22,
   "id": "7178a004",
   "metadata": {},
   "outputs": [
    {
     "data": {
      "text/plain": [
       "29"
      ]
     },
     "execution_count": 22,
     "metadata": {},
     "output_type": "execute_result"
    }
   ],
   "source": [
    "len(doc_string)"
   ]
  },
  {
   "cell_type": "code",
   "execution_count": 26,
   "id": "c50950ae",
   "metadata": {},
   "outputs": [],
   "source": [
    "db=Chroma.from_documents(new_docs,embeddings)\n",
    "retriever=db.as_retriever(search_kwargs={\"k\":5})"
   ]
  },
  {
   "cell_type": "code",
   "execution_count": 27,
   "id": "9bd3a2b0",
   "metadata": {},
   "outputs": [
    {
     "data": {
      "text/plain": [
       "[Document(metadata={'source': '..\\\\data\\\\usa.txt'}, page_content='U.S. GDP – Size, Composition, and Global Share'),\n",
       " Document(metadata={'source': '..\\\\data\\\\usa.txt'}, page_content='As of 2024, the United States’ nominal GDP is estimated to be around $28 trillion USD, accounting for approximately 25% of the global economy. It ranks #1 in the world by nominal GDP, far ahead of China (which ranks 2nd). The U.S. GDP per capita is also among the highest, hovering around $83,000, which indicates a high standard of living and productivity. In terms of Purchasing Power Parity (PPP), the U.S. ranks second, but nominal GDP is considered more reflective of actual economic size and'),\n",
       " Document(metadata={'source': '..\\\\data\\\\usa.txt'}, page_content='The U.S. maintains its GDP growth through strong innovation, entrepreneurship, and investment in R&D. With companies like Apple, Google, Amazon, Microsoft, and Tesla leading global markets, the U.S. consistently produces high value across sectors, especially in technology and advanced services. Additionally, the economy benefits from intellectual property exports, financial services, and higher education, all of which contribute significantly to GDP through both domestic and international'),\n",
       " Document(metadata={'source': '..\\\\data\\\\usa.txt'}, page_content='The United States of America possesses the largest economy in the world in terms of nominal GDP, making it the most powerful economic force globally. It operates under a capitalist mixed economy, where the private sector dominates, but the government plays a significant regulatory and fiscal role. With a population of over 335 million people and a high level of technological advancement, the U.S. economy thrives on a foundation of consumer spending, innovation, global trade, and financial'),\n",
       " Document(metadata={'source': '..\\\\data\\\\usa.txt'}, page_content='🇺🇸 Overview of the U.S. Economy')]"
      ]
     },
     "execution_count": 27,
     "metadata": {},
     "output_type": "execute_result"
    }
   ],
   "source": [
    "retriever.invoke(\"Gdp of the usa\")"
   ]
  },
  {
   "cell_type": "markdown",
   "id": "ed7bfd4b",
   "metadata": {},
   "source": [
    "Creation of the pydantic Class"
   ]
  },
  {
   "cell_type": "code",
   "execution_count": 31,
   "id": "d3b91119",
   "metadata": {},
   "outputs": [],
   "source": [
    "import operator\n",
    "from typing import List,TypedDict,Annotated,Sequence\n",
    "from pydantic import BaseModel,Field\n",
    "from langchain_core.messages import BaseMessage,HumanMessage,AIMessage\n",
    "from langchain_core.output_parsers import StrOutputParser,PydanticOutputParser\n",
    "from langchain_core.prompts import PromptTemplate,ChatPromptTemplate\n",
    "from langchain_core.runnables import RunnablePassthrough\n",
    "from langgraph.graph import StateGraph,END"
   ]
  },
  {
   "cell_type": "code",
   "execution_count": 32,
   "id": "76c6fc89",
   "metadata": {},
   "outputs": [],
   "source": [
    "class TopicSelectionParser(BaseModel):\n",
    "    Topic:str=Field(description=\"The topic selected\")\n",
    "    Reasoning:str=Field(description=\"The reasoning behind the topic selection\")"
   ]
  },
  {
   "cell_type": "code",
   "execution_count": 33,
   "id": "91bfa6f2",
   "metadata": {},
   "outputs": [
    {
     "data": {
      "text/plain": [
       "'The output should be formatted as a JSON instance that conforms to the JSON schema below.\\n\\nAs an example, for the schema {\"properties\": {\"foo\": {\"title\": \"Foo\", \"description\": \"a list of strings\", \"type\": \"array\", \"items\": {\"type\": \"string\"}}}, \"required\": [\"foo\"]}\\nthe object {\"foo\": [\"bar\", \"baz\"]} is a well-formatted instance of the schema. The object {\"properties\": {\"foo\": [\"bar\", \"baz\"]}} is not well-formatted.\\n\\nHere is the output schema:\\n```\\n{\"properties\": {\"Topic\": {\"description\": \"The topic selected\", \"title\": \"Topic\", \"type\": \"string\"}, \"Reasoning\": {\"description\": \"The reasoning behind the topic selection\", \"title\": \"Reasoning\", \"type\": \"string\"}}, \"required\": [\"Topic\", \"Reasoning\"]}\\n```'"
      ]
     },
     "execution_count": 33,
     "metadata": {},
     "output_type": "execute_result"
    }
   ],
   "source": [
    "parser=PydanticOutputParser(pydantic_object=TopicSelectionParser)\n",
    "parser.get_format_instructions()"
   ]
  },
  {
   "cell_type": "markdown",
   "id": "0ab20c85",
   "metadata": {},
   "source": [
    "\n",
    "this below agentstate is just for the explnation like how state works"
   ]
  },
  {
   "cell_type": "code",
   "execution_count": 34,
   "id": "b0ed37ef",
   "metadata": {},
   "outputs": [],
   "source": [
    "AgentState={}"
   ]
  },
  {
   "cell_type": "code",
   "execution_count": 41,
   "id": "f86bc354",
   "metadata": {},
   "outputs": [],
   "source": [
    "AgentState[\"messages\"]=[]"
   ]
  },
  {
   "cell_type": "code",
   "execution_count": 42,
   "id": "5d1dd663",
   "metadata": {},
   "outputs": [],
   "source": [
    "AgentState[\"messages\"].append(\"Hello\")\n",
    "AgentState[\"messages\"].append(\"Hi\")"
   ]
  },
  {
   "cell_type": "code",
   "execution_count": 43,
   "id": "edc8d977",
   "metadata": {},
   "outputs": [
    {
     "data": {
      "text/plain": [
       "{'messages': ['Hello', 'Hi']}"
      ]
     },
     "execution_count": 43,
     "metadata": {},
     "output_type": "execute_result"
    }
   ],
   "source": [
    "AgentState"
   ]
  },
  {
   "cell_type": "code",
   "execution_count": 46,
   "id": "47e77fd0",
   "metadata": {},
   "outputs": [],
   "source": [
    "AgentState[\"messages\"].append(\"i hope everything fine\")"
   ]
  },
  {
   "cell_type": "code",
   "execution_count": 47,
   "id": "9c72ecd0",
   "metadata": {},
   "outputs": [
    {
     "data": {
      "text/plain": [
       "{'messages': ['Hello', 'Hi', 'i hope everything fine']}"
      ]
     },
     "execution_count": 47,
     "metadata": {},
     "output_type": "execute_result"
    }
   ],
   "source": [
    "AgentState"
   ]
  },
  {
   "cell_type": "code",
   "execution_count": 48,
   "id": "2fc74052",
   "metadata": {},
   "outputs": [
    {
     "data": {
      "text/plain": [
       "'i hope everything fine'"
      ]
     },
     "execution_count": 48,
     "metadata": {},
     "output_type": "execute_result"
    }
   ],
   "source": [
    "AgentState['messages'][-1]"
   ]
  },
  {
   "cell_type": "code",
   "execution_count": 49,
   "id": "96758be1",
   "metadata": {},
   "outputs": [
    {
     "data": {
      "text/plain": [
       "'Hello'"
      ]
     },
     "execution_count": 49,
     "metadata": {},
     "output_type": "execute_result"
    }
   ],
   "source": [
    "AgentState['messages'][0]"
   ]
  },
  {
   "cell_type": "markdown",
   "id": "67ef52fe",
   "metadata": {},
   "source": [
    "this agentstate class you need to inside the stategraph"
   ]
  },
  {
   "cell_type": "code",
   "execution_count": 50,
   "id": "d2a826f0",
   "metadata": {},
   "outputs": [],
   "source": [
    "class AgentState(TypedDict):\n",
    "    messages:Annotated[Sequence[BaseMessage],operator.add]"
   ]
  },
  {
   "cell_type": "code",
   "execution_count": 51,
   "id": "d387a45a",
   "metadata": {},
   "outputs": [],
   "source": [
    "state={\n",
    "    \"messages\":[\n",
    "    \"hi\"\n",
    "]}"
   ]
  },
  {
   "cell_type": "code",
   "execution_count": 52,
   "id": "c62bd326",
   "metadata": {},
   "outputs": [],
   "source": [
    "state=\"hiiiiii\""
   ]
  },
  {
   "cell_type": "code",
   "execution_count": 53,
   "id": "64a95806",
   "metadata": {},
   "outputs": [
    {
     "data": {
      "text/plain": [
       "'hiiiiii'"
      ]
     },
     "execution_count": 53,
     "metadata": {},
     "output_type": "execute_result"
    }
   ],
   "source": [
    "state"
   ]
  },
  {
   "cell_type": "code",
   "execution_count": 54,
   "id": "03ed94e8",
   "metadata": {},
   "outputs": [],
   "source": [
    "def function1(state:AgentState):\n",
    "    question=state['messages'][-1]\n",
    "    print(\"Question:\",question)\n",
    "\n",
    "    template=\"\"\"\n",
    "Your task is to classify the given user query into one of the following categories: [USA,Not Related]. \n",
    "    Only respond with the category name and nothing else.\n",
    "\n",
    "    User query: {question}\n",
    "    {format_instructions}\n",
    "\"\"\"\n",
    "\n",
    "    prompt=PromptTemplate(\n",
    "        template=template,\n",
    "        input_variables=[\"question\"],\n",
    "        partial_variables={\"format_instructions\":parser.get_format_instructions()}\n",
    "    )\n",
    "\n",
    "    chain= prompt | model | parser\n",
    "    response=chain.invoke({\"question\":question})\n",
    "    print(\"Parseed Response:\",response)\n",
    "\n",
    "    return {\"messages\":[response.Topic]}"
   ]
  },
  {
   "cell_type": "code",
   "execution_count": 55,
   "id": "4b89d339",
   "metadata": {},
   "outputs": [],
   "source": [
    "state={'messages':[\"today;s weather\"]}"
   ]
  },
  {
   "cell_type": "code",
   "execution_count": 56,
   "id": "8ebb1177",
   "metadata": {},
   "outputs": [
    {
     "name": "stdout",
     "output_type": "stream",
     "text": [
      "Question: today;s weather\n",
      "Parseed Response: Topic='Not Related' Reasoning=\"The query is a general weather request and doesn't specify a location, making it unrelated to the USA.\"\n"
     ]
    },
    {
     "data": {
      "text/plain": [
       "{'messages': ['Not Related']}"
      ]
     },
     "execution_count": 56,
     "metadata": {},
     "output_type": "execute_result"
    }
   ],
   "source": [
    "function1(state)"
   ]
  },
  {
   "cell_type": "code",
   "execution_count": 57,
   "id": "4cd13b0f",
   "metadata": {},
   "outputs": [],
   "source": [
    "state={\"messages\":[\"gdp of superpower\"]}"
   ]
  },
  {
   "cell_type": "code",
   "execution_count": 58,
   "id": "72d2d382",
   "metadata": {},
   "outputs": [
    {
     "name": "stdout",
     "output_type": "stream",
     "text": [
      "Question: gdp of superpower\n",
      "Parseed Response: Topic='USA' Reasoning='The query mentions \"superpower\", which could refer to the USA.  GDP is a common economic indicator, and the USA\\'s GDP is frequently discussed.'\n"
     ]
    },
    {
     "data": {
      "text/plain": [
       "{'messages': ['USA']}"
      ]
     },
     "execution_count": 58,
     "metadata": {},
     "output_type": "execute_result"
    }
   ],
   "source": [
    "function1(state)"
   ]
  },
  {
   "cell_type": "code",
   "execution_count": 59,
   "id": "91038b57",
   "metadata": {},
   "outputs": [],
   "source": [
    "def router(state:AgentState):\n",
    "    print(\"-> Router ->\")\n",
    "\n",
    "    last_message=state['messages'][-1]\n",
    "    print(\"Last Message:\",last_message)\n",
    "\n",
    "    if \"usa\" in last_message.lower():\n",
    "        return \"RAG CALL\"\n",
    "    else:\n",
    "        return \"LLM CALL\""
   ]
  },
  {
   "cell_type": "code",
   "execution_count": 60,
   "id": "9a09739e",
   "metadata": {},
   "outputs": [],
   "source": [
    "def format_docs(docs):\n",
    "    return \"\\n\\n\".join(doc.page_content for doc in docs)"
   ]
  },
  {
   "cell_type": "code",
   "execution_count": 61,
   "id": "4a418e14",
   "metadata": {},
   "outputs": [],
   "source": [
    "#RAG Function\n",
    "def function2(state:AgentState):\n",
    "    print(\"-> RAG CALL ->\")\n",
    "\n",
    "    question = state[\"messages\"][0]\\\n",
    "    \n",
    "    prompt=PromptTemplate(\n",
    "        template=\"\"\"You are an assistant for question-answering tasks. Use the following pieces of retrieved context to answer the question. If you don't know the answer, just say that you don't know. Use three sentences maximum and keep the answer concise.\\nQuestion: {question} \\nContext: {context} \\nAnswer:\"\"\",\n",
    "        \n",
    "        input_variables=['context', 'question']\n",
    "    )\n",
    "\n",
    "    rag_chain=(\n",
    "        {\"context\":retriever | format_docs , \"question\":RunnablePassthrough()} \n",
    "        | prompt \n",
    "        | model \n",
    "        | StrOutputParser()\n",
    "    )\n",
    "\n",
    "    result=rag_chain.invoke(question)\n",
    "\n",
    "    return {\"messages\":[result]}"
   ]
  },
  {
   "cell_type": "code",
   "execution_count": 62,
   "id": "cf40e871",
   "metadata": {},
   "outputs": [],
   "source": [
    "## LLM Function\n",
    "def function3(state:AgentState):\n",
    "    print(\"-> LLM CALL ->\")\n",
    "\n",
    "    question=state[\"messages\"][0]\n",
    "\n",
    "    complete_query = \"Anwer the follow question with you knowledge of the real world. Following is the user question: \" + question\n",
    "    response = model.invoke(complete_query)\n",
    "    return {\"messages\": [response.content]}\n"
   ]
  },
  {
   "cell_type": "code",
   "execution_count": 66,
   "id": "2f6edc81",
   "metadata": {},
   "outputs": [],
   "source": [
    "from langgraph.graph import StateGraph,END\n",
    "workflow=StateGraph(AgentState)"
   ]
  },
  {
   "cell_type": "code",
   "execution_count": 67,
   "id": "fe62482b",
   "metadata": {},
   "outputs": [
    {
     "data": {
      "text/plain": [
       "<langgraph.graph.state.StateGraph at 0x1ccd6395450>"
      ]
     },
     "execution_count": 67,
     "metadata": {},
     "output_type": "execute_result"
    }
   ],
   "source": [
    "workflow.add_node(\"Supervisor\",function1)\n",
    "workflow.add_node(\"RAG\",function2)\n",
    "workflow.add_node(\"LLM\",function3)\n"
   ]
  },
  {
   "cell_type": "code",
   "execution_count": 68,
   "id": "5c4019ec",
   "metadata": {},
   "outputs": [
    {
     "data": {
      "text/plain": [
       "<langgraph.graph.state.StateGraph at 0x1ccd6395450>"
      ]
     },
     "execution_count": 68,
     "metadata": {},
     "output_type": "execute_result"
    }
   ],
   "source": [
    "workflow.set_entry_point(\"Supervisor\")"
   ]
  },
  {
   "cell_type": "code",
   "execution_count": 69,
   "id": "68163e5d",
   "metadata": {},
   "outputs": [
    {
     "data": {
      "text/plain": [
       "<langgraph.graph.state.StateGraph at 0x1ccd6395450>"
      ]
     },
     "execution_count": 69,
     "metadata": {},
     "output_type": "execute_result"
    }
   ],
   "source": [
    "workflow.add_conditional_edges(\n",
    "    \"Supervisor\",\n",
    "    router,\n",
    "    {\n",
    "        \"RAG CALL\":\"RAG\",\n",
    "        \"LLM CALL\":\"LLM\"\n",
    "    }\n",
    ")"
   ]
  },
  {
   "cell_type": "code",
   "execution_count": 71,
   "id": "3acf8989",
   "metadata": {},
   "outputs": [
    {
     "data": {
      "text/plain": [
       "<langgraph.graph.state.StateGraph at 0x1ccd6395450>"
      ]
     },
     "execution_count": 71,
     "metadata": {},
     "output_type": "execute_result"
    }
   ],
   "source": [
    "workflow.add_edge(\"RAG\",END)\n",
    "workflow.add_edge(\"LLM\",END)"
   ]
  },
  {
   "cell_type": "code",
   "execution_count": 73,
   "id": "11f92afa",
   "metadata": {},
   "outputs": [],
   "source": [
    "app=workflow.compile()"
   ]
  },
  {
   "cell_type": "markdown",
   "id": "8f91dab1",
   "metadata": {},
   "source": [
    "Flow chart"
   ]
  },
  {
   "cell_type": "code",
   "execution_count": 89,
   "id": "547a2f7a",
   "metadata": {},
   "outputs": [
    {
     "data": {
      "image/png": "[encoded data removed]",
      "text/plain": [
       "<IPython.core.display.Image object>"
      ]
     },
     "metadata": {},
     "output_type": "display_data"
    }
   ],
   "source": [
    "from IPython.display import Image, display\n",
    "display(Image(app.get_graph().draw_mermaid_png()))"
   ]
  },
  {
   "cell_type": "code",
   "execution_count": 75,
   "id": "1d1f18bb",
   "metadata": {},
   "outputs": [],
   "source": [
    "state={'messages':[\"today;s weather\"]}"
   ]
  },
  {
   "cell_type": "code",
   "execution_count": 76,
   "id": "6b941a3f",
   "metadata": {},
   "outputs": [
    {
     "name": "stdout",
     "output_type": "stream",
     "text": [
      "Question: today;s weather\n",
      "Parseed Response: Topic='Not Related' Reasoning=\"The query is a general weather request and doesn't specify a location, therefore it's not related to the USA.\"\n",
      "-> Router ->\n",
      "Last Message: Not Related\n",
      "-> LLM CALL ->\n"
     ]
    },
    {
     "data": {
      "text/plain": [
       "{'messages': ['today;s weather',\n",
       "  'Not Related',\n",
       "  \"I do not have access to real-time information, including current weather.  To get today's weather, please check a reliable weather source such as:\\n\\n* **A weather app on your smartphone:** Most smartphones come with a pre-installed weather app, or you can download one from your app store.\\n* **A weather website:** Many websites provide detailed weather forecasts, such as AccuWeather, The Weather Channel, or your national meteorological service's website.\\n* **A smart home device:** If you have a smart speaker (like Alexa or Google Home), you can ask it for the weather.\\n* **Local news:** Television and radio news broadcasts often include weather reports.\"]}"
      ]
     },
     "execution_count": 76,
     "metadata": {},
     "output_type": "execute_result"
    }
   ],
   "source": [
    "app.invoke(state)"
   ]
  },
  {
   "cell_type": "code",
   "execution_count": 83,
   "id": "1d88deeb",
   "metadata": {},
   "outputs": [],
   "source": [
    "state={'messages':[\"GDP of usa\"]}"
   ]
  },
  {
   "cell_type": "code",
   "execution_count": 84,
   "id": "66d9c44f",
   "metadata": {},
   "outputs": [
    {
     "name": "stdout",
     "output_type": "stream",
     "text": [
      "Question: GDP of usa\n",
      "Parseed Response: Topic='USA' Reasoning='The query explicitly asks for the GDP of the USA.'\n",
      "-> Router ->\n",
      "Last Message: USA\n",
      "-> RAG CALL ->\n"
     ]
    },
    {
     "data": {
      "text/plain": [
       "{'messages': ['GDP of usa',\n",
       "  'USA',\n",
       "  \"The nominal GDP of the USA is approximately $28 trillion USD as of 2024.  This makes it the world's largest economy, accounting for roughly 25% of global GDP.  The US GDP per capita is also very high, around $83,000.\"]}"
      ]
     },
     "execution_count": 84,
     "metadata": {},
     "output_type": "execute_result"
    }
   ],
   "source": [
    "app.invoke(state)"
   ]
  },
  {
   "cell_type": "code",
   "execution_count": 86,
   "id": "128612df",
   "metadata": {},
   "outputs": [
    {
     "name": "stdout",
     "output_type": "stream",
     "text": [
      "Question: can you tell me the industrial growth of world's most powerful economy?\n",
      "Parseed Response: Topic='USA' Reasoning=\"The query asks about the industrial growth of the world's most powerful economy, which is generally considered to be the USA.\"\n",
      "-> Router ->\n",
      "Last Message: USA\n",
      "-> RAG CALL ->\n"
     ]
    },
    {
     "data": {
      "text/plain": [
       "{'messages': [\"can you tell me the industrial growth of world's most powerful economy?\",\n",
       "  'USA',\n",
       "  \"The provided text states the U.S. has the world's largest economy by nominal GDP.  However, it doesn't offer specific data on industrial growth rates.  Therefore, I cannot answer your question about the industrial growth of the world's most powerful economy.\"]}"
      ]
     },
     "execution_count": 86,
     "metadata": {},
     "output_type": "execute_result"
    }
   ],
   "source": [
    "state={\"messages\":[\"can you tell me the industrial growth of world's most powerful economy?\"]}\n",
    "app.invoke(state)"
   ]
  },
  {
   "cell_type": "code",
   "execution_count": 87,
   "id": "a433592a",
   "metadata": {},
   "outputs": [
    {
     "name": "stdout",
     "output_type": "stream",
     "text": [
      "Question: can you tell me the industrial growth of world's poor economy?\n",
      "Parseed Response: Topic='Not Related' Reasoning=\"The query asks about the industrial growth of the world's poor economies, which is a global issue not specific to the USA.\"\n",
      "-> Router ->\n",
      "Last Message: Not Related\n",
      "-> LLM CALL ->\n"
     ]
    },
    {
     "data": {
      "text/plain": [
       "{'messages': [\"can you tell me the industrial growth of world's poor economy?\",\n",
       "  'Not Related',\n",
       "  'There\\'s no single, easily quantifiable answer to \"the industrial growth of the world\\'s poor economies.\"  The term \"poor economies\" itself is subjective and depends on the metric used (e.g., GDP per capita, poverty rate, Human Development Index).  Furthermore, industrial growth varies wildly across different countries and regions classified as \"poor.\"\\n\\nHowever, we can make some general observations:\\n\\n* **Uneven Growth:** Industrial growth in poorer economies is highly uneven. Some countries have experienced significant industrialization and economic takeoff (e.g., some Southeast Asian nations), while others remain largely agrarian with limited industrial development.  This disparity is influenced by factors like access to resources, infrastructure, education, political stability, and global economic conditions.\\n\\n* **Shifting Manufacturing:**  A significant portion of manufacturing, particularly labor-intensive industries, has shifted from developed nations to some developing countries, driving industrial growth in those specific locations.  This often comes with complexities, including exploitation of labor and environmental concerns.\\n\\n* **Challenges to Industrialization:** Many poor economies face significant challenges hindering industrial development. These include:\\n    * **Lack of infrastructure:** Inadequate transportation, energy, and communication networks.\\n    * **Limited access to finance:** Difficulty securing loans and investment capital.\\n    * **Political instability and corruption:** Deterrents to foreign investment and domestic entrepreneurship.\\n    * **Human capital limitations:** Shortages of skilled labor and technological expertise.\\n    * **Dependence on primary commodities:**  Vulnerability to price fluctuations in global markets.\\n    * **Climate change:** Increasingly impacting agriculture and other sectors.\\n\\n* **Measuring Industrial Growth:**  Data collection in many poor economies is unreliable or incomplete, making accurate measurements of industrial growth difficult.  Official statistics may not fully reflect the informal economy, which often constitutes a significant portion of industrial activity.\\n\\nIn summary, while some poor economies have experienced industrial growth, it\\'s far from uniform.  The overall picture is complex and characterized by significant disparities, challenges, and ongoing debates about the best strategies for sustainable and inclusive industrial development.  To get a more precise answer, one would need to specify a region or country and define \"poor economy\" using a particular metric.']}"
      ]
     },
     "execution_count": 87,
     "metadata": {},
     "output_type": "execute_result"
    }
   ],
   "source": [
    "\n",
    "state={\"messages\":[\"can you tell me the industrial growth of world's poor economy?\"]}\n",
    "app.invoke(state)"
   ]
  },
  {
   "cell_type": "code",
   "execution_count": 88,
   "id": "93d0f31b",
   "metadata": {},
   "outputs": [
    {
     "name": "stdout",
     "output_type": "stream",
     "text": [
      "Question: can you tell me the industrial growth of world's poor economy?\n",
      "Parseed Response: Topic='Not Related' Reasoning=\"The query asks about the industrial growth of the world's poor economies, which is a global issue not specific to the USA.\"\n",
      "-> Router ->\n",
      "Last Message: Not Related\n",
      "-> LLM CALL ->\n"
     ]
    },
    {
     "data": {
      "text/plain": [
       "'The industrial growth of the world\\'s poorest economies is a complex and multifaceted issue, lacking a single, easily quantifiable answer.  There\\'s no universally agreed-upon definition of \"poor economy,\" and data collection in these regions is often unreliable or incomplete. However, we can make some general observations:\\n\\n* **Uneven Growth:** Industrial growth is highly uneven across the poorest economies. Some countries are experiencing significant growth in specific sectors (e.g., garment manufacturing in Bangladesh, resource extraction in some African nations), while others remain largely agrarian with minimal industrial development.  This unevenness is heavily influenced by factors like access to infrastructure, investment, political stability, and global market conditions.\\n\\n* **Limited Industrial Diversification:** Many poor economies rely heavily on a few primary industries, often extractive (mining, agriculture) or low-value-added manufacturing (garment production). This lack of diversification makes them vulnerable to price fluctuations and global economic shocks.  A lack of technological advancement also limits growth potential.\\n\\n* **Challenges to Industrialization:**  Numerous hurdles hinder industrial growth in poor economies, including:\\n    * **Lack of infrastructure:** Inadequate transportation, energy, and communication networks hamper industrial development.\\n    * **Limited access to finance:** Small businesses and entrepreneurs often struggle to secure loans and investment capital.\\n    * **Weak governance and corruption:**  Inefficient bureaucracies, corruption, and lack of rule of law deter investment and hinder economic activity.\\n    * **Human capital limitations:**  A lack of skilled labor and education limits productivity and innovation.\\n    * **Global trade imbalances:**  Unfair trade practices and protectionist policies in wealthier nations can disadvantage poorer economies.\\n    * **Climate change impacts:**  Many poor economies are disproportionately affected by climate change, which can damage infrastructure and agricultural output.\\n\\n\\n* **Recent Trends:** While some progress has been made, particularly in certain regions of Asia, overall industrial growth in the poorest economies lags significantly behind wealthier nations.  The COVID-19 pandemic and the ongoing war in Ukraine have further exacerbated existing challenges, disrupting supply chains and increasing poverty.\\n\\nIn short, there\\'s no single \"growth rate\" to cite.  The picture is one of varied experiences, significant challenges, and uneven progress.  To understand the situation in a specific country or region, one needs to examine individual economic indicators, contextual factors, and ongoing policy initiatives.'"
      ]
     },
     "execution_count": 88,
     "metadata": {},
     "output_type": "execute_result"
    }
   ],
   "source": [
    "result=app.invoke(state)\n",
    "result['messages'][-1]"
   ]
  }
 ],
 "metadata": {
  "kernelspec": {
   "display_name": "Python 3",
   "language": "python",
   "name": "python3"
  },
  "language_info": {
   "codemirror_mode": {
    "name": "ipython",
    "version": 3
   },
   "file_extension": ".py",
   "mimetype": "text/x-python",
   "name": "python",
   "nbconvert_exporter": "python",
   "pygments_lexer": "ipython3",
   "version": "3.13.5"
  }
 },
 "nbformat": 4,
 "nbformat_minor": 5
}
