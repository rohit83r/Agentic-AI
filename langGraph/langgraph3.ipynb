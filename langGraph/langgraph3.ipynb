{
 "cells": [
  {
   "cell_type": "code",
   "execution_count": 128,
   "id": "0299765b",
   "metadata": {},
   "outputs": [
    {
     "data": {
      "text/plain": [
       "True"
      ]
     },
     "execution_count": 128,
     "metadata": {},
     "output_type": "execute_result"
    }
   ],
   "source": [
    "import os\n",
    "from dotenv import load_dotenv\n",
    "load_dotenv()"
   ]
  },
  {
   "cell_type": "code",
   "execution_count": 129,
   "id": "0dc60326",
   "metadata": {},
   "outputs": [
    {
     "data": {
      "text/plain": [
       "AIMessage(content='The capital of France is Paris.', additional_kwargs={}, response_metadata={'token_usage': {'completion_tokens': 8, 'prompt_tokens': 17, 'total_tokens': 25, 'completion_time': 0.019650929, 'prompt_time': 0.003000436, 'queue_time': 0.09775945700000001, 'total_time': 0.022651365}, 'model_name': 'meta-llama/llama-4-scout-17b-16e-instruct', 'system_fingerprint': 'fp_37da608fc1', 'finish_reason': 'stop', 'logprobs': None}, id='run--23e665f5-726f-473b-b252-85d99193ce2f-0', usage_metadata={'input_tokens': 17, 'output_tokens': 8, 'total_tokens': 25})"
      ]
     },
     "execution_count": 129,
     "metadata": {},
     "output_type": "execute_result"
    }
   ],
   "source": [
    "model=\"meta-llama/llama-4-scout-17b-16e-instruct\"\n",
    "from langchain_groq import ChatGroq\n",
    "llm=ChatGroq(model_name=model)\n",
    "llm.invoke(\"What is the capital of France?\")"
   ]
  },
  {
   "cell_type": "code",
   "execution_count": 130,
   "id": "0b87b4c5",
   "metadata": {},
   "outputs": [
    {
     "name": "stdout",
     "output_type": "stream",
     "text": [
      "The capital of France is Paris.\n"
     ]
    }
   ],
   "source": [
    "print(llm.invoke(\"What is the capital of France?\").content)"
   ]
  },
  {
   "cell_type": "code",
   "execution_count": 131,
   "id": "36e4c833",
   "metadata": {},
   "outputs": [],
   "source": [
    "from langchain_core.tools import tool\n",
    "from langchain_core.messages import HumanMessage,AIMessage\n",
    "from langgraph.graph import StateGraph,END,START,MessagesState\n",
    "from langgraph.prebuilt import ToolNode"
   ]
  },
  {
   "cell_type": "markdown",
   "id": "0e63879d",
   "metadata": {},
   "source": [
    "## Desiging a simple workflow with tool Calling\n"
   ]
  },
  {
   "cell_type": "code",
   "execution_count": 132,
   "id": "de82e2e2",
   "metadata": {},
   "outputs": [],
   "source": [
    "## Custom tool\n",
    "\n",
    "\n",
    "@tool\n",
    "def search(query: str) -> str:\n",
    "    \"\"\"this is my custom tool for searching a weather\"\"\"\n",
    "    if \"delhi\" in query.lower():\n",
    "        return \"the temp is 45 degree and sunny\"\n",
    "    return \"the temp is 25 degree and cloudy\""
   ]
  },
  {
   "cell_type": "code",
   "execution_count": 133,
   "id": "ffdb8a07",
   "metadata": {},
   "outputs": [
    {
     "data": {
      "text/plain": [
       "'the temp is 45 degree and sunny'"
      ]
     },
     "execution_count": 133,
     "metadata": {},
     "output_type": "execute_result"
    }
   ],
   "source": [
    "search.invoke(\"what is the weather in delhi?\")"
   ]
  },
  {
   "cell_type": "code",
   "execution_count": 134,
   "id": "749f4b43",
   "metadata": {},
   "outputs": [
    {
     "data": {
      "text/plain": [
       "'the temp is 25 degree and cloudy'"
      ]
     },
     "execution_count": 134,
     "metadata": {},
     "output_type": "execute_result"
    }
   ],
   "source": [
    "search.invoke(\"what is the weather in New Jersey?\")"
   ]
  },
  {
   "cell_type": "code",
   "execution_count": 135,
   "id": "5f5cbaa1",
   "metadata": {},
   "outputs": [
    {
     "data": {
      "text/plain": [
       "StructuredTool(name='search', description='this is my custom tool for searching a weather', args_schema=<class 'langchain_core.utils.pydantic.search'>, func=<function search at 0x0000016F07FCE520>)"
      ]
     },
     "execution_count": 135,
     "metadata": {},
     "output_type": "execute_result"
    }
   ],
   "source": [
    "search"
   ]
  },
  {
   "cell_type": "code",
   "execution_count": 136,
   "id": "63d027bc",
   "metadata": {},
   "outputs": [
    {
     "data": {
      "text/plain": [
       "AIMessage(content=\"The weather in France! As a large country with a diverse geography, France experiences a variety of climates and weather conditions. Here's a general overview:\\n\\n**Seasonal Weather Patterns:**\\n\\n1. **Spring (March to May)**: Mild temperatures, with averages ranging from 10°C (50°F) in the north to 15°C (59°F) in the south. Showers are common, but sunny days are also frequent.\\n2. **Summer (June to August)**: Warm and sunny, with temperatures often reaching 25°C (77°F) in the south and 22°C (72°F) in the north. Coastal areas tend to be cooler than inland regions.\\n3. **Autumn (September to November)**: Cooler temperatures, with averages ranging from 10°C (50°F) in the north to 15°C (59°F) in the south. Rainfall increases, especially in the northwest.\\n4. **Winter (December to February)**: Cool to cold temperatures, with averages ranging from 2°C (36°F) in the north to 6°C (43°F) in the south. Snowfall is common in the Alps and the Pyrenees.\\n\\n**Regional Weather Patterns:**\\n\\n1. **Northern France** (e.g., Paris, Normandy): Cool and temperate, with moderate rainfall throughout the year.\\n2. **Southern France** (e.g., Mediterranean coast, Provence): Warm and sunny, with low rainfall.\\n3. **Mountainous regions** (e.g., Alps, Pyrenees): Cold winters with significant snowfall, mild summers.\\n4. **Atlantic coast** (e.g., Brittany, Aquitaine): Mild and wet, with significant rainfall.\\n\\n**Current Weather:**\\n\\nTo get the most up-to-date and accurate weather forecast for a specific location in France, I recommend checking websites like:\\n\\n* Météo-France (official French weather service)\\n* AccuWeather\\n* France TV Info (French TV website with weather forecasts)\\n\\nKeep in mind that weather conditions can change quickly, so it's always a good idea to check forecasts regularly, especially if you're planning outdoor activities.\", additional_kwargs={}, response_metadata={'token_usage': {'completion_tokens': 425, 'prompt_tokens': 17, 'total_tokens': 442, 'completion_time': 1.01077655, 'prompt_time': 0.002974235, 'queue_time': 0.413023671, 'total_time': 1.013750785}, 'model_name': 'meta-llama/llama-4-scout-17b-16e-instruct', 'system_fingerprint': 'fp_79da0e0073', 'finish_reason': 'stop', 'logprobs': None}, id='run--ecda25f0-0be4-4e0f-80f8-20e9fcf21057-0', usage_metadata={'input_tokens': 17, 'output_tokens': 425, 'total_tokens': 442})"
      ]
     },
     "execution_count": 136,
     "metadata": {},
     "output_type": "execute_result"
    }
   ],
   "source": [
    "llm.invoke(\"What is the weather in France?\")"
   ]
  },
  {
   "cell_type": "code",
   "execution_count": 137,
   "id": "94b0d204",
   "metadata": {},
   "outputs": [
    {
     "data": {
      "text/plain": [
       "AIMessage(content=\"I'm not able to provide real-time information such as current weather conditions. However, I can suggest some ways for you to find out the current weather in Delhi:\\n\\n1. Check online weather websites: You can visit websites like AccuWeather, Weather.com, or Times of India Weather to get the current weather conditions in Delhi.\\n2. Use a weather app: Download a weather app like Dark Sky, Weather Underground, or The Weather Channel app on your smartphone to get the current weather conditions in Delhi.\\n3. Check local news: You can check local news websites or TV channels for the current weather conditions in Delhi.\\n\\nAs of my knowledge cutoff in 2023, Delhi has a humid subtropical climate with extremely hot summers and mild winters. The best time to visit Delhi is from October to February, when the weather is pleasant and comfortable.\", additional_kwargs={}, response_metadata={'token_usage': {'completion_tokens': 168, 'prompt_tokens': 18, 'total_tokens': 186, 'completion_time': 0.4201262, 'prompt_time': 0.002761998, 'queue_time': 0.049658342, 'total_time': 0.422888198}, 'model_name': 'meta-llama/llama-4-scout-17b-16e-instruct', 'system_fingerprint': 'fp_37da608fc1', 'finish_reason': 'stop', 'logprobs': None}, id='run--2206e649-b891-4dc6-ac21-c88a7af5b49b-0', usage_metadata={'input_tokens': 18, 'output_tokens': 168, 'total_tokens': 186})"
      ]
     },
     "execution_count": 137,
     "metadata": {},
     "output_type": "execute_result"
    }
   ],
   "source": [
    "llm.invoke(\"What is the weather in delhi?\")"
   ]
  },
  {
   "cell_type": "markdown",
   "id": "598484a3",
   "metadata": {},
   "source": [
    "\n",
    " ## Binding a tool to the LLM\n",
    "Special Note: use some good for agentic workflow since opensource model might not give you the correct output"
   ]
  },
  {
   "cell_type": "code",
   "execution_count": 138,
   "id": "eed9552e",
   "metadata": {},
   "outputs": [],
   "source": [
    "tools=[search]"
   ]
  },
  {
   "cell_type": "code",
   "execution_count": 139,
   "id": "00c305ba",
   "metadata": {},
   "outputs": [],
   "source": [
    "llm_with_tool=llm.bind_tools(tools)"
   ]
  },
  {
   "cell_type": "code",
   "execution_count": 140,
   "id": "ff31dcd3",
   "metadata": {},
   "outputs": [
    {
     "data": {
      "text/plain": [
       "AIMessage(content='', additional_kwargs={'tool_calls': [{'id': 'hftgt1310', 'function': {'arguments': '{\"query\":\"delhi weather\"}', 'name': 'search'}, 'type': 'function'}]}, response_metadata={'token_usage': {'completion_tokens': 24, 'prompt_tokens': 678, 'total_tokens': 702, 'completion_time': 0.055426267, 'prompt_time': 0.025155368, 'queue_time': 0.05215191300000001, 'total_time': 0.080581635}, 'model_name': 'meta-llama/llama-4-scout-17b-16e-instruct', 'system_fingerprint': 'fp_37da608fc1', 'finish_reason': 'tool_calls', 'logprobs': None}, id='run--46e70251-cd5b-4a73-ae45-66087bfc2835-0', tool_calls=[{'name': 'search', 'args': {'query': 'delhi weather'}, 'id': 'hftgt1310', 'type': 'tool_call'}], usage_metadata={'input_tokens': 678, 'output_tokens': 24, 'total_tokens': 702})"
      ]
     },
     "execution_count": 140,
     "metadata": {},
     "output_type": "execute_result"
    }
   ],
   "source": [
    "response =llm_with_tool.invoke(\"What is the weather in delhi?\")\n",
    "response"
   ]
  },
  {
   "cell_type": "code",
   "execution_count": 141,
   "id": "0b1d5c94",
   "metadata": {},
   "outputs": [
    {
     "data": {
      "text/plain": [
       "''"
      ]
     },
     "execution_count": 141,
     "metadata": {},
     "output_type": "execute_result"
    }
   ],
   "source": [
    "response.content"
   ]
  },
  {
   "cell_type": "code",
   "execution_count": 142,
   "id": "86979a59",
   "metadata": {},
   "outputs": [
    {
     "data": {
      "text/plain": [
       "[{'name': 'search',\n",
       "  'args': {'query': 'delhi weather'},\n",
       "  'id': 'hftgt1310',\n",
       "  'type': 'tool_call'}]"
      ]
     },
     "execution_count": 142,
     "metadata": {},
     "output_type": "execute_result"
    }
   ],
   "source": [
    "response.tool_calls"
   ]
  },
  {
   "cell_type": "code",
   "execution_count": 143,
   "id": "0e5e3fb1",
   "metadata": {},
   "outputs": [],
   "source": [
    "def call_model(state:MessagesState):\n",
    "    question=state[\"messages\"]\n",
    "    response=llm_with_tool.invoke(question)\n",
    "    return {\"messages\":[response]}\n"
   ]
  },
  {
   "cell_type": "code",
   "execution_count": 144,
   "id": "8be2258c",
   "metadata": {},
   "outputs": [],
   "source": [
    "input={\"messages\":[\"what is a weather in delhi?\"]}"
   ]
  },
  {
   "cell_type": "code",
   "execution_count": 145,
   "id": "0b4a8b1c",
   "metadata": {},
   "outputs": [],
   "source": [
    "response=call_model(input)"
   ]
  },
  {
   "cell_type": "code",
   "execution_count": 146,
   "id": "645bc89c",
   "metadata": {},
   "outputs": [
    {
     "data": {
      "text/plain": [
       "''"
      ]
     },
     "execution_count": 146,
     "metadata": {},
     "output_type": "execute_result"
    }
   ],
   "source": [
    "response['messages'][-1].content"
   ]
  },
  {
   "cell_type": "code",
   "execution_count": 147,
   "id": "4abff677",
   "metadata": {},
   "outputs": [
    {
     "data": {
      "text/plain": [
       "[{'name': 'search',\n",
       "  'args': {'query': 'weather in delhi'},\n",
       "  'id': 'hwrt619e1',\n",
       "  'type': 'tool_call'}]"
      ]
     },
     "execution_count": 147,
     "metadata": {},
     "output_type": "execute_result"
    }
   ],
   "source": [
    "response[\"messages\"][-1].tool_calls"
   ]
  },
  {
   "cell_type": "markdown",
   "id": "3bf7b6d7",
   "metadata": {},
   "source": [
    "##  here my router function\n",
    "now whatever will come from call_model router funtion will redirect this to the appropriate tool"
   ]
  },
  {
   "cell_type": "code",
   "execution_count": 148,
   "id": "ccb89334",
   "metadata": {},
   "outputs": [],
   "source": [
    "def router_function(state:MessagesState):\n",
    "    message=state[\"messages\"]\n",
    "    last_message=message[-1]\n",
    "    if last_message.tool_calls:\n",
    "        return \"tools\"\n",
    "    return END\n"
   ]
  },
  {
   "cell_type": "code",
   "execution_count": 149,
   "id": "6b16d35c",
   "metadata": {},
   "outputs": [
    {
     "data": {
      "text/plain": [
       "[StructuredTool(name='search', description='this is my custom tool for searching a weather', args_schema=<class 'langchain_core.utils.pydantic.search'>, func=<function search at 0x0000016F07FCE520>)]"
      ]
     },
     "execution_count": 149,
     "metadata": {},
     "output_type": "execute_result"
    }
   ],
   "source": [
    "tools"
   ]
  },
  {
   "cell_type": "code",
   "execution_count": 150,
   "id": "02c5b0c7",
   "metadata": {},
   "outputs": [],
   "source": [
    "tool_node = ToolNode(tools)"
   ]
  },
  {
   "cell_type": "code",
   "execution_count": 151,
   "id": "5a3685dd",
   "metadata": {},
   "outputs": [
    {
     "data": {
      "text/plain": [
       "tools(tags=None, recurse=True, explode_args=False, func_accepts_config=True, func_accepts={'store': ('__pregel_store', None)}, tools_by_name={'search': StructuredTool(name='search', description='this is my custom tool for searching a weather', args_schema=<class 'langchain_core.utils.pydantic.search'>, func=<function search at 0x0000016F07FCE520>)}, tool_to_state_args={'search': {}}, tool_to_store_arg={'search': None}, handle_tool_errors=True, messages_key='messages')"
      ]
     },
     "execution_count": 151,
     "metadata": {},
     "output_type": "execute_result"
    }
   ],
   "source": [
    "tool_node"
   ]
  },
  {
   "cell_type": "code",
   "execution_count": 152,
   "id": "af7237e1",
   "metadata": {},
   "outputs": [],
   "source": [
    "workflow=StateGraph(MessagesState)"
   ]
  },
  {
   "cell_type": "code",
   "execution_count": 153,
   "id": "a2f4503d",
   "metadata": {},
   "outputs": [
    {
     "data": {
      "text/plain": [
       "<langgraph.graph.state.StateGraph at 0x16f07f5f250>"
      ]
     },
     "execution_count": 153,
     "metadata": {},
     "output_type": "execute_result"
    }
   ],
   "source": [
    "workflow.add_node(\"llmwithtool\",call_model)"
   ]
  },
  {
   "cell_type": "code",
   "execution_count": 154,
   "id": "925ec316",
   "metadata": {},
   "outputs": [
    {
     "data": {
      "text/plain": [
       "<langgraph.graph.state.StateGraph at 0x16f07f5f250>"
      ]
     },
     "execution_count": 154,
     "metadata": {},
     "output_type": "execute_result"
    }
   ],
   "source": [
    "workflow.add_node(\"mytools\",tool_node)\n",
    "workflow.add_edge(START, \"llmwithtool\")\n",
    "workflow.add_conditional_edges(\n",
    "    \"llmwithtool\",\n",
    "    router_function,\n",
    "    {\n",
    "        \"tools\": \"mytools\",\n",
    "        END: END\n",
    "    }\n",
    ")"
   ]
  },
  {
   "cell_type": "code",
   "execution_count": 155,
   "id": "e2a4646d",
   "metadata": {},
   "outputs": [],
   "source": [
    "app=workflow.compile()"
   ]
  },
  {
   "cell_type": "code",
   "execution_count": 156,
   "id": "d300c69a",
   "metadata": {},
   "outputs": [
    {
     "data": {
      "image/png": "[encoded data removed]",
      "text/plain": [
       "<IPython.core.display.Image object>"
      ]
     },
     "metadata": {},
     "output_type": "display_data"
    }
   ],
   "source": [
    "from IPython.display import Image, display\n",
    "display(Image(app.get_graph().draw_mermaid_png()))"
   ]
  },
  {
   "cell_type": "code",
   "execution_count": 157,
   "id": "2b763121",
   "metadata": {},
   "outputs": [],
   "source": [
    "response=app.invoke({\"messages\":[\"What is the weather in delhi?\"]})"
   ]
  },
  {
   "cell_type": "code",
   "execution_count": 158,
   "id": "4438b4f7",
   "metadata": {},
   "outputs": [
    {
     "data": {
      "text/plain": [
       "'the temp is 45 degree and sunny'"
      ]
     },
     "execution_count": 158,
     "metadata": {},
     "output_type": "execute_result"
    }
   ],
   "source": [
    "response['messages'][-1].content"
   ]
  },
  {
   "cell_type": "code",
   "execution_count": 159,
   "id": "afbd76d3",
   "metadata": {},
   "outputs": [
    {
     "data": {
      "text/plain": [
       "{'messages': [HumanMessage(content='what is a weather in delhi?', additional_kwargs={}, response_metadata={}, id='a6554e9f-1235-46e1-8a4e-c69b275f978c'),\n",
       "  AIMessage(content='', additional_kwargs={'tool_calls': [{'id': '0t4t1qr2a', 'function': {'arguments': '{\"query\":\"weather in delhi\"}', 'name': 'search'}, 'type': 'function'}]}, response_metadata={'token_usage': {'completion_tokens': 25, 'prompt_tokens': 678, 'total_tokens': 703, 'completion_time': 0.057186811, 'prompt_time': 0.023817139, 'queue_time': 0.050961961, 'total_time': 0.08100395}, 'model_name': 'meta-llama/llama-4-scout-17b-16e-instruct', 'system_fingerprint': 'fp_79da0e0073', 'finish_reason': 'tool_calls', 'logprobs': None}, id='run--545c3914-a314-42ec-818f-0acd16e1bed4-0', tool_calls=[{'name': 'search', 'args': {'query': 'weather in delhi'}, 'id': '0t4t1qr2a', 'type': 'tool_call'}], usage_metadata={'input_tokens': 678, 'output_tokens': 25, 'total_tokens': 703}),\n",
       "  ToolMessage(content='the temp is 45 degree and sunny', name='search', id='cc929377-ca67-4b55-9d90-4b6c194d55f7', tool_call_id='0t4t1qr2a')]}"
      ]
     },
     "execution_count": 159,
     "metadata": {},
     "output_type": "execute_result"
    }
   ],
   "source": [
    "\n",
    "app.invoke({\"messages\":[\"what is a weather in delhi?\"]})"
   ]
  },
  {
   "cell_type": "markdown",
   "id": "212a7821",
   "metadata": {},
   "source": [
    "use good resoning based model"
   ]
  },
  {
   "cell_type": "code",
   "execution_count": 160,
   "id": "9d3e718a",
   "metadata": {},
   "outputs": [
    {
     "name": "stderr",
     "output_type": "stream",
     "text": [
      "Adding an edge to a graph that has already been compiled. This will not be reflected in the compiled graph.\n"
     ]
    },
    {
     "data": {
      "text/plain": [
       "<langgraph.graph.state.StateGraph at 0x16f07f5f250>"
      ]
     },
     "execution_count": 160,
     "metadata": {},
     "output_type": "execute_result"
    }
   ],
   "source": [
    "workflow.add_edge(\"mytools\", \"llmwithtool\")"
   ]
  },
  {
   "cell_type": "code",
   "execution_count": 161,
   "id": "cde2034c",
   "metadata": {},
   "outputs": [],
   "source": [
    "app2=workflow.compile()"
   ]
  },
  {
   "cell_type": "code",
   "execution_count": 162,
   "id": "f37e3ccf",
   "metadata": {},
   "outputs": [
    {
     "data": {
      "image/png": "[encoded data removed]",
      "text/plain": [
       "<IPython.core.display.Image object>"
      ]
     },
     "metadata": {},
     "output_type": "display_data"
    }
   ],
   "source": [
    "from IPython.display import Image, display\n",
    "display(Image(app2.get_graph().draw_mermaid_png()))"
   ]
  },
  {
   "cell_type": "code",
   "execution_count": 163,
   "id": "e592023b",
   "metadata": {},
   "outputs": [
    {
     "name": "stdout",
     "output_type": "stream",
     "text": [
      "here is output from llmwithtool\n",
      "_______\n",
      "{'messages': [AIMessage(content='', additional_kwargs={'tool_calls': [{'id': 'ne7pe3nw5', 'function': {'arguments': '{\"query\":\"delhi weather\"}', 'name': 'search'}, 'type': 'function'}]}, response_metadata={'token_usage': {'completion_tokens': 24, 'prompt_tokens': 678, 'total_tokens': 702, 'completion_time': 0.055831827, 'prompt_time': 0.022076338, 'queue_time': 0.051315191999999996, 'total_time': 0.077908165}, 'model_name': 'meta-llama/llama-4-scout-17b-16e-instruct', 'system_fingerprint': 'fp_79da0e0073', 'finish_reason': 'tool_calls', 'logprobs': None}, id='run--9f06d6af-7ac8-428a-9c99-7f513019d367-0', tool_calls=[{'name': 'search', 'args': {'query': 'delhi weather'}, 'id': 'ne7pe3nw5', 'type': 'tool_call'}], usage_metadata={'input_tokens': 678, 'output_tokens': 24, 'total_tokens': 702})]}\n",
      "\n",
      "\n",
      "here is output from mytools\n",
      "_______\n",
      "{'messages': [ToolMessage(content='the temp is 45 degree and sunny', name='search', id='5f2d8d61-facf-41dd-96ac-07d419d2aec1', tool_call_id='ne7pe3nw5')]}\n",
      "\n",
      "\n",
      "here is output from llmwithtool\n",
      "_______\n",
      "{'messages': [AIMessage(content='The current weather in Delhi is sunny with a temperature of 45 degrees.', additional_kwargs={}, response_metadata={'token_usage': {'completion_tokens': 16, 'prompt_tokens': 727, 'total_tokens': 743, 'completion_time': 0.037782388, 'prompt_time': 0.026865474, 'queue_time': 0.056906935000000006, 'total_time': 0.064647862}, 'model_name': 'meta-llama/llama-4-scout-17b-16e-instruct', 'system_fingerprint': 'fp_79da0e0073', 'finish_reason': 'stop', 'logprobs': None}, id='run--c52ff3a9-9f1f-4cd3-82ee-d3973a4b590d-0', usage_metadata={'input_tokens': 727, 'output_tokens': 16, 'total_tokens': 743})]}\n",
      "\n",
      "\n"
     ]
    }
   ],
   "source": [
    "for output in app2.stream({\"messages\":[\"what is the weather in delhi?\"]}):\n",
    "    for key,value in output.items():\n",
    "        print(f\"here is output from {key}\")\n",
    "        print(\"_______\")\n",
    "        print(value)\n",
    "        print(\"\\n\")\n"
   ]
  },
  {
   "cell_type": "markdown",
   "id": "931a44bb",
   "metadata": {},
   "source": [
    "\n",
    "\"what is a weather in delhi can you tell me some good hotel for staying in north delhi\""
   ]
  },
  {
   "cell_type": "code",
   "execution_count": null,
   "id": "2e20c6da",
   "metadata": {},
   "outputs": [],
   "source": [
    "## using memory\n",
    "# This is a simple example of using memory in langgraph\n",
    "# We will use a memory node to store the last question asked and the answer given by the model.\n",
    "# This will allow us to keep track of the conversation and use it in the next question."
   ]
  },
  {
   "cell_type": "code",
   "execution_count": 164,
   "id": "bcccae44",
   "metadata": {},
   "outputs": [],
   "source": [
    "from langgraph.checkpoint.memory import MemorySaver\n",
    "memory= MemorySaver()"
   ]
  },
  {
   "cell_type": "code",
   "execution_count": 165,
   "id": "756a25e9",
   "metadata": {},
   "outputs": [
    {
     "data": {
      "text/plain": [
       "<langgraph.graph.state.StateGraph at 0x16f06ad9f90>"
      ]
     },
     "execution_count": 165,
     "metadata": {},
     "output_type": "execute_result"
    }
   ],
   "source": [
    "workflow2=StateGraph(MessagesState)\n",
    "workflow2.add_node(\"llmwithtool\",call_model)\n",
    "workflow2.add_node(\"mytools\",tool_node)\n",
    "workflow2.add_edge(START, \"llmwithtool\")\n",
    "workflow2.add_conditional_edges(\n",
    "    \"llmwithtool\",\n",
    "    router_function,\n",
    "    {\n",
    "        \"tools\": \"mytools\",\n",
    "        END: END\n",
    "    }\n",
    ")\n",
    "workflow2.add_edge(\"mytools\", \"llmwithtool\")"
   ]
  },
  {
   "cell_type": "code",
   "execution_count": 166,
   "id": "ad24d46e",
   "metadata": {},
   "outputs": [],
   "source": [
    "app3=workflow2.compile(checkpointer=memory)"
   ]
  },
  {
   "cell_type": "code",
   "execution_count": 167,
   "id": "085072a7",
   "metadata": {},
   "outputs": [
    {
     "data": {
      "image/png": "[encoded data removed]",
      "text/plain": [
       "<IPython.core.display.Image object>"
      ]
     },
     "metadata": {},
     "output_type": "display_data"
    }
   ],
   "source": [
    "from IPython.display import Image, display\n",
    "display(Image(app3.get_graph().draw_mermaid_png()))"
   ]
  },
  {
   "cell_type": "code",
   "execution_count": 168,
   "id": "dbfe9eb0",
   "metadata": {},
   "outputs": [],
   "source": [
    "config={\"configurable\":{\"thread_id\":\"1\"}}"
   ]
  },
  {
   "cell_type": "code",
   "execution_count": 169,
   "id": "c448abfd",
   "metadata": {},
   "outputs": [],
   "source": [
    "events=app3.stream({\"messages\":[\"what is the weather in delhi?\"]},config=config,stream_mode=\"values\")"
   ]
  },
  {
   "cell_type": "code",
   "execution_count": 170,
   "id": "ae5531b6",
   "metadata": {},
   "outputs": [
    {
     "name": "stdout",
     "output_type": "stream",
     "text": [
      "================================\u001b[1m Human Message \u001b[0m=================================\n",
      "\n",
      "what is the weather in delhi?\n",
      "\n",
      "\n",
      "==================================\u001b[1m Ai Message \u001b[0m==================================\n",
      "Tool Calls:\n",
      "  search (6rzgbc6e4)\n",
      " Call ID: 6rzgbc6e4\n",
      "  Args:\n",
      "    query: delhi weather\n",
      "\n",
      "\n",
      "=================================\u001b[1m Tool Message \u001b[0m=================================\n",
      "Name: search\n",
      "\n",
      "the temp is 45 degree and sunny\n",
      "\n",
      "\n",
      "==================================\u001b[1m Ai Message \u001b[0m==================================\n",
      "\n",
      "The current weather in Delhi is sunny with a temperature of 45 degrees.\n",
      "\n",
      "\n"
     ]
    }
   ],
   "source": [
    "for event in events:\n",
    "    event[\"messages\"][-1].pretty_print()\n",
    "    print(\"\\n\")\n"
   ]
  },
  {
   "cell_type": "code",
   "execution_count": 171,
   "id": "3c04e52f",
   "metadata": {},
   "outputs": [],
   "source": [
    "events=app3.stream(\n",
    "    {\"messages\":[\"what is a weather in indore?\"]},config=config,stream_mode=\"values\")"
   ]
  },
  {
   "cell_type": "code",
   "execution_count": 172,
   "id": "10e4e3be",
   "metadata": {},
   "outputs": [
    {
     "name": "stdout",
     "output_type": "stream",
     "text": [
      "================================\u001b[1m Human Message \u001b[0m=================================\n",
      "\n",
      "what is a weather in indore?\n",
      "\n",
      "\n",
      "==================================\u001b[1m Ai Message \u001b[0m==================================\n",
      "Tool Calls:\n",
      "  search (nxw2qzg7h)\n",
      " Call ID: nxw2qzg7h\n",
      "  Args:\n",
      "    query: indore weather\n",
      "\n",
      "\n",
      "=================================\u001b[1m Tool Message \u001b[0m=================================\n",
      "Name: search\n",
      "\n",
      "the temp is 25 degree and cloudy\n",
      "\n",
      "\n",
      "==================================\u001b[1m Ai Message \u001b[0m==================================\n",
      "\n",
      "The current weather in Indore is cloudy with a temperature of 25 degrees.\n",
      "\n",
      "\n"
     ]
    }
   ],
   "source": [
    "for event in events:\n",
    "    event[\"messages\"][-1].pretty_print()\n",
    "    print(\"\\n\")"
   ]
  },
  {
   "cell_type": "code",
   "execution_count": 173,
   "id": "e8338b86",
   "metadata": {},
   "outputs": [
    {
     "data": {
      "text/plain": [
       "{'configurable': {'thread_id': '1'}}"
      ]
     },
     "execution_count": 173,
     "metadata": {},
     "output_type": "execute_result"
    }
   ],
   "source": [
    "config"
   ]
  },
  {
   "cell_type": "code",
   "execution_count": 176,
   "id": "c49f8452",
   "metadata": {},
   "outputs": [
    {
     "data": {
      "text/plain": [
       "{'v': 4,\n",
       " 'ts': '2025-07-16T05:51:51.781025+00:00',\n",
       " 'id': '1f06208f-88e2-634c-8008-71edee25e90f',\n",
       " 'channel_versions': {'__start__': '00000000000000000000000000000007.0.5150363614780972',\n",
       "  'messages': '00000000000000000000000000000010.0.8784915242095338',\n",
       "  'branch:to:llmwithtool': '00000000000000000000000000000010.0.8784915242095338',\n",
       "  'branch:to:mytools': '00000000000000000000000000000009.0.779598415969988'},\n",
       " 'versions_seen': {'__input__': {},\n",
       "  '__start__': {'__start__': '00000000000000000000000000000006.0.8872153897828915'},\n",
       "  'llmwithtool': {'branch:to:llmwithtool': '00000000000000000000000000000009.0.779598415969988'},\n",
       "  'mytools': {'branch:to:mytools': '00000000000000000000000000000008.0.3015335716538765'}},\n",
       " 'channel_values': {'messages': [HumanMessage(content='what is the weather in delhi?', additional_kwargs={}, response_metadata={}, id='88b96dd0-72ca-4d35-bf64-3c3b5164b930'),\n",
       "   AIMessage(content='', additional_kwargs={'tool_calls': [{'id': '6rzgbc6e4', 'function': {'arguments': '{\"query\":\"delhi weather\"}', 'name': 'search'}, 'type': 'function'}]}, response_metadata={'token_usage': {'completion_tokens': 24, 'prompt_tokens': 678, 'total_tokens': 702, 'completion_time': 0.054952235, 'prompt_time': 0.021130137, 'queue_time': 0.050636182999999994, 'total_time': 0.076082372}, 'model_name': 'meta-llama/llama-4-scout-17b-16e-instruct', 'system_fingerprint': 'fp_37da608fc1', 'finish_reason': 'tool_calls', 'logprobs': None}, id='run--41e5d3f6-0b66-4b6e-b02b-b1545fa1620c-0', tool_calls=[{'name': 'search', 'args': {'query': 'delhi weather'}, 'id': '6rzgbc6e4', 'type': 'tool_call'}], usage_metadata={'input_tokens': 678, 'output_tokens': 24, 'total_tokens': 702}),\n",
       "   ToolMessage(content='the temp is 45 degree and sunny', name='search', id='c01de65e-7d27-4311-9665-9268b14ba8b2', tool_call_id='6rzgbc6e4'),\n",
       "   AIMessage(content='The current weather in Delhi is sunny with a temperature of 45 degrees.', additional_kwargs={}, response_metadata={'token_usage': {'completion_tokens': 16, 'prompt_tokens': 727, 'total_tokens': 743, 'completion_time': 0.043124771, 'prompt_time': 0.029775599, 'queue_time': 0.10240119099999999, 'total_time': 0.07290037}, 'model_name': 'meta-llama/llama-4-scout-17b-16e-instruct', 'system_fingerprint': 'fp_79da0e0073', 'finish_reason': 'stop', 'logprobs': None}, id='run--db94882a-aca1-435c-9d6d-f3c1f43a0c50-0', usage_metadata={'input_tokens': 727, 'output_tokens': 16, 'total_tokens': 743}),\n",
       "   HumanMessage(content='what is a weather in indore?', additional_kwargs={}, response_metadata={}, id='e34c1a49-7959-4dc6-b30d-fe4af9e8b0d3'),\n",
       "   AIMessage(content='', additional_kwargs={'tool_calls': [{'id': 'nxw2qzg7h', 'function': {'arguments': '{\"query\":\"indore weather\"}', 'name': 'search'}, 'type': 'function'}]}, response_metadata={'token_usage': {'completion_tokens': 24, 'prompt_tokens': 759, 'total_tokens': 783, 'completion_time': 0.055911395, 'prompt_time': 0.028164791, 'queue_time': 0.20739064200000001, 'total_time': 0.084076186}, 'model_name': 'meta-llama/llama-4-scout-17b-16e-instruct', 'system_fingerprint': 'fp_37da608fc1', 'finish_reason': 'tool_calls', 'logprobs': None}, id='run--64c4749f-da2c-43da-bb70-a41e47d857fe-0', tool_calls=[{'name': 'search', 'args': {'query': 'indore weather'}, 'id': 'nxw2qzg7h', 'type': 'tool_call'}], usage_metadata={'input_tokens': 759, 'output_tokens': 24, 'total_tokens': 783}),\n",
       "   ToolMessage(content='the temp is 25 degree and cloudy', name='search', id='3d32596c-b349-48a2-a8fb-d80e6d260378', tool_call_id='nxw2qzg7h'),\n",
       "   AIMessage(content='The current weather in Indore is cloudy with a temperature of 25 degrees.', additional_kwargs={}, response_metadata={'token_usage': {'completion_tokens': 17, 'prompt_tokens': 808, 'total_tokens': 825, 'completion_time': 0.039066751, 'prompt_time': 0.024595065, 'queue_time': 0.05213211500000001, 'total_time': 0.063661816}, 'model_name': 'meta-llama/llama-4-scout-17b-16e-instruct', 'system_fingerprint': 'fp_79da0e0073', 'finish_reason': 'stop', 'logprobs': None}, id='run--e72b52bb-477e-4c20-8ba9-a57b726d595c-0', usage_metadata={'input_tokens': 808, 'output_tokens': 17, 'total_tokens': 825})]}}"
      ]
     },
     "execution_count": 176,
     "metadata": {},
     "output_type": "execute_result"
    }
   ],
   "source": [
    "memory.get(config) "
   ]
  },
  {
   "cell_type": "code",
   "execution_count": 177,
   "id": "e2b9981a",
   "metadata": {},
   "outputs": [],
   "source": [
    "events=app3.stream(\n",
    "    {\"messages\":[\"in which city the temp was 25 degree?\"]},config=config,stream_mode=\"values\"\n",
    "    )"
   ]
  },
  {
   "cell_type": "code",
   "execution_count": 178,
   "id": "3bbd6b80",
   "metadata": {},
   "outputs": [
    {
     "name": "stdout",
     "output_type": "stream",
     "text": [
      "================================\u001b[1m Human Message \u001b[0m=================================\n",
      "\n",
      "in which city the temp was 25 degree?\n",
      "\n",
      "\n",
      "==================================\u001b[1m Ai Message \u001b[0m==================================\n",
      "\n",
      "The temperature of 25 degrees was in Indore.\n",
      "\n",
      "\n"
     ]
    }
   ],
   "source": [
    "for event in events:\n",
    "    event[\"messages\"][-1].pretty_print()\n",
    "    print(\"\\n\")"
   ]
  },
  {
   "cell_type": "code",
   "execution_count": 179,
   "id": "e79d6c71",
   "metadata": {},
   "outputs": [
    {
     "data": {
      "text/plain": [
       "{'v': 4,\n",
       " 'ts': '2025-07-16T05:53:15.282019+00:00',\n",
       " 'id': '1f062092-a536-60a3-800b-6b4f131e8da3',\n",
       " 'channel_versions': {'__start__': '00000000000000000000000000000012.0.05805743439846245',\n",
       "  'messages': '00000000000000000000000000000013.0.7865334752446925',\n",
       "  'branch:to:llmwithtool': '00000000000000000000000000000013.0.7865334752446925',\n",
       "  'branch:to:mytools': '00000000000000000000000000000009.0.779598415969988'},\n",
       " 'versions_seen': {'__input__': {},\n",
       "  '__start__': {'__start__': '00000000000000000000000000000011.0.9270081051458917'},\n",
       "  'llmwithtool': {'branch:to:llmwithtool': '00000000000000000000000000000012.0.05805743439846245'},\n",
       "  'mytools': {'branch:to:mytools': '00000000000000000000000000000008.0.3015335716538765'}},\n",
       " 'channel_values': {'messages': [HumanMessage(content='what is the weather in delhi?', additional_kwargs={}, response_metadata={}, id='88b96dd0-72ca-4d35-bf64-3c3b5164b930'),\n",
       "   AIMessage(content='', additional_kwargs={'tool_calls': [{'id': '6rzgbc6e4', 'function': {'arguments': '{\"query\":\"delhi weather\"}', 'name': 'search'}, 'type': 'function'}]}, response_metadata={'token_usage': {'completion_tokens': 24, 'prompt_tokens': 678, 'total_tokens': 702, 'completion_time': 0.054952235, 'prompt_time': 0.021130137, 'queue_time': 0.050636182999999994, 'total_time': 0.076082372}, 'model_name': 'meta-llama/llama-4-scout-17b-16e-instruct', 'system_fingerprint': 'fp_37da608fc1', 'finish_reason': 'tool_calls', 'logprobs': None}, id='run--41e5d3f6-0b66-4b6e-b02b-b1545fa1620c-0', tool_calls=[{'name': 'search', 'args': {'query': 'delhi weather'}, 'id': '6rzgbc6e4', 'type': 'tool_call'}], usage_metadata={'input_tokens': 678, 'output_tokens': 24, 'total_tokens': 702}),\n",
       "   ToolMessage(content='the temp is 45 degree and sunny', name='search', id='c01de65e-7d27-4311-9665-9268b14ba8b2', tool_call_id='6rzgbc6e4'),\n",
       "   AIMessage(content='The current weather in Delhi is sunny with a temperature of 45 degrees.', additional_kwargs={}, response_metadata={'token_usage': {'completion_tokens': 16, 'prompt_tokens': 727, 'total_tokens': 743, 'completion_time': 0.043124771, 'prompt_time': 0.029775599, 'queue_time': 0.10240119099999999, 'total_time': 0.07290037}, 'model_name': 'meta-llama/llama-4-scout-17b-16e-instruct', 'system_fingerprint': 'fp_79da0e0073', 'finish_reason': 'stop', 'logprobs': None}, id='run--db94882a-aca1-435c-9d6d-f3c1f43a0c50-0', usage_metadata={'input_tokens': 727, 'output_tokens': 16, 'total_tokens': 743}),\n",
       "   HumanMessage(content='what is a weather in indore?', additional_kwargs={}, response_metadata={}, id='e34c1a49-7959-4dc6-b30d-fe4af9e8b0d3'),\n",
       "   AIMessage(content='', additional_kwargs={'tool_calls': [{'id': 'nxw2qzg7h', 'function': {'arguments': '{\"query\":\"indore weather\"}', 'name': 'search'}, 'type': 'function'}]}, response_metadata={'token_usage': {'completion_tokens': 24, 'prompt_tokens': 759, 'total_tokens': 783, 'completion_time': 0.055911395, 'prompt_time': 0.028164791, 'queue_time': 0.20739064200000001, 'total_time': 0.084076186}, 'model_name': 'meta-llama/llama-4-scout-17b-16e-instruct', 'system_fingerprint': 'fp_37da608fc1', 'finish_reason': 'tool_calls', 'logprobs': None}, id='run--64c4749f-da2c-43da-bb70-a41e47d857fe-0', tool_calls=[{'name': 'search', 'args': {'query': 'indore weather'}, 'id': 'nxw2qzg7h', 'type': 'tool_call'}], usage_metadata={'input_tokens': 759, 'output_tokens': 24, 'total_tokens': 783}),\n",
       "   ToolMessage(content='the temp is 25 degree and cloudy', name='search', id='3d32596c-b349-48a2-a8fb-d80e6d260378', tool_call_id='nxw2qzg7h'),\n",
       "   AIMessage(content='The current weather in Indore is cloudy with a temperature of 25 degrees.', additional_kwargs={}, response_metadata={'token_usage': {'completion_tokens': 17, 'prompt_tokens': 808, 'total_tokens': 825, 'completion_time': 0.039066751, 'prompt_time': 0.024595065, 'queue_time': 0.05213211500000001, 'total_time': 0.063661816}, 'model_name': 'meta-llama/llama-4-scout-17b-16e-instruct', 'system_fingerprint': 'fp_79da0e0073', 'finish_reason': 'stop', 'logprobs': None}, id='run--e72b52bb-477e-4c20-8ba9-a57b726d595c-0', usage_metadata={'input_tokens': 808, 'output_tokens': 17, 'total_tokens': 825}),\n",
       "   HumanMessage(content='in which city the temp was 25 degree?', additional_kwargs={}, response_metadata={}, id='87f3f852-dd72-4a16-872a-47ae1f0690db'),\n",
       "   AIMessage(content='The temperature of 25 degrees was in Indore.', additional_kwargs={}, response_metadata={'token_usage': {'completion_tokens': 12, 'prompt_tokens': 842, 'total_tokens': 854, 'completion_time': 0.032872972, 'prompt_time': 0.032902802, 'queue_time': 0.04617493799999999, 'total_time': 0.065775774}, 'model_name': 'meta-llama/llama-4-scout-17b-16e-instruct', 'system_fingerprint': 'fp_79da0e0073', 'finish_reason': 'stop', 'logprobs': None}, id='run--0ed5a48e-ff2a-4437-a16c-4156050f56c7-0', usage_metadata={'input_tokens': 842, 'output_tokens': 12, 'total_tokens': 854})]}}"
      ]
     },
     "execution_count": 179,
     "metadata": {},
     "output_type": "execute_result"
    }
   ],
   "source": [
    "memory.get(config)"
   ]
  }
 ],
 "metadata": {
  "kernelspec": {
   "display_name": "Python 3",
   "language": "python",
   "name": "python3"
  },
  "language_info": {
   "codemirror_mode": {
    "name": "ipython",
    "version": 3
   },
   "file_extension": ".py",
   "mimetype": "text/x-python",
   "name": "python",
   "nbconvert_exporter": "python",
   "pygments_lexer": "ipython3",
   "version": "3.13.5"
  }
 },
 "nbformat": 4,
 "nbformat_minor": 5
}
