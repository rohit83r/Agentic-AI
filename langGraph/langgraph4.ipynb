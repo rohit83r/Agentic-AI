{
 "cells": [
  {
   "cell_type": "code",
   "execution_count": 265,
   "id": "a6026a3a",
   "metadata": {},
   "outputs": [
    {
     "data": {
      "text/plain": [
       "True"
      ]
     },
     "execution_count": 265,
     "metadata": {},
     "output_type": "execute_result"
    }
   ],
   "source": [
    "import os\n",
    "from dotenv import load_dotenv\n",
    "load_dotenv()"
   ]
  },
  {
   "cell_type": "code",
   "execution_count": 266,
   "id": "47a90dcd",
   "metadata": {},
   "outputs": [
    {
     "data": {
      "text/plain": [
       "AIMessage(content='<think>\\n\\n</think>\\n\\nAs of my last update in July 2024, I cannot provide real-time weather information. However, you can easily check the current weather in Delhi using reliable weather websites, apps, or services like [AccuWeather](https://www.accuweather.com/), [Weather.com](https://www.weather.com/), or local Indian meteorological services. For the most accurate and up-to-date information, enable location services on your device or search for \"Delhi weather\" online.', additional_kwargs={}, response_metadata={'token_usage': {'completion_tokens': 103, 'prompt_tokens': 11, 'total_tokens': 114, 'completion_time': 0.374545455, 'prompt_time': 0.000354363, 'queue_time': 0.053330596999999993, 'total_time': 0.374899818}, 'model_name': 'deepseek-r1-distill-llama-70b', 'system_fingerprint': 'fp_76307ac09b', 'finish_reason': 'stop', 'logprobs': None}, id='run--93a6139a-b8ab-4bae-942c-b7e534ad785c-0', usage_metadata={'input_tokens': 11, 'output_tokens': 103, 'total_tokens': 114})"
      ]
     },
     "execution_count": 266,
     "metadata": {},
     "output_type": "execute_result"
    }
   ],
   "source": [
    "from langchain_groq import ChatGroq\n",
    "llm=ChatGroq(model=\"deepseek-r1-distill-llama-70b\")\n",
    "llm.invoke(\"What is the weather in delhi?\")"
   ]
  },
  {
   "cell_type": "code",
   "execution_count": 267,
   "id": "266fe3e7",
   "metadata": {},
   "outputs": [
    {
     "name": "stdout",
     "output_type": "stream",
     "text": [
      "<think>\n",
      "\n",
      "</think>\n",
      "\n",
      "As of my last update in July 2024, I cannot provide real-time weather information. However, you can easily check the current weather in Delhi using reliable weather websites, apps, or services like [AccuWeather](https://www.accuweather.com/), [Weather.com](https://www.weather.com/), or local news sources. Delhi typically experiences a hot and humid climate during the summer months (April to July), a monsoon season from July to September, and a cooler winter from November to February.\n"
     ]
    }
   ],
   "source": [
    "print(llm.invoke(\"What is the weather in delhi?\").content)"
   ]
  },
  {
   "cell_type": "code",
   "execution_count": 268,
   "id": "9582d706",
   "metadata": {},
   "outputs": [],
   "source": [
    "from langchain_core.tools import tool\n",
    "from langchain_core.messages import HumanMessage,AIMessage,SystemMessage\n",
    "from langgraph.graph import StateGraph,MessagesState,START,END\n",
    "from langgraph.prebuilt import ToolNode,tools_condition"
   ]
  },
  {
   "cell_type": "markdown",
   "id": "b661ea35",
   "metadata": {},
   "source": [
    "Custom tools"
   ]
  },
  {
   "cell_type": "code",
   "execution_count": 269,
   "id": "c3a81bbc",
   "metadata": {},
   "outputs": [],
   "source": [
    "@tool\n",
    "def multipy(a:int,b:int)->int:\n",
    "    \"\"\"\n",
    "    Multiply two integers.\n",
    "\n",
    "    Args:\n",
    "        a (int): The first integer.\n",
    "        b (int): The second integer.\n",
    "\n",
    "    Returns:\n",
    "        int: The product of a and b.\n",
    "    \"\"\"\n",
    "    return a * b\n",
    "\n",
    "@tool\n",
    "def add(a:int,b:int)->int:\n",
    "    \"\"\"\n",
    "    Add two integers.\n",
    "\n",
    "    Args:\n",
    "        a (int): The first integer.\n",
    "        b (int): The second integer.\n",
    "\n",
    "    Returns:\n",
    "        int: The addition of a and b.\n",
    "    \"\"\"\n",
    "    return a + b\n",
    "\n",
    "@tool\n",
    "def divide(a:int,b:int)->int:\n",
    "    \"\"\"\n",
    "    Divide two integers.\n",
    "\n",
    "    Args:\n",
    "        a (int): The first integer.\n",
    "        b (int): The second integer.\n",
    "\n",
    "    Returns:\n",
    "        int: The divsion of a and b.\n",
    "    \"\"\"\n",
    "    if(b==0):\n",
    "        raise ValueError(\"Division by zero is not allowed.\")\n",
    "    return a/b"
   ]
  },
  {
   "cell_type": "markdown",
   "id": "a35899b7",
   "metadata": {},
   "source": [
    "Built in tool"
   ]
  },
  {
   "cell_type": "code",
   "execution_count": 270,
   "id": "30694789",
   "metadata": {},
   "outputs": [],
   "source": [
    "from langchain_community.tools import DuckDuckGoSearchRun\n",
    "search = DuckDuckGoSearchRun()"
   ]
  },
  {
   "cell_type": "code",
   "execution_count": 271,
   "id": "586decc7",
   "metadata": {},
   "outputs": [
    {
     "name": "stderr",
     "output_type": "stream",
     "text": [
      "a:\\Agentic\\venv\\Lib\\site-packages\\langchain_community\\utilities\\duckduckgo_search.py:63: RuntimeWarning: This package (`duckduckgo_search`) has been renamed to `ddgs`! Use `pip install ddgs` instead.\n",
      "  with DDGS() as ddgs:\n"
     ]
    },
    {
     "data": {
      "text/plain": [
       "'Be prepared with the most accurate 10-day forecast for Himayatnagar, Telangana with highs, lows, chance of precipitation from The Weather Channel and Weather.com Himayatnagar, Telangana, India Weather Forecast, with current conditions, wind, air quality, and what to expect for the next 3 days. Get accurate hourly forecasts for today, tonight, and tomorrow, along with 10-day daily forecasts and weather radar for Himayatnagar, Telangana, India with MSN Weather. Jun 24, 2025 · Current weather in Himayatnagar and forecast for today, tomorrow, and next 14 days Jul 9, 2025 · Weather in Telangana, Himayatnagar: Get the current weather, hourly and weekly weather forecast for Himayatnagar, along with current temperature, rainfall, wind speed, …'"
      ]
     },
     "execution_count": 271,
     "metadata": {},
     "output_type": "execute_result"
    }
   ],
   "source": [
    "search.invoke(\"What is the weather in delhi?\")"
   ]
  },
  {
   "cell_type": "code",
   "execution_count": 272,
   "id": "03e4f582",
   "metadata": {},
   "outputs": [],
   "source": [
    "tools=[multipy,add,divide,search]"
   ]
  },
  {
   "cell_type": "code",
   "execution_count": 273,
   "id": "b9e3b083",
   "metadata": {},
   "outputs": [],
   "source": [
    "llm_with_tools=llm.bind_tools(tools)"
   ]
  },
  {
   "cell_type": "code",
   "execution_count": 274,
   "id": "e2758523",
   "metadata": {},
   "outputs": [],
   "source": [
    "response =llm_with_tools.invoke(\"What is the weather in delhi?\")"
   ]
  },
  {
   "cell_type": "code",
   "execution_count": 275,
   "id": "24ecdfcc",
   "metadata": {},
   "outputs": [
    {
     "data": {
      "text/plain": [
       "''"
      ]
     },
     "execution_count": 275,
     "metadata": {},
     "output_type": "execute_result"
    }
   ],
   "source": [
    "response.content"
   ]
  },
  {
   "cell_type": "code",
   "execution_count": 276,
   "id": "4fcf2516",
   "metadata": {},
   "outputs": [
    {
     "data": {
      "text/plain": [
       "[{'name': 'duckduckgo_search',\n",
       "  'args': {'query': 'weather in Delhi'},\n",
       "  'id': 'hr8d0m728',\n",
       "  'type': 'tool_call'}]"
      ]
     },
     "execution_count": 276,
     "metadata": {},
     "output_type": "execute_result"
    }
   ],
   "source": [
    "response.tool_calls"
   ]
  },
  {
   "cell_type": "code",
   "execution_count": 277,
   "id": "cc1b9df8",
   "metadata": {},
   "outputs": [],
   "source": [
    "response=llm_with_tools.invoke(\"what is 2+2 ?\")"
   ]
  },
  {
   "cell_type": "code",
   "execution_count": 278,
   "id": "01752966",
   "metadata": {},
   "outputs": [
    {
     "data": {
      "text/plain": [
       "''"
      ]
     },
     "execution_count": 278,
     "metadata": {},
     "output_type": "execute_result"
    }
   ],
   "source": [
    "response.content"
   ]
  },
  {
   "cell_type": "code",
   "execution_count": 279,
   "id": "c9d5f840",
   "metadata": {},
   "outputs": [
    {
     "data": {
      "text/plain": [
       "[{'name': 'add',\n",
       "  'args': {'a': 2, 'b': 2},\n",
       "  'id': 'ezs2yevk1',\n",
       "  'type': 'tool_call'}]"
      ]
     },
     "execution_count": 279,
     "metadata": {},
     "output_type": "execute_result"
    }
   ],
   "source": [
    "response.tool_calls"
   ]
  },
  {
   "cell_type": "code",
   "execution_count": 280,
   "id": "e991f886",
   "metadata": {},
   "outputs": [],
   "source": [
    "response =llm_with_tools.invoke(\"what is the current age of the universe?\")"
   ]
  },
  {
   "cell_type": "code",
   "execution_count": 281,
   "metadata": {},
   "outputs": [
    {
     "data": {
      "text/plain": [
       "AIMessage(content='', additional_kwargs={'reasoning_content': 'Alright, the user is asking about the current age of the universe. I need to find the most accurate and up-to-date information on this. I remember that the age of the universe is a commonly discussed topic in cosmology, but I\\'m not exactly sure of the exact figure. I think it\\'s around 13.8 billion years, but I should verify this to provide the correct information.\\n\\nI should use the DuckDuckGo search tool to look this up. The function for that is called duckduckgo_search, and it requires a query parameter. So, I\\'ll set up the tool call with the name as \"duckduckgo_search\" and the arguments as a JSON object containing the query \"current age of the universe\".\\n\\nAfter making the search, I\\'ll receive the results, which I can then use to provide an accurate answer to the user. I need to make sure the information I present is reliable and based on credible sources. If the search results confirm the 13.8 billion years figure, I can confidently share that with the user. If there\\'s any variation or update in the information, I\\'ll adjust my response accordingly.\\n\\nIn summary, I\\'ll use the DuckDuckGo search function to find the latest data on the universe\\'s age and then present that information clearly to the user.\\n', 'tool_calls': [{'id': '0ebrfyq44', 'function': {'arguments': '{\"query\":\"current age of the universe\"}', 'name': 'duckduckgo_search'}, 'type': 'function'}]}, response_metadata={'token_usage': {'completion_tokens': 299, 'prompt_tokens': 401, 'total_tokens': 700, 'completion_time': 1.145629352, 'prompt_time': 0.032339145, 'queue_time': 0.055194574999999996, 'total_time': 1.177968497}, 'model_name': 'deepseek-r1-distill-llama-70b', 'system_fingerprint': 'fp_76307ac09b', 'finish_reason': 'tool_calls', 'logprobs': None}, id='run--fdd522f8-37fd-4ee6-95df-d0f72b278c55-0', tool_calls=[{'name': 'duckduckgo_search', 'args': {'query': 'current age of the universe'}, 'id': '0ebrfyq44', 'type': 'tool_call'}], usage_metadata={'input_tokens': 401, 'output_tokens': 299, 'total_tokens': 700})"
      ]
     },
     "execution_count": 281,
     "metadata": {},
     "output_type": "execute_result"
    }
   ],
   "source": [
    "response"
   ]
  },
  {
   "cell_type": "code",
   "execution_count": 282,
   "id": "2872dd65",
   "metadata": {},
   "outputs": [
    {
     "data": {
      "text/plain": [
       "''"
      ]
     },
     "execution_count": 282,
     "metadata": {},
     "output_type": "execute_result"
    }
   ],
   "source": [
    "response.content"
   ]
  },
  {
   "cell_type": "code",
   "execution_count": 283,
   "id": "f9cfb334",
   "metadata": {},
   "outputs": [
    {
     "data": {
      "text/plain": [
       "[{'name': 'duckduckgo_search',\n",
       "  'args': {'query': 'current age of the universe'},\n",
       "  'id': '0ebrfyq44',\n",
       "  'type': 'tool_call'}]"
      ]
     },
     "execution_count": 283,
     "metadata": {},
     "output_type": "execute_result"
    }
   ],
   "source": [
    "response.tool_calls"
   ]
  },
  {
   "cell_type": "code",
   "execution_count": 284,
   "id": "a52d46b5",
   "metadata": {},
   "outputs": [],
   "source": [
    "SYSTEM_PROMPT=\"You are a helpful assistant tasked with using search and performing arithmetic on a set of inputs.\""
   ]
  },
  {
   "cell_type": "code",
   "execution_count": 285,
   "id": "c72dab49",
   "metadata": {},
   "outputs": [],
   "source": [
    "user_query=[\"tell me what is 2+2\"]"
   ]
  },
  {
   "cell_type": "code",
   "execution_count": 286,
   "id": "f6856835",
   "metadata": {},
   "outputs": [
    {
     "data": {
      "text/plain": [
       "['You are a helpful assistant tasked with using search and performing arithmetic on a set of inputs.',\n",
       " 'tell me what is 2+2']"
      ]
     },
     "execution_count": 286,
     "metadata": {},
     "output_type": "execute_result"
    }
   ],
   "source": [
    "[SYSTEM_PROMPT]+user_query"
   ]
  },
  {
   "cell_type": "code",
   "execution_count": 287,
   "id": "caa0a290",
   "metadata": {},
   "outputs": [],
   "source": [
    "def function_1(state:MessagesState):\n",
    "    user_question=state['messages']\n",
    "    input_question=[SYSTEM_PROMPT]+user_question\n",
    "    response=llm_with_tools.invoke(input_question)\n",
    "    return {\n",
    "        \"messages\":[response]\n",
    "    }"
   ]
  },
  {
   "cell_type": "code",
   "execution_count": 288,
   "id": "07f33130",
   "metadata": {},
   "outputs": [],
   "source": [
    "builder=StateGraph(MessagesState)"
   ]
  },
  {
   "cell_type": "code",
   "execution_count": 289,
   "id": "e2fb5b8a",
   "metadata": {},
   "outputs": [
    {
     "data": {
      "text/plain": [
       "<langgraph.graph.state.StateGraph at 0x1b1f6d81a90>"
      ]
     },
     "execution_count": 289,
     "metadata": {},
     "output_type": "execute_result"
    }
   ],
   "source": [
    "builder.add_node(\"llm_decision\",function_1)"
   ]
  },
  {
   "cell_type": "code",
   "execution_count": 290,
   "id": "41036b5a",
   "metadata": {},
   "outputs": [
    {
     "data": {
      "text/plain": [
       "[StructuredTool(name='multipy', description='Multiply two integers.\\n\\nArgs:\\n    a (int): The first integer.\\n    b (int): The second integer.\\n\\nReturns:\\n    int: The product of a and b.', args_schema=<class 'langchain_core.utils.pydantic.multipy'>, func=<function multipy at 0x000001B1937A18A0>),\n",
       " StructuredTool(name='add', description='Add two integers.\\n\\nArgs:\\n    a (int): The first integer.\\n    b (int): The second integer.\\n\\nReturns:\\n    int: The addition of a and b.', args_schema=<class 'langchain_core.utils.pydantic.add'>, func=<function add at 0x000001B1937A0360>),\n",
       " StructuredTool(name='divide', description='Divide two integers.\\n\\nArgs:\\n    a (int): The first integer.\\n    b (int): The second integer.\\n\\nReturns:\\n    int: The divsion of a and b.', args_schema=<class 'langchain_core.utils.pydantic.divide'>, func=<function divide at 0x000001B1937A1F80>),\n",
       " DuckDuckGoSearchRun(api_wrapper=DuckDuckGoSearchAPIWrapper(region='wt-wt', safesearch='moderate', time='y', max_results=5, backend='auto', source='text'))]"
      ]
     },
     "execution_count": 290,
     "metadata": {},
     "output_type": "execute_result"
    }
   ],
   "source": [
    "tools"
   ]
  },
  {
   "cell_type": "code",
   "execution_count": 291,
   "id": "27cf66e9",
   "metadata": {},
   "outputs": [
    {
     "data": {
      "text/plain": [
       "<langgraph.graph.state.StateGraph at 0x1b1f6d81a90>"
      ]
     },
     "execution_count": 291,
     "metadata": {},
     "output_type": "execute_result"
    }
   ],
   "source": [
    "builder.add_node(\"tools\",ToolNode(tools))"
   ]
  },
  {
   "cell_type": "code",
   "execution_count": 292,
   "id": "235eebd1",
   "metadata": {},
   "outputs": [
    {
     "data": {
      "text/plain": [
       "<langgraph.graph.state.StateGraph at 0x1b1f6d81a90>"
      ]
     },
     "execution_count": 292,
     "metadata": {},
     "output_type": "execute_result"
    }
   ],
   "source": [
    "builder.add_edge(START,\"llm_decision\")"
   ]
  },
  {
   "cell_type": "code",
   "execution_count": 293,
   "id": "afa0525c",
   "metadata": {},
   "outputs": [
    {
     "data": {
      "text/plain": [
       "<langgraph.graph.state.StateGraph at 0x1b1f6d81a90>"
      ]
     },
     "execution_count": 293,
     "metadata": {},
     "output_type": "execute_result"
    }
   ],
   "source": [
    "builder.add_conditional_edges(\n",
    "    \"llm_decision\",\n",
    "    tools_condition\n",
    ")"
   ]
  },
  {
   "cell_type": "code",
   "execution_count": 294,
   "id": "28318911",
   "metadata": {},
   "outputs": [
    {
     "data": {
      "text/plain": [
       "<langgraph.graph.state.StateGraph at 0x1b1f6d81a90>"
      ]
     },
     "execution_count": 294,
     "metadata": {},
     "output_type": "execute_result"
    }
   ],
   "source": [
    "builder.add_edge( \"tools\",\"llm_decision\")"
   ]
  },
  {
   "cell_type": "code",
   "execution_count": 295,
   "id": "34829516",
   "metadata": {},
   "outputs": [],
   "source": [
    "react=builder.compile()"
   ]
  },
  {
   "cell_type": "code",
   "execution_count": 296,
   "id": "a9bf8091",
   "metadata": {},
   "outputs": [
    {
     "data": {
      "image/png": "[encoded data removed]",
      "text/plain": [
       "<IPython.core.display.Image object>"
      ]
     },
     "metadata": {},
     "output_type": "display_data"
    }
   ],
   "source": [
    "from IPython.display import Image, display\n",
    "display(Image(react.get_graph().draw_mermaid_png()))"
   ]
  },
  {
   "cell_type": "code",
   "execution_count": 297,
   "id": "eb8bf25e",
   "metadata": {},
   "outputs": [],
   "source": [
    "message=[HumanMessage(content=\"What is 2 times of narendra modi's age?\")]"
   ]
  },
  {
   "cell_type": "code",
   "execution_count": 298,
   "id": "540185d1",
   "metadata": {},
   "outputs": [
    {
     "name": "stderr",
     "output_type": "stream",
     "text": [
      "a:\\Agentic\\venv\\Lib\\site-packages\\langchain_community\\utilities\\duckduckgo_search.py:63: RuntimeWarning: This package (`duckduckgo_search`) has been renamed to `ddgs`! Use `pip install ddgs` instead.\n",
      "  with DDGS() as ddgs:\n"
     ]
    },
    {
     "data": {
      "text/plain": [
       "{'messages': [HumanMessage(content=\"What is 2 times of narendra modi's age?\", additional_kwargs={}, response_metadata={}, id='bbd17374-a5e0-4252-be68-01479df97ba7'),\n",
       "  AIMessage(content=\"First, I'll search for Narendra Modi's age. Then, I'll use the multiply function to calculate twice his age.\\n\\n\", additional_kwargs={'reasoning_content': \"Alright, I need to figure out how to find 2 times Narendra Modi's age. First, I should probably look up his current age. I'll use the DuckDuckGo tool for that. Once I have his age, I can then multiply it by 2 using the multiply function. Let me start by searching for his age.\\n\", 'tool_calls': [{'id': 'qjvwm5zgy', 'function': {'arguments': '{\"query\":\"Narendra Modi age 2023\"}', 'name': 'duckduckgo_search'}, 'type': 'function'}]}, response_metadata={'token_usage': {'completion_tokens': 187, 'prompt_tokens': 424, 'total_tokens': 611, 'completion_time': 0.68, 'prompt_time': 0.034942718, 'queue_time': 0.059592281999999996, 'total_time': 0.714942718}, 'model_name': 'deepseek-r1-distill-llama-70b', 'system_fingerprint': 'fp_76307ac09b', 'finish_reason': 'tool_calls', 'logprobs': None}, id='run--62f6494a-bdd5-449a-b600-a802b7ddf871-0', tool_calls=[{'name': 'duckduckgo_search', 'args': {'query': 'Narendra Modi age 2023'}, 'id': 'qjvwm5zgy', 'type': 'tool_call'}], usage_metadata={'input_tokens': 424, 'output_tokens': 187, 'total_tokens': 611}),\n",
       "  ToolMessage(content='Jun 5, 2025 · Currently, Narendra Modi is the Prime Minister of India, having been in office since 2014. He is the 14th Prime Minister of … Sep 17, 2024 · How PM Modi marked his birthday over the years? 2023: PM Narendra Modi announced the PM Vishwakarma Yojana to enhance the skilling of craftsmen and artisans in the country. Jul 12, 2025 · 75: Age is just a reminder, Mohan Bhagwat’s retirement hint puts focus on Narendra Modi The retirement talk began … Sep 16, 2024 · Prime Minister Narendra Modi is set to turn 74 on Tuesday, September 17, adding another glorious year to his decades of public service. Sep 17, 2024 · In Vadnagar, Gujarat, on September 17, 1950, the current Prime Minister Narendra Modi was born hence PM Modi …', name='duckduckgo_search', id='40d3ca52-f221-4886-83fb-fd97e70d3118', tool_call_id='qjvwm5zgy'),\n",
       "  AIMessage(content=\"To find 2 times Narendra Modi's age:\\n\\n1. **Find Narendra Modi's age**: Narendra Modi was born on September 17, 1950. As of 2023, he is 73 years old.\\n2. **Multiply by 2**: 2 × 73 = 146.\\n\\n\", additional_kwargs={'reasoning_content': \"Alright, the user is asking for 2 times Narendra Modi's age. First, I need to find out how old he is. I remember that he was born in 1950, so I can calculate his age based on the current year, which is 2023. That makes him 73 years old. \\n\\nNext, I need to multiply his age by 2. So, 73 multiplied by 2 equals 146. \\n\\nI should present this in a clear, step-by-step manner to make sure the user understands the process. It's important to keep the explanation simple and straightforward since the user is likely looking for a quick calculation.\\n\", 'tool_calls': [{'id': 'fs97pgy4j', 'function': {'arguments': '{\"a\":2,\"b\":73}', 'name': 'multipy'}, 'type': 'function'}]}, response_metadata={'token_usage': {'completion_tokens': 221, 'prompt_tokens': 676, 'total_tokens': 897, 'completion_time': 0.803636364, 'prompt_time': 0.050956246, 'queue_time': 0.05821691400000001, 'total_time': 0.85459261}, 'model_name': 'deepseek-r1-distill-llama-70b', 'system_fingerprint': 'fp_76307ac09b', 'finish_reason': 'tool_calls', 'logprobs': None}, id='run--abb108e1-c1ec-465c-a98e-f2c51c611eef-0', tool_calls=[{'name': 'multipy', 'args': {'a': 2, 'b': 73}, 'id': 'fs97pgy4j', 'type': 'tool_call'}], usage_metadata={'input_tokens': 676, 'output_tokens': 221, 'total_tokens': 897}),\n",
       "  ToolMessage(content='146', name='multipy', id='7e554035-6654-4689-acfc-021ac84fd25c', tool_call_id='fs97pgy4j'),\n",
       "  AIMessage(content='Narendra Modi is 73 years old as of 2023. Therefore, 2 times his age is:\\n\\n', additional_kwargs={'reasoning_content': 'Okay, so the user is asking, \"What is 2 times of Narendra Modi\\'s age?\" Alright, first, I need to figure out Narendra Modi\\'s current age to calculate this. I don\\'t have that information stored, so I should probably look it up.\\n\\nI remember that I have access to a tool called duckduckgo_search which can help me find current information. So, I\\'ll use that to search for Narendra Modi\\'s age in 2023. \\n\\nWait, let me make sure I\\'m using the right function. The duckduckgo_search tool takes a query as an argument, so I\\'ll structure the search query as \"Narendra Modi age 2023\" and call the function with that.\\n\\nOnce I get the search results, I need to extract his age from the information provided. Let\\'s say the search results mention that Narendra Modi was born in 1950 and it\\'s currently 2023, so his age would be 73.\\n\\nNow that I have his age, I need to calculate 2 times his age. That means I need to multiply 2 by 73. I have a tool called multipy that can handle this. I\\'ll call the multipy function with a=2 and b=73.\\n\\nAfter performing the multiplication, the result is 146. So, 2 times Narendra Modi\\'s age is 146.\\n', 'tool_calls': [{'id': 'adav9kxfq', 'function': {'arguments': '{\"a\":2,\"b\":73}', 'name': 'multipy'}, 'type': 'function'}]}, response_metadata={'token_usage': {'completion_tokens': 343, 'prompt_tokens': 730, 'total_tokens': 1073, 'completion_time': 1.247272727, 'prompt_time': 0.054251179, 'queue_time': 0.060278462000000005, 'total_time': 1.301523906}, 'model_name': 'deepseek-r1-distill-llama-70b', 'system_fingerprint': 'fp_76307ac09b', 'finish_reason': 'tool_calls', 'logprobs': None}, id='run--a0949574-e53e-4a4a-b4f5-9bffab47f309-0', tool_calls=[{'name': 'multipy', 'args': {'a': 2, 'b': 73}, 'id': 'adav9kxfq', 'type': 'tool_call'}], usage_metadata={'input_tokens': 730, 'output_tokens': 343, 'total_tokens': 1073}),\n",
       "  ToolMessage(content='146', name='multipy', id='145f5446-e3f2-4dbd-bd0d-a4fe48ee2a33', tool_call_id='adav9kxfq'),\n",
       "  AIMessage(content=\"2 times Narendra Modi's age in 2023 is 146.\", additional_kwargs={'reasoning_content': \"Alright, so I need to figure out what 2 times Narendra Modi's age is. First, I should find out how old Narendra Modi is in 2023. I remember that he was born in 1950, so subtracting 1950 from 2023 gives me 73 years old. \\n\\nNow, I need to multiply his age by 2. So, 73 multiplied by 2 equals 146. That means 2 times Narendra Modi's age in 2023 is 146.\\n\"}, response_metadata={'token_usage': {'completion_tokens': 123, 'prompt_tokens': 784, 'total_tokens': 907, 'completion_time': 0.447272727, 'prompt_time': 0.057514885, 'queue_time': 0.060064044, 'total_time': 0.504787612}, 'model_name': 'deepseek-r1-distill-llama-70b', 'system_fingerprint': 'fp_76307ac09b', 'finish_reason': 'stop', 'logprobs': None}, id='run--912e618a-3ce3-46af-b94c-3bb0d61e3ebe-0', usage_metadata={'input_tokens': 784, 'output_tokens': 123, 'total_tokens': 907})]}"
      ]
     },
     "execution_count": 298,
     "metadata": {},
     "output_type": "execute_result"
    }
   ],
   "source": [
    "react.invoke({\"messages\": message})"
   ]
  },
  {
   "cell_type": "code",
   "execution_count": 299,
   "id": "3d976d2f",
   "metadata": {},
   "outputs": [],
   "source": [
    "message = [HumanMessage(content=\"How much is the net worth of Elon Musk, and divide it by 2?\")]"
   ]
  },
  {
   "cell_type": "code",
   "execution_count": 300,
   "id": "843ca339",
   "metadata": {},
   "outputs": [
    {
     "name": "stderr",
     "output_type": "stream",
     "text": [
      "a:\\Agentic\\venv\\Lib\\site-packages\\langchain_community\\utilities\\duckduckgo_search.py:63: RuntimeWarning: This package (`duckduckgo_search`) has been renamed to `ddgs`! Use `pip install ddgs` instead.\n",
      "  with DDGS() as ddgs:\n"
     ]
    },
    {
     "data": {
      "text/plain": [
       "{'messages': [HumanMessage(content='How much is the net worth of Elon Musk, and divide it by 2?', additional_kwargs={}, response_metadata={}, id='dcc2e6ef-302e-4d33-8729-24d3fd55c5b2'),\n",
       "  AIMessage(content=\"First, I will search for Elon Musk's current net worth.\\n\\n\", additional_kwargs={'reasoning_content': \"Alright, so the user is asking about Elon Musk's net worth and then dividing it by two. I need to figure this out step by step. First, I don't have real-time data, so I'll start by using the DuckDuckGo search tool to find the current net worth of Elon Musk.\\n\\nOnce I have that information, the next step is to divide the net worth by 2. I'll use the divide function for that. I need to make sure that the numbers are accurate and in the correct format for the function to work properly.\\n\\nI should also consider the possibility that the net worth figure might be in a different currency or format, so I'll need to handle that if necessary. After performing the division, I'll present the result clearly to the user.\\n\", 'tool_calls': [{'id': 'h4b2qybxc', 'function': {'arguments': '{\"query\":\"Elon Musk net worth 2023\"}', 'name': 'duckduckgo_search'}, 'type': 'function'}]}, response_metadata={'token_usage': {'completion_tokens': 261, 'prompt_tokens': 428, 'total_tokens': 689, 'completion_time': 0.949090909, 'prompt_time': 0.027400145, 'queue_time': 0.054788617, 'total_time': 0.976491054}, 'model_name': 'deepseek-r1-distill-llama-70b', 'system_fingerprint': 'fp_76307ac09b', 'finish_reason': 'tool_calls', 'logprobs': None}, id='run--0a7e02af-b908-4414-a21d-44372078ce5e-0', tool_calls=[{'name': 'duckduckgo_search', 'args': {'query': 'Elon Musk net worth 2023'}, 'id': 'h4b2qybxc', 'type': 'tool_call'}], usage_metadata={'input_tokens': 428, 'output_tokens': 261, 'total_tokens': 689}),\n",
       "  ToolMessage(content=\"Sep 13, 2024 · As of 2023, Elon Musk’s net worth was a staggering $163,5 billion. Musk owes a huge chunk of his wealth to his 20% stake in … Sep 26, 2024 · Elon Musk, the world's wealthiest person, has seen his fortune rise dramatically in 2023, with his net worth reaching $270 billion, … 1 day ago · It was valued at nearly $85 billion by investors Fidelity and Barron in April and March 2025 filings, according to Bloomberg … 1 day ago · Forbes estimates that the social media company, which he renamed X, is worth nearly 70% less as of August 2024. Musk … Oct 22, 2024 · As of October 2023, Elon Musk's net worth is a staggering $230 billion, making him one of the richest individuals on the …\", name='duckduckgo_search', id='b2b67052-34c9-4b55-8066-4cfdc30f2b62', tool_call_id='h4b2qybxc'),\n",
       "  AIMessage(content='The net worth of Elon Musk is estimated to be around $230 billion as of October 2023. Dividing this by 2 gives:\\n\\n', additional_kwargs={'reasoning_content': 'Alright, the user is asking about Elon Musk\\'s net worth and then dividing it by two. First, I need to find the most accurate and up-to-date information on Elon Musk\\'s net worth. I\\'ll use the DuckDuckGo tool to search for \"Elon Musk net worth 2023\" to get the latest figures.\\n\\nLooking at the tool\\'s output, there are multiple sources providing different estimates. Some mention $163.5 billion, others $270 billion, and another around $230 billion. There\\'s also a mention of a valuation around $85 billion from Fidelity and Barron. It seems like the net worth varies significantly depending on the source and the date.\\n\\nTo provide a reliable answer, I should probably take an average or pick the most recent estimate. However, since the exact figure isn\\'t consistent, I\\'ll note that the net worth is estimated to be around $230 billion as of October 2023, as that seems to be a commonly referenced figure in the provided results.\\n\\nNext, I need to divide this number by two. So, $230 billion divided by 2 equals $115 billion. This would be the result of the division.\\n\\nI should present this information clearly, indicating that the net worth is approximately $230 billion and half of that is $115 billion. It\\'s important to mention that the exact figure can vary based on the source and the time of the query.\\n', 'tool_calls': [{'id': 't0bncjebf', 'function': {'arguments': '{\"a\":230000000000,\"b\":2}', 'name': 'divide'}, 'type': 'function'}]}, response_metadata={'token_usage': {'completion_tokens': 368, 'prompt_tokens': 673, 'total_tokens': 1041, 'completion_time': 1.338181818, 'prompt_time': 0.051238343, 'queue_time': 0.057121228, 'total_time': 1.3894201609999999}, 'model_name': 'deepseek-r1-distill-llama-70b', 'system_fingerprint': 'fp_76307ac09b', 'finish_reason': 'tool_calls', 'logprobs': None}, id='run--9d9b6055-6e85-48b8-842b-da785321e8b1-0', tool_calls=[{'name': 'divide', 'args': {'a': 230000000000, 'b': 2}, 'id': 't0bncjebf', 'type': 'tool_call'}], usage_metadata={'input_tokens': 673, 'output_tokens': 368, 'total_tokens': 1041}),\n",
       "  ToolMessage(content='115000000000.0', name='divide', id='334503a0-094d-441a-824d-369f10aee543', tool_call_id='t0bncjebf'),\n",
       "  AIMessage(content=\"As of October 2023, Elon Musk's net worth is estimated to be around $230 billion. When we divide this amount by 2, we get:\\n\\n\\\\[\\n\\\\frac{230,000,000,000}{2} = 115,000,000,000\\n\\\\]\\n\\nTherefore, half of Elon Musk's net worth is **\\\\$115 billion**.\", additional_kwargs={'reasoning_content': 'Alright, so I need to figure out how much Elon Musk\\'s net worth is and then divide it by 2. First, I\\'ll start by searching for the most recent information on Elon Musk\\'s net worth. I\\'ll use the DuckDuckGo search tool to look up \"Elon Musk net worth 2023\" to get the latest data.\\n\\nAfter conducting the search, I find that as of October 2023, Elon Musk\\'s net worth is estimated to be around $230 billion. Now, I need to divide this amount by 2. I\\'ll use the divide tool for this calculation.\\n\\nSo, I\\'ll input 230,000,000,000 as the first argument and 2 as the second argument into the divide function. This will give me the result of dividing Elon Musk\\'s net worth by 2.\\n\\nThe result of dividing $230 billion by 2 is $115 billion. Therefore, half of Elon Musk\\'s net worth as of October 2023 is $115 billion.\\n'}, response_metadata={'token_usage': {'completion_tokens': 285, 'prompt_tokens': 735, 'total_tokens': 1020, 'completion_time': 1.036363636, 'prompt_time': 0.047972879, 'queue_time': 0.06573780099999998, 'total_time': 1.084336515}, 'model_name': 'deepseek-r1-distill-llama-70b', 'system_fingerprint': 'fp_76307ac09b', 'finish_reason': 'stop', 'logprobs': None}, id='run--a88382de-1212-488b-98e6-5f7d841ff7dc-0', usage_metadata={'input_tokens': 735, 'output_tokens': 285, 'total_tokens': 1020})]}"
      ]
     },
     "execution_count": 300,
     "metadata": {},
     "output_type": "execute_result"
    }
   ],
   "source": [
    "react.invoke({\"messages\": message})"
   ]
  },
  {
   "cell_type": "code",
   "execution_count": 301,
   "id": "94e39cd9",
   "metadata": {},
   "outputs": [
    {
     "name": "stderr",
     "output_type": "stream",
     "text": [
      "a:\\Agentic\\venv\\Lib\\site-packages\\langchain_community\\utilities\\duckduckgo_search.py:63: RuntimeWarning: This package (`duckduckgo_search`) has been renamed to `ddgs`! Use `pip install ddgs` instead.\n",
      "  with DDGS() as ddgs:\n"
     ]
    }
   ],
   "source": [
    "message = [HumanMessage(content=\"What is the speed of light in m/s and multiply it by 10?\")]\n",
    "response=react.invoke({\"messages\":message})"
   ]
  },
  {
   "cell_type": "code",
   "execution_count": 302,
   "id": "9356d5d1",
   "metadata": {},
   "outputs": [
    {
     "data": {
      "text/plain": [
       "'The speed of light in a vacuum is approximately 299,792,458 meters per second. Multiplying this value by 10 gives:\\n\\n299,792,458 m/s × 10 = 2,997,924,580 m/s\\n\\n**Answer:** 2,997,924,580 m/s'"
      ]
     },
     "execution_count": 302,
     "metadata": {},
     "output_type": "execute_result"
    }
   ],
   "source": [
    "\n",
    "response[\"messages\"][-1].content"
   ]
  },
  {
   "cell_type": "code",
   "execution_count": 303,
   "id": "65ce8b5d",
   "metadata": {},
   "outputs": [
    {
     "name": "stdout",
     "output_type": "stream",
     "text": [
      "================================\u001b[1m Human Message \u001b[0m=================================\n",
      "\n",
      "What is the speed of light in m/s and multiply it by 10?\n",
      "==================================\u001b[1m Ai Message \u001b[0m==================================\n",
      "\n",
      "To determine the speed of light in meters per second and multiply it by 10, I'll first confirm the exact value using DuckDuckGo and then perform the multiplication.\n",
      "Tool Calls:\n",
      "  duckduckgo_search (he7gz291b)\n",
      " Call ID: he7gz291b\n",
      "  Args:\n",
      "    query: speed of light in m/s\n",
      "=================================\u001b[1m Tool Message \u001b[0m=================================\n",
      "Name: duckduckgo_search\n",
      "\n",
      "May 28, 2025 · The speed of light in air is approximately 3 × 10⁸ m/s, a key constant in physics that’s close to its speed in a vacuum. It underpins concepts like optics and relativity, powers … Jan 8, 2025 · Light travels at a constant speed of 299,792,458 metres per second (approximately 300,000 kilometres per second or 186,000 miles per second). This speed is denoted by the … Dec 26, 2024 · The speed of light is the rate at which light waves propagate through different materials. In particular, the speed of light in a vacuum is defined as exactly 299,792,458 … May 9, 2025 · The speed of light in a vacuum is approximately 299,792,458 meters per second (m/s). This value is considered a fundamental constant of nature and is one of the most … Feb 20, 2025 · The speed of light in a vacuum, denoted as c, is approximately 2.998 x 10^8 meters per second. This notation simplifies the expression and manipulation of very large or …\n",
      "==================================\u001b[1m Ai Message \u001b[0m==================================\n",
      "\n",
      "The speed of light in a vacuum is approximately 299,792,458 meters per second. Multiplying this value by 10 gives:\n",
      "\n",
      "299,792,458 m/s × 10 = 2,997,924,580 m/s\n",
      "\n",
      "**Answer:** 2,997,924,580 m/s\n"
     ]
    }
   ],
   "source": [
    "for m in response[\"messages\"]:\n",
    "    m.pretty_print()"
   ]
  },
  {
   "cell_type": "code",
   "execution_count": 304,
   "id": "f0b4f537",
   "metadata": {},
   "outputs": [],
   "source": [
    "import yfinance as yf"
   ]
  },
  {
   "cell_type": "code",
   "execution_count": 305,
   "id": "2b669f1f",
   "metadata": {},
   "outputs": [],
   "source": [
    "\n",
    "@tool\n",
    "def get_stock_price(ticker:str)->str:\n",
    "    \"\"\"\n",
    "    Fetches the previous closing price of a given stock ticker from Yahoo Finance.\n",
    "\n",
    "    Args:\n",
    "        ticker (str): The stock ticker symbol (e.g., 'AAPL', 'TSLA', 'NIFTY.BO').\n",
    "\n",
    "    Returns:\n",
    "        str: A message with the stock's previous closing price.\n",
    "    \"\"\"\n",
    "    try:\n",
    "        stock = yf.Ticker(ticker)\n",
    "        price = stock.info.get('previousClose')\n",
    "        if price is None:\n",
    "            return f\"Could not fetch price for ticker '{ticker}'.\"\n",
    "        return f\"The last closing price of {ticker.upper()} was ${price:.2f}.\"\n",
    "    except Exception as e:\n",
    "        return f\"An error occurred while fetching stock data: {str(e)}\""
   ]
  },
  {
   "cell_type": "code",
   "execution_count": 306,
   "id": "7ddc8da5",
   "metadata": {},
   "outputs": [
    {
     "data": {
      "text/plain": [
       "'The last closing price of AAPL was $210.02.'"
      ]
     },
     "execution_count": 306,
     "metadata": {},
     "output_type": "execute_result"
    }
   ],
   "source": [
    "get_stock_price.invoke(\"AAPL\")"
   ]
  },
  {
   "cell_type": "code",
   "execution_count": 307,
   "id": "c8e3ee4b",
   "metadata": {},
   "outputs": [
    {
     "data": {
      "text/plain": [
       "'The last closing price of HAL was $21.54.'"
      ]
     },
     "execution_count": 307,
     "metadata": {},
     "output_type": "execute_result"
    }
   ],
   "source": [
    "get_stock_price.invoke(\"HAL\")"
   ]
  },
  {
   "cell_type": "code",
   "execution_count": 308,
   "id": "4bb7a2ed",
   "metadata": {},
   "outputs": [
    {
     "data": {
      "text/plain": [
       "[StructuredTool(name='multipy', description='Multiply two integers.\\n\\nArgs:\\n    a (int): The first integer.\\n    b (int): The second integer.\\n\\nReturns:\\n    int: The product of a and b.', args_schema=<class 'langchain_core.utils.pydantic.multipy'>, func=<function multipy at 0x000001B1937A18A0>),\n",
       " StructuredTool(name='add', description='Add two integers.\\n\\nArgs:\\n    a (int): The first integer.\\n    b (int): The second integer.\\n\\nReturns:\\n    int: The addition of a and b.', args_schema=<class 'langchain_core.utils.pydantic.add'>, func=<function add at 0x000001B1937A0360>),\n",
       " StructuredTool(name='divide', description='Divide two integers.\\n\\nArgs:\\n    a (int): The first integer.\\n    b (int): The second integer.\\n\\nReturns:\\n    int: The divsion of a and b.', args_schema=<class 'langchain_core.utils.pydantic.divide'>, func=<function divide at 0x000001B1937A1F80>),\n",
       " DuckDuckGoSearchRun(api_wrapper=DuckDuckGoSearchAPIWrapper(region='wt-wt', safesearch='moderate', time='y', max_results=5, backend='auto', source='text'))]"
      ]
     },
     "execution_count": 308,
     "metadata": {},
     "output_type": "execute_result"
    }
   ],
   "source": [
    "tools"
   ]
  },
  {
   "cell_type": "code",
   "execution_count": 309,
   "id": "fbb708b8",
   "metadata": {},
   "outputs": [],
   "source": [
    "tools=[multipy,add,divide,search,get_stock_price]"
   ]
  },
  {
   "cell_type": "code",
   "execution_count": 310,
   "id": "8cfa932f",
   "metadata": {},
   "outputs": [],
   "source": [
    "llm_with_tools = llm.bind_tools(tools)"
   ]
  },
  {
   "cell_type": "code",
   "execution_count": 311,
   "id": "7cbdbc8b",
   "metadata": {},
   "outputs": [],
   "source": [
    "\n",
    "response=llm_with_tools.invoke(\"can you give me  stock price of adani greens?\")"
   ]
  },
  {
   "cell_type": "code",
   "execution_count": 312,
   "id": "599ff778",
   "metadata": {},
   "outputs": [
    {
     "data": {
      "text/plain": [
       "''"
      ]
     },
     "execution_count": 312,
     "metadata": {},
     "output_type": "execute_result"
    }
   ],
   "source": [
    "response.content"
   ]
  },
  {
   "cell_type": "code",
   "execution_count": 313,
   "id": "865ac6e4",
   "metadata": {},
   "outputs": [
    {
     "data": {
      "text/plain": [
       "[{'name': 'get_stock_price',\n",
       "  'args': {'ticker': 'ADANIGREEN.NS'},\n",
       "  'id': 'edj9tst9m',\n",
       "  'type': 'tool_call'}]"
      ]
     },
     "execution_count": 313,
     "metadata": {},
     "output_type": "execute_result"
    }
   ],
   "source": [
    "response.tool_calls"
   ]
  },
  {
   "cell_type": "code",
   "execution_count": 314,
   "id": "05589025",
   "metadata": {},
   "outputs": [],
   "source": [
    "SYSTEM_PROMPT = SystemMessage(\n",
    "    content=\"You are a helpful assistant tasked with using search, the yahoo finance tool and performing arithmetic on a set of inputs.\"\n",
    ")\n",
    "def function_1(state:MessagesState):\n",
    "    \n",
    "    user_question=state[\"messages\"]\n",
    "    \n",
    "    input_question = [SYSTEM_PROMPT]+user_question\n",
    "    \n",
    "    response = llm_with_tools.invoke(input_question)\n",
    "    \n",
    "    return {\n",
    "        \"messages\":[response]\n",
    "    }"
   ]
  },
  {
   "cell_type": "code",
   "execution_count": 315,
   "id": "d1ec4b88",
   "metadata": {},
   "outputs": [],
   "source": [
    "workflow = StateGraph(MessagesState)\n",
    "workflow.add_node(\"llm_decision_step\", function_1)\n",
    "workflow.add_node(\"tools\", ToolNode(tools))\n",
    "workflow.add_edge(START, \"llm_decision_step\")\n",
    "workflow.add_conditional_edges(\n",
    "    \"llm_decision_step\",\n",
    "    tools_condition,\n",
    ")\n",
    "workflow.add_edge(\"tools\", \"llm_decision_step\")\n",
    "react_graph2 = workflow.compile()"
   ]
  },
  {
   "cell_type": "code",
   "execution_count": 316,
   "id": "688bd061",
   "metadata": {},
   "outputs": [
    {
     "data": {
      "image/png": "[encoded data removed]",
      "text/plain": [
       "<IPython.core.display.Image object>"
      ]
     },
     "metadata": {},
     "output_type": "display_data"
    }
   ],
   "source": [
    "display(Image(react_graph2.get_graph(xray=True).draw_mermaid_png()))"
   ]
  },
  {
   "cell_type": "code",
   "execution_count": 317,
   "id": "ebd7370b",
   "metadata": {},
   "outputs": [],
   "source": [
    "messages = [HumanMessage(content=\"add 1000 in the current stock price of Apple.\")]\n",
    "messages = react_graph2.invoke({\"messages\": messages})"
   ]
  },
  {
   "cell_type": "code",
   "execution_count": 318,
   "id": "8dd63a78",
   "metadata": {},
   "outputs": [
    {
     "name": "stdout",
     "output_type": "stream",
     "text": [
      "================================\u001b[1m Human Message \u001b[0m=================================\n",
      "\n",
      "add 1000 in the current stock price of Apple.\n",
      "==================================\u001b[1m Ai Message \u001b[0m==================================\n",
      "\n",
      "To add 1000 to the current stock price of Apple (AAPL), we'll first retrieve the stock price and then perform the addition.\n",
      "\n",
      "**Step 1: Get the current stock price of Apple**\n",
      "```xml\n",
      "Tool Calls:\n",
      "  get_stock_price (2hczyyzvm)\n",
      " Call ID: 2hczyyzvm\n",
      "  Args:\n",
      "    ticker: AAPL\n",
      "=================================\u001b[1m Tool Message \u001b[0m=================================\n",
      "Name: get_stock_price\n",
      "\n",
      "The last closing price of AAPL was $210.02.\n",
      "==================================\u001b[1m Ai Message \u001b[0m==================================\n",
      "Tool Calls:\n",
      "  get_stock_price (2hczyyzvm)\n",
      " Call ID: 2hczyyzvm\n",
      "  Args:\n",
      "    ticker: AAPL\n",
      "=================================\u001b[1m Tool Message \u001b[0m=================================\n",
      "Name: get_stock_price\n",
      "\n",
      "The last closing price of AAPL was $210.02.\n",
      "==================================\u001b[1m Ai Message \u001b[0m==================================\n",
      "\n",
      "The last closing price of Apple (AAPL) was **$210.02**. Adding 1000 to this price:\n",
      "\n",
      "$210.02 + $1000 = **$1,210.02**.\n",
      "\n",
      "So, the result is **$1,210.02**.\n"
     ]
    }
   ],
   "source": [
    "for m in messages['messages']:\n",
    "    m.pretty_print()"
   ]
  },
  {
   "cell_type": "markdown",
   "id": "97c8f590",
   "metadata": {},
   "source": [
    "use good resaoning model to run complex query"
   ]
  },
  {
   "cell_type": "code",
   "execution_count": null,
   "id": "afbb8134",
   "metadata": {},
   "outputs": [],
   "source": [
    "messages = [HumanMessage(content=\"can you give me 2 times of current stock price of Apple with the latest news of the Apple.\")]\n",
    "messages = react_graph2.invoke({\"messages\": messages})"
   ]
  },
  {
   "cell_type": "code",
   "execution_count": null,
   "id": "13de4bae",
   "metadata": {},
   "outputs": [],
   "source": [
    "for m in messages['messages']:\n",
    "    m.pretty_print()"
   ]
  }
 ],
 "metadata": {
  "kernelspec": {
   "display_name": "Python 3",
   "language": "python",
   "name": "python3"
  },
  "language_info": {
   "codemirror_mode": {
    "name": "ipython",
    "version": 3
   },
   "file_extension": ".py",
   "mimetype": "text/x-python",
   "name": "python",
   "nbconvert_exporter": "python",
   "pygments_lexer": "ipython3",
   "version": "3.13.5"
  }
 },
 "nbformat": 4,
 "nbformat_minor": 5
}
