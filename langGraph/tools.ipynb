{
 "cells": [
  {
   "cell_type": "code",
   "execution_count": 1,
   "id": "71169178",
   "metadata": {},
   "outputs": [
    {
     "name": "stderr",
     "output_type": "stream",
     "text": [
      "a:\\Agentic\\venv\\Lib\\site-packages\\requests\\__init__.py:86: RequestsDependencyWarning: Unable to find acceptable character detection dependency (chardet or charset_normalizer).\n",
      "  warnings.warn(\n"
     ]
    }
   ],
   "source": [
    "from langchain_community.tools import WikipediaQueryRun\n",
    "from langchain_community.utilities import WikipediaAPIWrapper"
   ]
  },
  {
   "cell_type": "code",
   "execution_count": 2,
   "id": "25e2da08",
   "metadata": {},
   "outputs": [],
   "source": [
    "api_wrapper = WikipediaAPIWrapper(top_k_results=5,doc_content_chars_max=500)\n",
    "wiki_tool=WikipediaQueryRun(api_wrapper=api_wrapper)"
   ]
  },
  {
   "cell_type": "code",
   "execution_count": 5,
   "metadata": {},
   "outputs": [
    {
     "data": {
      "text/plain": [
       "'Page: Derren Brown\\nSummary: Derren Brown (born 27 February 1971) is an English mentalist, illusionist, and writer. He is a self-described \"psychological illusionist\" whose acts are often designed to expose the methods of those who claim to possess supernatural powers, such as faith healers and mediums. His live performances, which incorporate audience participation and comedy, often include statements describing how his results are achieved through a combination of psychology, showmanship, magic'"
      ]
     },
     "execution_count": 5,
     "metadata": {},
     "output_type": "execute_result"
    }
   ],
   "source": [
    "wiki_tool.invoke({\"query\":\"tell me about transformmers in NLP.\"})"
   ]
  },
  {
   "cell_type": "code",
   "execution_count": 6,
   "id": "704506fd",
   "metadata": {},
   "outputs": [
    {
     "data": {
      "text/plain": [
       "'wikipedia'"
      ]
     },
     "execution_count": 6,
     "metadata": {},
     "output_type": "execute_result"
    }
   ],
   "source": [
    "wiki_tool.name"
   ]
  },
  {
   "cell_type": "code",
   "execution_count": 7,
   "id": "4c87ff33",
   "metadata": {},
   "outputs": [
    {
     "data": {
      "text/plain": [
       "'A wrapper around Wikipedia. Useful for when you need to answer general questions about people, places, companies, facts, historical events, or other subjects. Input should be a search query.'"
      ]
     },
     "execution_count": 7,
     "metadata": {},
     "output_type": "execute_result"
    }
   ],
   "source": [
    "wiki_tool.description"
   ]
  },
  {
   "cell_type": "code",
   "execution_count": 8,
   "id": "ad5f505b",
   "metadata": {},
   "outputs": [
    {
     "data": {
      "text/plain": [
       "{'query': {'description': 'query to look up on wikipedia',\n",
       "  'title': 'Query',\n",
       "  'type': 'string'}}"
      ]
     },
     "execution_count": 8,
     "metadata": {},
     "output_type": "execute_result"
    }
   ],
   "source": [
    "wiki_tool.args"
   ]
  },
  {
   "cell_type": "code",
   "execution_count": 10,
   "id": "e7a2cf19",
   "metadata": {},
   "outputs": [
    {
     "name": "stderr",
     "output_type": "stream",
     "text": [
      "a:\\Agentic\\venv\\Lib\\site-packages\\wikipedia\\wikipedia.py:389: GuessedAtParserWarning: No parser was explicitly specified, so I'm using the best available HTML parser for this system (\"html.parser\"). This usually isn't a problem, but if you run this code on another system, or in a different virtual environment, it may use a different parser and behave differently.\n",
      "\n",
      "The code that caused this warning is on line 389 of the file a:\\Agentic\\venv\\Lib\\site-packages\\wikipedia\\wikipedia.py. To get rid of this warning, pass the additional argument 'features=\"html.parser\"' to the BeautifulSoup constructor.\n",
      "\n",
      "  lis = BeautifulSoup(html).find_all('li')\n"
     ]
    },
    {
     "data": {
      "text/plain": [
       "\"Page: Royal Challengers Bengaluru\\nSummary: Royal Challengers Bengaluru, formerly Royal Challengers Bangalore, also known as RCB, are a professional Twenty20 cricket team based in Bengaluru, Karnataka, that competes in the Indian Premier League (IPL). Founded in 2008 by United Spirits, the team's home ground is M. Chinnaswamy Stadium. They won their first title in 2025. The team finished as the runners-up on three occasions: in 2009, 2011, and 2016. They have also qualified for the playoffs in te\""
      ]
     },
     "execution_count": 10,
     "metadata": {},
     "output_type": "execute_result"
    }
   ],
   "source": [
    "wiki_tool.run(\"RCB\")"
   ]
  },
  {
   "cell_type": "code",
   "execution_count": 15,
   "id": "86ab21a2",
   "metadata": {},
   "outputs": [
    {
     "data": {
      "text/plain": [
       "\"['https://www.youtube.com/watch?v=K0LfOe0qTFU&pp=ygULV2hpdGUgaG91c2U%3D', 'https://www.youtube.com/watch?v=xjfw_fNRfds&pp=ygULV2hpdGUgaG91c2U%3D']\""
      ]
     },
     "execution_count": 15,
     "metadata": {},
     "output_type": "execute_result"
    }
   ],
   "source": [
    "from langchain_community.tools import YouTubeSearchTool\n",
    "tool=YouTubeSearchTool()\n",
    "tool.run(\"White house\")"
   ]
  },
  {
   "cell_type": "code",
   "execution_count": 16,
   "id": "d1007cae",
   "metadata": {},
   "outputs": [
    {
     "data": {
      "text/plain": [
       "{'query': {'title': 'Query', 'type': 'string'}}"
      ]
     },
     "execution_count": 16,
     "metadata": {},
     "output_type": "execute_result"
    }
   ],
   "source": [
    "tool.args"
   ]
  },
  {
   "cell_type": "code",
   "execution_count": 17,
   "id": "0a50322d",
   "metadata": {},
   "outputs": [
    {
     "data": {
      "text/plain": [
       "\"['https://www.youtube.com/watch?v=k85crtfHklk&pp=ygUDUkJJ', 'https://www.youtube.com/shorts/qsEtF5bqUHY']\""
      ]
     },
     "execution_count": 17,
     "metadata": {},
     "output_type": "execute_result"
    }
   ],
   "source": [
    "tool.invoke({\"query\":\"RBI\"})"
   ]
  },
  {
   "cell_type": "code",
   "execution_count": 20,
   "id": "708a394a",
   "metadata": {},
   "outputs": [],
   "source": [
    "import os\n",
    "from dotenv import load_dotenv\n",
    "load_dotenv()\n",
    "from langchain_community.tools.tavily_search import TavilySearchResults\n",
    "TAVILY_API_KEY=os.getenv(\"TAVILY_API_KEY\")\n",
    "tool=TavilySearchResults(api_key=TAVILY_API_KEY)"
   ]
  },
  {
   "cell_type": "code",
   "execution_count": 21,
   "id": "0282c675",
   "metadata": {},
   "outputs": [
    {
     "data": {
      "text/plain": [
       "[{'title': 'Ten Most Significant World Events in 2023',\n",
       "  'url': 'https://www.cfr.org/blog/ten-most-significant-world-events-2023',\n",
       "  'content': '2. Hamas attacks Israel.The Middle East looked promising in late September 2023. The Abraham Accords were deepening ties between Israel and Arab countries. Speculation abounded that Saudi Arabia might soon establish diplomatic relations with Israel. A ceasefire in Yemen’s bitter civil war was holding. These trends prompted National Security Advisor Jake Sullivan to declare: “The Middle East region is quieter today than it has been in two decades now.” That changed just eight days later, on [...] You are not alone if 2023 has you feeling worn down. It has been a trying year on the world scene, as the forces of disarray grew stronger. Ongoing wars ground on, while new ones erupted. Geopolitical competition increased, to the point where a meeting between rival heads of state became front-page news even though their talks yielded little tangible progress. In all, good news has been in short supply. So here are my top ten world events in 2023. You may want to read what follows closely. Many [...] vehicle on the moon, and the first to do so near the moon’s south polar region. Two weeks later, India launched a mission to study the sun. China and the United States also have ambitious moon programs, with NASA aiming to return astronauts to the moon by 2025. These and other space-related efforts are fueling concerns that geopolitical rivalries will lead to the militarization of space. The surge in interest in space has also highlighted the lack of rules governing space operations. The United',\n",
       "  'score': 0.850382},\n",
       " {'title': '2023 - Wikipedia',\n",
       "  'url': 'https://en.wikipedia.org/wiki/2023',\n",
       "  'content': 'Morocco, killing 2,960 people; and a 6.3 magnitude quadruple earthquake striking western Afghanistan, killing over 1,400 people. The year also saw a decline in the severity of the COVID-19 pandemic, with the WHO (World Health Organization) ending its global health emergency status in May. [...] Catastrophic natural disasters in 2023 included the 5th-deadliest earthquake of the 21st centurystrikingTurkey and Syria, leaving up to 62,000 people dead; Cyclone Freddy, the longest-lasting recorded tropical cyclone in history in the Indian Ocean, which led to over 1,400 deaths in Malawi and Mozambique; Storm Daniel, which became the deadliest tropical cyclone worldwide since Typhoon Haiyan after killing at least 5,300 people in Libya; a major 6.8 magnitude earthquake striking western [...] The Russian invasion of Ukraine and Myanmar civil war \"Myanmar civil war (2021–present)\") continued in 2023, and a series ofcoups, several armed conflicts, and political crises broke out in numerous African nations, most notably a Sudanese civil war \"Sudanese civil war (2023–present)\"). In Armenia and Azerbaijan, the Nagorno-Karabakh conflict ended after over 100,000 Armeniansfled the region after an Azeri military invasion. In India, the year marked the beginning of the ethnic violence in the',\n",
       "  'score': 0.8319231},\n",
       " {'title': 'Year Ender | A look at the top global events of 2023 - CNBC TV18',\n",
       "  'url': 'https://www.cnbctv18.com/world/top-major-world-events-in-2023-israel-hamas-war-g20-brics-henry-kissinger-year-ender-18682371.htm',\n",
       "  'content': \"Notable occurrences include India surpassing China as the world's most populous country, Henry Kissinger's death and the Hamas-Israel conflict.\",\n",
       "  'score': 0.8131201},\n",
       " {'title': \"2023 In Review: The Year's Top International News Stories - i24NEWS\",\n",
       "  'url': 'https://www.i24news.tv/en/news/international/1703367615-a-look-back-2023-s-biggest-global-news-stories',\n",
       "  'content': \"We take a look back on the biggest moments of each month that caught the world's attention. Natural disasters, the war in Ukraine, and a new King of the United\",\n",
       "  'score': 0.8066246},\n",
       " {'title': 'Year in Review: The top global events that shaped 2023 - dive in now!',\n",
       "  'url': 'https://timesofindia.indiatimes.com/world/rest-of-world/year-in-review-the-top-global-events-that-shaped-2023-dive-in-now/photostory/106327483.cms',\n",
       "  'content': \"India passes China as the world's most populous country · \\u200bEarthquake in Turkey and Syria · The space race heats up · The lost submersible.\",\n",
       "  'score': 0.78493005}]"
      ]
     },
     "execution_count": 21,
     "metadata": {},
     "output_type": "execute_result"
    }
   ],
   "source": [
    "tool.invoke({\"query\":\"What happened to the world in 2023?\"})"
   ]
  },
  {
   "cell_type": "markdown",
   "id": "d71645d2",
   "metadata": {},
   "source": [
    "Custom_tool"
   ]
  },
  {
   "cell_type": "code",
   "execution_count": 22,
   "id": "441ad6d5",
   "metadata": {},
   "outputs": [],
   "source": [
    "def multipy(a:int,b:int)->int:\n",
    "    return a*b"
   ]
  },
  {
   "cell_type": "code",
   "execution_count": 23,
   "id": "7e1d3370",
   "metadata": {},
   "outputs": [
    {
     "data": {
      "text/plain": [
       "6"
      ]
     },
     "execution_count": 23,
     "metadata": {},
     "output_type": "execute_result"
    }
   ],
   "source": [
    "multipy(2,3)"
   ]
  },
  {
   "cell_type": "code",
   "execution_count": 24,
   "id": "5fa74fa7",
   "metadata": {},
   "outputs": [
    {
     "ename": "AttributeError",
     "evalue": "'function' object has no attribute 'run'",
     "output_type": "error",
     "traceback": [
      "\u001b[31m---------------------------------------------------------------------------\u001b[39m",
      "\u001b[31mAttributeError\u001b[39m                            Traceback (most recent call last)",
      "\u001b[36mCell\u001b[39m\u001b[36m \u001b[39m\u001b[32mIn[24]\u001b[39m\u001b[32m, line 1\u001b[39m\n\u001b[32m----> \u001b[39m\u001b[32m1\u001b[39m \u001b[43mmultipy\u001b[49m\u001b[43m.\u001b[49m\u001b[43mrun\u001b[49m(\u001b[32m3\u001b[39m,\u001b[32m5\u001b[39m)\n",
      "\u001b[31mAttributeError\u001b[39m: 'function' object has no attribute 'run'"
     ]
    }
   ],
   "source": [
    "multipy.run(3,5)"
   ]
  },
  {
   "cell_type": "code",
   "execution_count": 25,
   "id": "f698fc47",
   "metadata": {},
   "outputs": [
    {
     "ename": "AttributeError",
     "evalue": "'function' object has no attribute 'invoke'",
     "output_type": "error",
     "traceback": [
      "\u001b[31m---------------------------------------------------------------------------\u001b[39m",
      "\u001b[31mAttributeError\u001b[39m                            Traceback (most recent call last)",
      "\u001b[36mCell\u001b[39m\u001b[36m \u001b[39m\u001b[32mIn[25]\u001b[39m\u001b[32m, line 1\u001b[39m\n\u001b[32m----> \u001b[39m\u001b[32m1\u001b[39m \u001b[43mmultipy\u001b[49m\u001b[43m.\u001b[49m\u001b[43minvoke\u001b[49m(\u001b[32m3\u001b[39m,\u001b[32m5\u001b[39m)\n",
      "\u001b[31mAttributeError\u001b[39m: 'function' object has no attribute 'invoke'"
     ]
    }
   ],
   "source": [
    "multipy.invoke(3,5)"
   ]
  },
  {
   "cell_type": "code",
   "execution_count": 27,
   "id": "6e14d8ad",
   "metadata": {},
   "outputs": [],
   "source": [
    "from langchain.agents import tool\n",
    "@tool\n",
    "def multipy(a:int,b:int)->int:\n",
    "    '''this tool is for multiplication'''\n",
    "    return a*b"
   ]
  },
  {
   "cell_type": "code",
   "execution_count": 28,
   "metadata": {},
   "outputs": [
    {
     "data": {
      "text/plain": [
       "65"
      ]
     },
     "execution_count": 28,
     "metadata": {},
     "output_type": "execute_result"
    }
   ],
   "source": [
    "multipy.invoke({\"a\":13,\"b\":5})"
   ]
  },
  {
   "cell_type": "code",
   "execution_count": 29,
   "id": "e8ededd8",
   "metadata": {},
   "outputs": [
    {
     "data": {
      "text/plain": [
       "'multipy'"
      ]
     },
     "execution_count": 29,
     "metadata": {},
     "output_type": "execute_result"
    }
   ],
   "source": [
    "multipy.name"
   ]
  },
  {
   "cell_type": "code",
   "execution_count": 30,
   "id": "ddb7bf8b",
   "metadata": {},
   "outputs": [
    {
     "data": {
      "text/plain": [
       "'this tool is for multiplication'"
      ]
     },
     "execution_count": 30,
     "metadata": {},
     "output_type": "execute_result"
    }
   ],
   "source": [
    "multipy.description"
   ]
  },
  {
   "cell_type": "code",
   "execution_count": 31,
   "id": "aa87c54a",
   "metadata": {},
   "outputs": [
    {
     "data": {
      "text/plain": [
       "{'a': {'title': 'A', 'type': 'integer'},\n",
       " 'b': {'title': 'B', 'type': 'integer'}}"
      ]
     },
     "execution_count": 31,
     "metadata": {},
     "output_type": "execute_result"
    }
   ],
   "source": [
    "multipy.args"
   ]
  },
  {
   "cell_type": "code",
   "execution_count": 32,
   "id": "6304c847",
   "metadata": {},
   "outputs": [],
   "source": [
    "def get_word_length(word:str)->int:\n",
    "    return len(word)"
   ]
  },
  {
   "cell_type": "code",
   "execution_count": 33,
   "id": "0d2e5e38",
   "metadata": {},
   "outputs": [
    {
     "data": {
      "text/plain": [
       "5"
      ]
     },
     "execution_count": 33,
     "metadata": {},
     "output_type": "execute_result"
    }
   ],
   "source": [
    "get_word_length(\"hello\")"
   ]
  },
  {
   "cell_type": "code",
   "execution_count": 34,
   "id": "05804bc5",
   "metadata": {},
   "outputs": [
    {
     "data": {
      "text/plain": [
       "25"
      ]
     },
     "execution_count": 34,
     "metadata": {},
     "output_type": "execute_result"
    }
   ],
   "source": [
    "get_word_length(\"india is the best country\")"
   ]
  },
  {
   "cell_type": "code",
   "execution_count": 35,
   "id": "b38f403b",
   "metadata": {},
   "outputs": [],
   "source": [
    "@tool\n",
    "def get_word_length(word:str)->int:\n",
    "    '''this tool returns the length of the word'''\n",
    "    return len(word)"
   ]
  },
  {
   "cell_type": "code",
   "execution_count": 36,
   "id": "438205cf",
   "metadata": {},
   "outputs": [
    {
     "data": {
      "text/plain": [
       "'get_word_length'"
      ]
     },
     "execution_count": 36,
     "metadata": {},
     "output_type": "execute_result"
    }
   ],
   "source": [
    "get_word_length.name"
   ]
  },
  {
   "cell_type": "code",
   "execution_count": 37,
   "id": "04e5167b",
   "metadata": {},
   "outputs": [
    {
     "data": {
      "text/plain": [
       "'this tool returns the length of the word'"
      ]
     },
     "execution_count": 37,
     "metadata": {},
     "output_type": "execute_result"
    }
   ],
   "source": [
    "get_word_length.description"
   ]
  },
  {
   "cell_type": "code",
   "execution_count": 38,
   "id": "4c3c4a1f",
   "metadata": {},
   "outputs": [
    {
     "data": {
      "text/plain": [
       "5"
      ]
     },
     "execution_count": 38,
     "metadata": {},
     "output_type": "execute_result"
    }
   ],
   "source": [
    "get_word_length.invoke(\"hello\")"
   ]
  },
  {
   "cell_type": "code",
   "execution_count": 39,
   "id": "bb6433a5",
   "metadata": {},
   "outputs": [
    {
     "data": {
      "text/plain": [
       "5"
      ]
     },
     "execution_count": 39,
     "metadata": {},
     "output_type": "execute_result"
    }
   ],
   "source": [
    "get_word_length.invoke({\"word\":\"hello\"})"
   ]
  }
 ],
 "metadata": {
  "kernelspec": {
   "display_name": "Python 3",
   "language": "python",
   "name": "python3"
  },
  "language_info": {
   "codemirror_mode": {
    "name": "ipython",
    "version": 3
   },
   "file_extension": ".py",
   "mimetype": "text/x-python",
   "name": "python",
   "nbconvert_exporter": "python",
   "pygments_lexer": "ipython3",
   "version": "3.13.5"
  }
 },
 "nbformat": 4,
 "nbformat_minor": 5
}
