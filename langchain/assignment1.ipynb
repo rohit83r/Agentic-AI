{
 "cells": [
  {
   "cell_type": "markdown",
   "id": "1e2caa00",
   "metadata": {},
   "source": [
    "### Assisgment:\n",
    "Create a simple assistant that uses any LLM and should be pydantic, when we ask about any product it should give you two information product Name, product details tentative price in USD (integer). use chat Prompt Template.\n"
   ]
  },
  {
   "cell_type": "code",
   "execution_count": 18,
   "id": "3e2f3897",
   "metadata": {},
   "outputs": [
    {
     "data": {
      "text/plain": [
       "True"
      ]
     },
     "execution_count": 18,
     "metadata": {},
     "output_type": "execute_result"
    }
   ],
   "source": [
    "import os \n",
    "from dotenv import load_dotenv\n",
    "load_dotenv()"
   ]
  },
  {
   "cell_type": "code",
   "execution_count": 19,
   "id": "058f79a6",
   "metadata": {},
   "outputs": [],
   "source": [
    "GROQ_API_KEY=os.getenv(\"GROQ_API_KEY\")\n",
    "LANGCHAIN_API_KEY=os.getenv(\"LANGCHAIN_API_KEY\")"
   ]
  },
  {
   "cell_type": "code",
   "execution_count": 20,
   "id": "296ee03b",
   "metadata": {},
   "outputs": [
    {
     "name": "stdout",
     "output_type": "stream",
     "text": [
      "name='Samsung Galaxy S23 Ultra' details='A high-end Android smartphone with a powerful camera system and impressive display.' price='$1,199'\n"
     ]
    }
   ],
   "source": [
    "# ✅ Required imports\n",
    "from langchain_core.output_parsers import PydanticOutputParser\n",
    "from pydantic import BaseModel, Field\n",
    "from langchain_core.prompts import ChatPromptTemplate\n",
    "from langchain_groq import ChatGroq\n",
    "\n",
    "# ✅ Define the Pydantic model\n",
    "class Product(BaseModel):\n",
    "    name: str = Field(description=\"Name of the product\")\n",
    "    details: str = Field(description=\"Short description of the product\")\n",
    "    price: str = Field(description=\"Tentative price of the product\")\n",
    "\n",
    "# ✅ Initialize the model\n",
    "model = ChatGroq(model=\"gemma2-9b-it\") \n",
    "\n",
    "# ✅ Output parser\n",
    "output_parser = PydanticOutputParser(pydantic_object=Product)\n",
    "\n",
    "# ✅ Prompt template with dynamic format instructions\n",
    "prompt = ChatPromptTemplate.from_messages(\n",
    "    [\n",
    "        (\"system\", \"Provide the name, details, and a tentative price for the product in JSON format.\\n{format_instructions}\"),\n",
    "        (\"human\", \"{input}\"),\n",
    "    ]\n",
    ")\n",
    "\n",
    "# ✅ Format prompt with parser instructions\n",
    "chain = prompt.partial(format_instructions=output_parser.get_format_instructions()) | model | output_parser\n",
    "\n",
    "# ✅ Run the chain\n",
    "result = chain.invoke({\"input\": \"Samsung galaxy s23 ultra\"})\n",
    "print(result)\n"
   ]
  }
 ],
 "metadata": {
  "kernelspec": {
   "display_name": "Python 3",
   "language": "python",
   "name": "python3"
  },
  "language_info": {
   "codemirror_mode": {
    "name": "ipython",
    "version": 3
   },
   "file_extension": ".py",
   "mimetype": "text/x-python",
   "name": "python",
   "nbconvert_exporter": "python",
   "pygments_lexer": "ipython3",
   "version": "3.13.5"
  }
 },
 "nbformat": 4,
 "nbformat_minor": 5
}
