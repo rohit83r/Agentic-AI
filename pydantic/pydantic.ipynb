{
 "cells": [
  {
   "cell_type": "markdown",
   "id": "04529372",
   "metadata": {},
   "source": [
    "# Pydantic\n",
    "Pydantic is a data validation and settings management library for Python, based on type annotations\n",
    "It allows you to define data models with type hints, and it automatically validates the data against these models."
   ]
  },
  {
   "cell_type": "code",
   "execution_count": 6,
   "id": "7eb69208",
   "metadata": {},
   "outputs": [
    {
     "name": "stdout",
     "output_type": "stream",
     "text": [
      "Requirement already satisfied: pydantic in a:\\agentic\\venv\\lib\\site-packages (2.11.7)\n",
      "Requirement already satisfied: annotated-types>=0.6.0 in a:\\agentic\\venv\\lib\\site-packages (from pydantic) (0.7.0)\n",
      "Requirement already satisfied: pydantic-core==2.33.2 in a:\\agentic\\venv\\lib\\site-packages (from pydantic) (2.33.2)\n",
      "Requirement already satisfied: typing-extensions>=4.12.2 in a:\\agentic\\venv\\lib\\site-packages (from pydantic) (4.14.0)\n",
      "Requirement already satisfied: typing-inspection>=0.4.0 in a:\\agentic\\venv\\lib\\site-packages (from pydantic) (0.4.1)\n",
      "Note: you may need to restart the kernel to use updated packages.\n"
     ]
    }
   ],
   "source": [
    "pip install pydantic"
   ]
  },
  {
   "cell_type": "code",
   "execution_count": 7,
   "id": "0bae37e9",
   "metadata": {},
   "outputs": [],
   "source": [
    "from pydantic import BaseModel"
   ]
  },
  {
   "cell_type": "code",
   "execution_count": 8,
   "id": "9f392455",
   "metadata": {},
   "outputs": [
    {
     "name": "stdout",
     "output_type": "stream",
     "text": [
      "id=1 name='John Doe' username='johndoe' age=30\n"
     ]
    }
   ],
   "source": [
    "class User(BaseModel):\n",
    "    id:int\n",
    "    name:str\n",
    "    username:str\n",
    "    age:int\n",
    "\n",
    "# Example usage\n",
    "user = User(id=1, name=\"John Doe\", username=\"johndoe\", age=30)\n",
    "print(user)"
   ]
  },
  {
   "cell_type": "markdown",
   "id": "e881e72e",
   "metadata": {},
   "source": [
    " Explanation:\n",
    " Pydantic is a data validation and settings management library for Python, based on type annotations.\n",
    " It allows you to define data models with type hints, and it automatically validates the data against\n",
    " these models. In this example, we define a `User` model with fields `id`, `name`, `username`, and `age`.\n",
    " When we create an instance of `User`, Pydantic checks that the provided data matches the specified types."
   ]
  },
  {
   "cell_type": "code",
   "execution_count": null,
   "id": "565b9a8a",
   "metadata": {},
   "outputs": [],
   "source": []
  },
  {
   "cell_type": "code",
   "execution_count": null,
   "id": "b457149d",
   "metadata": {},
   "outputs": [],
   "source": []
  },
  {
   "cell_type": "code",
   "execution_count": null,
   "id": "099fc8bb",
   "metadata": {},
   "outputs": [],
   "source": []
  },
  {
   "cell_type": "code",
   "execution_count": null,
   "id": "da19c3b4",
   "metadata": {},
   "outputs": [],
   "source": []
  },
  {
   "cell_type": "code",
   "execution_count": null,
   "id": "941e99d3",
   "metadata": {},
   "outputs": [],
   "source": []
  }
 ],
 "metadata": {
  "kernelspec": {
   "display_name": "Python 3",
   "language": "python",
   "name": "python3"
  },
  "language_info": {
   "codemirror_mode": {
    "name": "ipython",
    "version": 3
   },
   "file_extension": ".py",
   "mimetype": "text/x-python",
   "name": "python",
   "nbconvert_exporter": "python",
   "pygments_lexer": "ipython3",
   "version": "3.13.5"
  }
 },
 "nbformat": 4,
 "nbformat_minor": 5
}
