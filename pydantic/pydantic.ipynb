{
 "cells": [
  {
   "cell_type": "markdown",
   "id": "04529372",
   "metadata": {},
   "source": [
    "# Pydantic\n",
    "Pydantic is a data validation and settings management library for Python, based on type annotations\n",
    "It allows you to define data models with type hints, and it automatically validates the data against these models."
   ]
  },
  {
   "cell_type": "code",
   "id": "50558ebe",
   "metadata": {
    "ExecuteTime": {
     "end_time": "2025-07-01T06:29:17.184044Z",
     "start_time": "2025-07-01T06:29:17.178184Z"
    }
   },
   "source": [
    "from dataclasses import dataclass\n",
    "\n",
    "@dataclass\n",
    "class User:\n",
    "    id: int\n",
    "    name: str\n",
    "    username: str\n",
    "    age: int    \n",
    "\n",
    "# Example usage\n",
    "user = User(id=1, name=\"John Doe\", username=\"johndoe\",\n",
    "            age=30)\n",
    "print(user)"
   ],
   "outputs": [
    {
     "name": "stdout",
     "output_type": "stream",
     "text": [
      "User(id=1, name='John Doe', username='johndoe', age=30)\n"
     ]
    }
   ],
   "execution_count": 1
  },
  {
   "cell_type": "code",
   "id": "9c06e030",
   "metadata": {
    "ExecuteTime": {
     "end_time": "2025-07-01T06:29:17.324451Z",
     "start_time": "2025-07-01T06:29:17.319098Z"
    }
   },
   "source": [
    "# Example usage\n",
    "user = User(id=\"as\", name=\"John Doe\", username=54,\n",
    "            age=30)\n",
    "print(user)"
   ],
   "outputs": [
    {
     "name": "stdout",
     "output_type": "stream",
     "text": [
      "User(id='as', name='John Doe', username=54, age=30)\n"
     ]
    }
   ],
   "execution_count": 2
  },
  {
   "cell_type": "code",
   "id": "7eb69208",
   "metadata": {
    "ExecuteTime": {
     "end_time": "2025-07-01T06:29:19.876143Z",
     "start_time": "2025-07-01T06:29:17.868499Z"
    }
   },
   "source": [
    "pip install pydantic"
   ],
   "outputs": [
    {
     "name": "stdout",
     "output_type": "stream",
     "text": [
      "Requirement already satisfied: pydantic in a:\\agentic\\venv\\lib\\site-packages (2.11.7)\n",
      "Requirement already satisfied: annotated-types>=0.6.0 in a:\\agentic\\venv\\lib\\site-packages (from pydantic) (0.7.0)\n",
      "Requirement already satisfied: pydantic-core==2.33.2 in a:\\agentic\\venv\\lib\\site-packages (from pydantic) (2.33.2)\n",
      "Requirement already satisfied: typing-extensions>=4.12.2 in a:\\agentic\\venv\\lib\\site-packages (from pydantic) (4.12.2)\n",
      "Requirement already satisfied: typing-inspection>=0.4.0 in a:\\agentic\\venv\\lib\\site-packages (from pydantic) (0.4.1)\n",
      "Note: you may need to restart the kernel to use updated packages.\n"
     ]
    }
   ],
   "execution_count": 3
  },
  {
   "cell_type": "code",
   "id": "0bae37e9",
   "metadata": {
    "ExecuteTime": {
     "end_time": "2025-07-01T06:29:20.028195Z",
     "start_time": "2025-07-01T06:29:19.897529Z"
    }
   },
   "source": [
    "from pydantic import BaseModel"
   ],
   "outputs": [],
   "execution_count": 4
  },
  {
   "cell_type": "code",
   "id": "9f392455",
   "metadata": {
    "ExecuteTime": {
     "end_time": "2025-07-01T06:29:20.103964Z",
     "start_time": "2025-07-01T06:29:20.048286Z"
    }
   },
   "source": [
    "class User1(BaseModel):\n",
    "    id:int\n",
    "    name:str\n",
    "    username:str\n",
    "    age:int\n",
    "\n",
    "# Example usage\n",
    "user = User1(id=1, name=\"John Doe\", username=\"johndoe\", age=30)\n",
    "print(user)"
   ],
   "outputs": [
    {
     "name": "stdout",
     "output_type": "stream",
     "text": [
      "id=1 name='John Doe' username='johndoe' age=30\n"
     ]
    }
   ],
   "execution_count": 5
  },
  {
   "cell_type": "code",
   "id": "23ae9b5f",
   "metadata": {
    "ExecuteTime": {
     "end_time": "2025-07-01T06:29:20.478472Z",
     "start_time": "2025-07-01T06:29:20.119767Z"
    }
   },
   "source": [
    "# Example usage\n",
    "user = User1(id=\"as\", name=\"John Doe\", username=\"johndoe\", age=30)\n",
    "print(user)"
   ],
   "outputs": [
    {
     "ename": "ValidationError",
     "evalue": "1 validation error for User1\nid\n  Input should be a valid integer, unable to parse string as an integer [type=int_parsing, input_value='as', input_type=str]\n    For further information visit https://errors.pydantic.dev/2.11/v/int_parsing",
     "output_type": "error",
     "traceback": [
      "\u001B[31m---------------------------------------------------------------------------\u001B[39m",
      "\u001B[31mValidationError\u001B[39m                           Traceback (most recent call last)",
      "\u001B[36mCell\u001B[39m\u001B[36m \u001B[39m\u001B[32mIn[6]\u001B[39m\u001B[32m, line 2\u001B[39m\n\u001B[32m      1\u001B[39m \u001B[38;5;66;03m# Example usage\u001B[39;00m\n\u001B[32m----> \u001B[39m\u001B[32m2\u001B[39m user = \u001B[43mUser1\u001B[49m\u001B[43m(\u001B[49m\u001B[38;5;28;43mid\u001B[39;49m\u001B[43m=\u001B[49m\u001B[33;43m\"\u001B[39;49m\u001B[33;43mas\u001B[39;49m\u001B[33;43m\"\u001B[39;49m\u001B[43m,\u001B[49m\u001B[43m \u001B[49m\u001B[43mname\u001B[49m\u001B[43m=\u001B[49m\u001B[33;43m\"\u001B[39;49m\u001B[33;43mJohn Doe\u001B[39;49m\u001B[33;43m\"\u001B[39;49m\u001B[43m,\u001B[49m\u001B[43m \u001B[49m\u001B[43musername\u001B[49m\u001B[43m=\u001B[49m\u001B[33;43m\"\u001B[39;49m\u001B[33;43mjohndoe\u001B[39;49m\u001B[33;43m\"\u001B[39;49m\u001B[43m,\u001B[49m\u001B[43m \u001B[49m\u001B[43mage\u001B[49m\u001B[43m=\u001B[49m\u001B[32;43m30\u001B[39;49m\u001B[43m)\u001B[49m\n\u001B[32m      3\u001B[39m \u001B[38;5;28mprint\u001B[39m(user)\n",
      "\u001B[36mFile \u001B[39m\u001B[32ma:\\Agentic\\venv\\Lib\\site-packages\\pydantic\\main.py:253\u001B[39m, in \u001B[36mBaseModel.__init__\u001B[39m\u001B[34m(self, **data)\u001B[39m\n\u001B[32m    251\u001B[39m \u001B[38;5;66;03m# `__tracebackhide__` tells pytest and some other tools to omit this function from tracebacks\u001B[39;00m\n\u001B[32m    252\u001B[39m __tracebackhide__ = \u001B[38;5;28;01mTrue\u001B[39;00m\n\u001B[32m--> \u001B[39m\u001B[32m253\u001B[39m validated_self = \u001B[38;5;28;43mself\u001B[39;49m\u001B[43m.\u001B[49m\u001B[43m__pydantic_validator__\u001B[49m\u001B[43m.\u001B[49m\u001B[43mvalidate_python\u001B[49m\u001B[43m(\u001B[49m\u001B[43mdata\u001B[49m\u001B[43m,\u001B[49m\u001B[43m \u001B[49m\u001B[43mself_instance\u001B[49m\u001B[43m=\u001B[49m\u001B[38;5;28;43mself\u001B[39;49m\u001B[43m)\u001B[49m\n\u001B[32m    254\u001B[39m \u001B[38;5;28;01mif\u001B[39;00m \u001B[38;5;28mself\u001B[39m \u001B[38;5;129;01mis\u001B[39;00m \u001B[38;5;129;01mnot\u001B[39;00m validated_self:\n\u001B[32m    255\u001B[39m     warnings.warn(\n\u001B[32m    256\u001B[39m         \u001B[33m'\u001B[39m\u001B[33mA custom validator is returning a value other than `self`.\u001B[39m\u001B[38;5;130;01m\\n\u001B[39;00m\u001B[33m'\u001B[39m\n\u001B[32m    257\u001B[39m         \u001B[33m\"\u001B[39m\u001B[33mReturning anything other than `self` from a top level model validator isn\u001B[39m\u001B[33m'\u001B[39m\u001B[33mt supported when validating via `__init__`.\u001B[39m\u001B[38;5;130;01m\\n\u001B[39;00m\u001B[33m\"\u001B[39m\n\u001B[32m    258\u001B[39m         \u001B[33m'\u001B[39m\u001B[33mSee the `model_validator` docs (https://docs.pydantic.dev/latest/concepts/validators/#model-validators) for more details.\u001B[39m\u001B[33m'\u001B[39m,\n\u001B[32m    259\u001B[39m         stacklevel=\u001B[32m2\u001B[39m,\n\u001B[32m    260\u001B[39m     )\n",
      "\u001B[31mValidationError\u001B[39m: 1 validation error for User1\nid\n  Input should be a valid integer, unable to parse string as an integer [type=int_parsing, input_value='as', input_type=str]\n    For further information visit https://errors.pydantic.dev/2.11/v/int_parsing"
     ]
    }
   ],
   "execution_count": 6
  },
  {
   "cell_type": "markdown",
   "id": "e881e72e",
   "metadata": {},
   "source": [
    " Explanation:\n",
    " Pydantic is a data validation and settings management library for Python, based on type annotations.\n",
    " It allows you to define data models with type hints, and it automatically validates the data against\n",
    " these models. In this example, we define a `User` model with fields `id`, `name`, `username`, and `age`.\n",
    " When we create an instance of `User`, Pydantic checks that the provided data matches the specified types."
   ]
  },
  {
   "cell_type": "markdown",
   "id": "42b8e5a4",
   "metadata": {},
   "source": [
    "## 2 . Model with Optional Fields\n",
    "add optional fields using Optional from typing"
   ]
  },
  {
   "cell_type": "code",
   "execution_count": 16,
   "id": "565b9a8a",
   "metadata": {},
   "outputs": [],
   "source": [
    "from typing import Optional\n",
    "\n",
    "class Employee(BaseModel):\n",
    "    id: int\n",
    "    name: str\n",
    "    username: str\n",
    "    age: Optional[int]=32  # Optional field with default value\n",
    "    salary : Optional[float] # Optional field\n",
    "    is_active: bool = True  # Default value"
   ]
  },
  {
   "cell_type": "code",
   "execution_count": 18,
   "id": "b457149d",
   "metadata": {},
   "outputs": [
    {
     "name": "stdout",
     "output_type": "stream",
     "text": [
      "id=1 name='John Doe' username='johndoe' age=30 salary=50000.0 is_active=True\n"
     ]
    }
   ],
   "source": [
    "emp1=Employee(id=1,name=\"John Doe\", username=\"johndoe\", age=30, salary=50000.0)\n",
    "print(emp1)"
   ]
  },
  {
   "cell_type": "code",
   "execution_count": 20,
   "id": "099fc8bb",
   "metadata": {},
   "outputs": [
    {
     "name": "stdout",
     "output_type": "stream",
     "text": [
      "id=2 name='Jane Smith' username='janesmith' age=25 salary=None is_active=False\n"
     ]
    }
   ],
   "source": [
    "emp2=Employee(id=2, name=\"Jane Smith\", username=\"janesmith\", age=25, salary=None, is_active=False)\n",
    "print(emp2)"
   ]
  },
  {
   "cell_type": "markdown",
   "id": "018a83fb",
   "metadata": {},
   "source": [
    "Definition:\n",
    "- Optional[type]: Indicates the field can be None\n",
    "\n",
    "- Default value (= None or = True): Makes the field optional\n",
    "\n",
    "- Required fields must still be provided\n",
    "\n",
    "- Pydantic validates types even for optional fields when values are provided"
   ]
  },
  {
   "cell_type": "code",
   "execution_count": 21,
   "id": "da19c3b4",
   "metadata": {},
   "outputs": [
    {
     "name": "stdout",
     "output_type": "stream",
     "text": [
      "employees=[Employee(id=1, name='John Doe', username='johndoe', age=30, salary=50000.0, is_active=True), Employee(id=2, name='Jane Smith', username='janesmith', age=25, salary=None, is_active=False)]\n",
      "John Doe\n"
     ]
    }
   ],
   "source": [
    "# List \n",
    "from typing import List\n",
    "class EmployeeList(BaseModel):\n",
    "    employees: List[Employee]\n",
    "emp_list = EmployeeList(employees=[emp1, emp2])\n",
    "print(emp_list)\n",
    "print(emp_list.employees[0].name)  # Accessing the name of the first\n"
   ]
  },
  {
   "cell_type": "code",
   "execution_count": 22,
   "id": "941e99d3",
   "metadata": {},
   "outputs": [],
   "source": [
    "class Classroom(BaseModel):\n",
    "    name: str\n",
    "    students: List[str]\n",
    "    capacity: int"
   ]
  },
  {
   "cell_type": "code",
   "execution_count": 24,
   "id": "25ad3f97",
   "metadata": {},
   "outputs": [
    {
     "name": "stdout",
     "output_type": "stream",
     "text": [
      "name='Math 101' students=['Alice', 'Bob'] capacity=30\n"
     ]
    }
   ],
   "source": [
    "# create a Classroom instance\n",
    "classroom = Classroom(name=\"Math 101\", students=[\"Alice\", \"Bob\"], capacity=30)\n",
    "print(classroom)"
   ]
  },
  {
   "cell_type": "code",
   "execution_count": 27,
   "id": "be71a2f8",
   "metadata": {},
   "outputs": [
    {
     "name": "stdout",
     "output_type": "stream",
     "text": [
      "name='Science 101' students=['Charlie', 'David'] capacity=25\n"
     ]
    }
   ],
   "source": [
    "classroom2= Classroom(name=\"Science 101\", students=(\"Charlie\", \"David\"), capacity=25)\n",
    "print(classroom2)\n",
    "# auto convert tuple to list"
   ]
  },
  {
   "cell_type": "code",
   "execution_count": 28,
   "id": "4f5df5dc",
   "metadata": {},
   "outputs": [
    {
     "ename": "ValidationError",
     "evalue": "1 validation error for Classroom\nstudents.0\n  Input should be a valid string [type=string_type, input_value=12, input_type=int]\n    For further information visit https://errors.pydantic.dev/2.11/v/string_type",
     "output_type": "error",
     "traceback": [
      "\u001B[31m---------------------------------------------------------------------------\u001B[39m",
      "\u001B[31mValidationError\u001B[39m                           Traceback (most recent call last)",
      "\u001B[36mCell\u001B[39m\u001B[36m \u001B[39m\u001B[32mIn[28]\u001B[39m\u001B[32m, line 1\u001B[39m\n\u001B[32m----> \u001B[39m\u001B[32m1\u001B[39m classroom3= \u001B[43mClassroom\u001B[49m\u001B[43m(\u001B[49m\u001B[43mname\u001B[49m\u001B[43m=\u001B[49m\u001B[33;43m\"\u001B[39;49m\u001B[33;43mHistory 101\u001B[39;49m\u001B[33;43m\"\u001B[39;49m\u001B[43m,\u001B[49m\u001B[43m \u001B[49m\u001B[43mstudents\u001B[49m\u001B[43m=\u001B[49m\u001B[43m[\u001B[49m\u001B[32;43m12\u001B[39;49m\u001B[43m,\u001B[49m\u001B[43m \u001B[49m\u001B[33;43m\"\u001B[39;49m\u001B[33;43mFrank\u001B[39;49m\u001B[33;43m\"\u001B[39;49m\u001B[43m]\u001B[49m\u001B[43m,\u001B[49m\u001B[43m \u001B[49m\u001B[43mcapacity\u001B[49m\u001B[43m=\u001B[49m\u001B[32;43m20\u001B[39;49m\u001B[43m)\u001B[49m\n\u001B[32m      2\u001B[39m \u001B[38;5;28mprint\u001B[39m(classroom3)\n",
      "\u001B[36mFile \u001B[39m\u001B[32ma:\\Agentic\\venv\\Lib\\site-packages\\pydantic\\main.py:253\u001B[39m, in \u001B[36mBaseModel.__init__\u001B[39m\u001B[34m(self, **data)\u001B[39m\n\u001B[32m    251\u001B[39m \u001B[38;5;66;03m# `__tracebackhide__` tells pytest and some other tools to omit this function from tracebacks\u001B[39;00m\n\u001B[32m    252\u001B[39m __tracebackhide__ = \u001B[38;5;28;01mTrue\u001B[39;00m\n\u001B[32m--> \u001B[39m\u001B[32m253\u001B[39m validated_self = \u001B[38;5;28;43mself\u001B[39;49m\u001B[43m.\u001B[49m\u001B[43m__pydantic_validator__\u001B[49m\u001B[43m.\u001B[49m\u001B[43mvalidate_python\u001B[49m\u001B[43m(\u001B[49m\u001B[43mdata\u001B[49m\u001B[43m,\u001B[49m\u001B[43m \u001B[49m\u001B[43mself_instance\u001B[49m\u001B[43m=\u001B[49m\u001B[38;5;28;43mself\u001B[39;49m\u001B[43m)\u001B[49m\n\u001B[32m    254\u001B[39m \u001B[38;5;28;01mif\u001B[39;00m \u001B[38;5;28mself\u001B[39m \u001B[38;5;129;01mis\u001B[39;00m \u001B[38;5;129;01mnot\u001B[39;00m validated_self:\n\u001B[32m    255\u001B[39m     warnings.warn(\n\u001B[32m    256\u001B[39m         \u001B[33m'\u001B[39m\u001B[33mA custom validator is returning a value other than `self`.\u001B[39m\u001B[38;5;130;01m\\n\u001B[39;00m\u001B[33m'\u001B[39m\n\u001B[32m    257\u001B[39m         \u001B[33m\"\u001B[39m\u001B[33mReturning anything other than `self` from a top level model validator isn\u001B[39m\u001B[33m'\u001B[39m\u001B[33mt supported when validating via `__init__`.\u001B[39m\u001B[38;5;130;01m\\n\u001B[39;00m\u001B[33m\"\u001B[39m\n\u001B[32m    258\u001B[39m         \u001B[33m'\u001B[39m\u001B[33mSee the `model_validator` docs (https://docs.pydantic.dev/latest/concepts/validators/#model-validators) for more details.\u001B[39m\u001B[33m'\u001B[39m,\n\u001B[32m    259\u001B[39m         stacklevel=\u001B[32m2\u001B[39m,\n\u001B[32m    260\u001B[39m     )\n",
      "\u001B[31mValidationError\u001B[39m: 1 validation error for Classroom\nstudents.0\n  Input should be a valid string [type=string_type, input_value=12, input_type=int]\n    For further information visit https://errors.pydantic.dev/2.11/v/string_type"
     ]
    }
   ],
   "source": [
    "classroom3= Classroom(name=\"History 101\", students=[12, \"Frank\"], capacity=20)\n",
    "print(classroom3)"
   ]
  },
  {
   "cell_type": "markdown",
   "id": "946c19fc",
   "metadata": {},
   "source": [
    "#### 4. Model with Nested Models\n",
    "Create complex structures with nested models:"
   ]
  },
  {
   "cell_type": "code",
   "execution_count": 29,
   "id": "91c22ba6",
   "metadata": {},
   "outputs": [],
   "source": [
    "# Nested Models\n",
    "class Address(BaseModel):\n",
    "    street: str\n",
    "    city: str\n",
    "    zip_code: str\n",
    "    \n",
    "class UserWithAddress(BaseModel):\n",
    "    id: int\n",
    "    name: str\n",
    "    username: str\n",
    "    age: int\n",
    "    address: Address"
   ]
  },
  {
   "cell_type": "code",
   "execution_count": 30,
   "id": "27982a63",
   "metadata": {},
   "outputs": [
    {
     "name": "stdout",
     "output_type": "stream",
     "text": [
      "id=1 name='John Doe' username='johndoe' age=30 address=Address(street='123 Main St', city='Anytown', zip_code='12345')\n"
     ]
    }
   ],
   "source": [
    "user_with_address = UserWithAddress(\n",
    "    id=1,\n",
    "    name=\"John Doe\",\n",
    "    username=\"johndoe\",\n",
    "    age=30,\n",
    "    address=Address(\n",
    "        street=\"123 Main St\",\n",
    "        city=\"Anytown\",\n",
    "        zip_code=\"12345\"\n",
    "    )\n",
    ")\n",
    "print(user_with_address)"
   ]
  },
  {
   "cell_type": "markdown",
   "id": "95af9fb6",
   "metadata": {},
   "source": [
    "#### Pydantic Fields: Customization and Constraints\n",
    "\n",
    "The Field function in Pydantic enhances model fields beyond basic type hints by allowing you to specify validation rules, default values, aliases, and more. Here's a comprehensive tutorial with examples."
   ]
  },
  {
   "cell_type": "code",
   "execution_count": null,
   "id": "542e9f11",
   "metadata": {},
   "outputs": [],
   "source": [
    "# Constraints and Validation\n",
    "# common constraints are : min_length, max_length, min_items, max_items , gt, ge, lt, le"
   ]
  },
  {
   "cell_type": "code",
   "execution_count": 39,
   "id": "7e581685",
   "metadata": {},
   "outputs": [
    {
     "name": "stdout",
     "output_type": "stream",
     "text": [
      "email='johndoe' password='password123' age=30\n"
     ]
    }
   ],
   "source": [
    "from pydantic import BaseModel, Field, EmailStr\n",
    "\n",
    "class UserEmail(BaseModel):\n",
    "    email: str  # Email must be a valid format\n",
    "    password: str=Field(min_length=8, max_length=128)\n",
    "    age:int=Field(gt=0, le=100)  # Age must be greater than 0 and less than or equal to 120\n",
    "\n",
    "# Example usage\n",
    "user = UserEmail(email=\"johndoe\", password=\"password123\", age=30)\n",
    "print(user)\n",
    "# Example usage"
   ]
  },
  {
   "cell_type": "code",
   "execution_count": null,
   "id": "e418e1b0",
   "metadata": {},
   "outputs": [
    {
     "data": {
      "text/plain": [
       "{'properties': {'email': {'title': 'Email', 'type': 'string'},\n",
       "  'password': {'maxLength': 128,\n",
       "   'minLength': 8,\n",
       "   'title': 'Password',\n",
       "   'type': 'string'},\n",
       "  'age': {'exclusiveMinimum': 0,\n",
       "   'maximum': 100,\n",
       "   'title': 'Age',\n",
       "   'type': 'integer'}},\n",
       " 'required': ['email', 'password', 'age'],\n",
       " 'title': 'UserEmail',\n",
       " 'type': 'object'}"
      ]
     },
     "execution_count": 41,
     "metadata": {},
     "output_type": "execute_result"
    }
   ],
   "source": [
    "UserEmail.model_json_schema()  # Generate JSON schema for the User1 model\n"
   ]
  }
 ],
 "metadata": {
  "kernelspec": {
   "display_name": "Python 3",
   "language": "python",
   "name": "python3"
  },
  "language_info": {
   "codemirror_mode": {
    "name": "ipython",
    "version": 3
   },
   "file_extension": ".py",
   "mimetype": "text/x-python",
   "name": "python",
   "nbconvert_exporter": "python",
   "pygments_lexer": "ipython3",
   "version": "3.13.5"
  }
 },
 "nbformat": 4,
 "nbformat_minor": 5
}
